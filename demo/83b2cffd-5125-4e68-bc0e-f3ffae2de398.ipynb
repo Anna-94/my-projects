{
 "cells": [
  {
   "cell_type": "markdown",
   "metadata": {},
   "source": [
    "<div style=\"border:solid green 2px; padding: 20px\">\n",
    "<b>Привет, Анна!</b>\n",
    "\n",
    "Меня зовут Григорий Гусаров, и я буду проверять твой проект. Предлагаю общаться на «ты» :) Но если это не удобно - дай знать, и мы перейдем на \"вы\". \n",
    "\n",
    "Моя основная цель — не указать на совершенные тобою ошибки, а поделиться своим опытом и помочь тебе стать аналитиком данных. Ниже ты найдешь мои комментарии - пожалуйста, не перемещай, не изменяй и не удаляй их. Я буду использовать цветовую разметку:\n",
    "\n",
    "<div class=\"alert alert-danger\">\n",
    "<b>Комментарий ревьюера:</b> Так выделены самые важные замечания. Без их отработки проект не будет принят. </div>\n",
    "\n",
    "<div class=\"alert alert-warning\">\n",
    "<b>Комментарий ревьюера:</b> Так выделены дополнительные материалы и развивающие замечания. Их отработка остается на твое усмотрение.\n",
    "</div>\n",
    "\n",
    "<div class=\"alert alert-success\">\n",
    "<b>Комментарий ревьюера:</b> Так я выделяю все остальные комментарии.</div>\n",
    "\n",
    "Давай работать над проектом в диалоге: если ты что-то меняешь в проекте или отвечаешь на мои комменатри — пиши об этом. Мне будет легче отследить изменения, если ты выделишь свои комментарии:\n",
    "<div class=\"alert alert-info\"> <b>Комментарий студента:</b> Например, вот так.</div>\n",
    "\n",
    "Всё это поможет выполнить повторную проверку твоего проекта оперативнее. \n",
    "    \n",
    "</div>    "
   ]
  },
  {
   "cell_type": "markdown",
   "metadata": {},
   "source": [
    "### <font color='orange'>Общий отзыв</font>\n",
    "Спасибо за присланную работу! Стильные графики, глубокие (если есть) выводы - впечатляющая работа. Помарки касаются оформления и  легко устранимы. \n",
    "\n",
    "<div class=\"alert alert-info\"> <b>Комментарий студента:</b> Привет, Григорий! Спасибо за полезные комментарии и советы по проекту! Очень приятно видеть высокую оценку своей работы и осознавать, что неплохо применяешь полученные знания на практике! Все замечания постаралась исправить. Там, где дорабатывала, оставляла комментарий. </div>\n",
    "\n",
    "**Обновление**:<br>\n",
    "Спасибо за обновление, проект принят!"
   ]
  },
  {
   "cell_type": "markdown",
   "metadata": {},
   "source": [
    "\n",
    "<div class=\"alert alert-warning\">\n",
    "<b>Комментарий ревьюера: </b>Дополнительные ссылки:\n",
    "    <ul>\n",
    "        <li>Сравнение barplot и pie chart: <a>https://chartio.com/learn/charts/how-to-choose-pie-chart-vs-bar-chart/</a></li>\n",
    "        <li>Pandas profilier: <a>https://github.com/pandas-profiling/pandas-profiling</a></li>\n",
    "        <li>Топ 50 визуализзаций на matplotlib: <a>https://www.machinelearningplus.com/plots/top-50-matplotlib-visualizations-the-master-plots-python/</a></li>\n",
    "    </ul>\n",
    "</div>"
   ]
  },
  {
   "cell_type": "markdown",
   "metadata": {},
   "source": [
    "# Рынок заведений общественного питания Москвы\n",
    "\n",
    "### Описание проекта\n",
    "Мы решили открыть небольшое кафе в Москве. Оно оригинальное — гостей должны обслуживать роботы. Проект многообещающий, но дорогой. Вместе с партнёрами мы решились обратиться к инвесторам. Их интересует текущее положение дел на рынке — возможно ли снискать популярность на долгое время, когда все зеваки насмотрятся на роботов-официантов?\n",
    "\n",
    "\n",
    "### Инструкция по выполнению проекта\n",
    "### [Шаг №1. Загрузите данные и подготовьте их к анализу](#step1)\n",
    "Загрузим данные о заведениях общественного питания Москвы. Убедимся, что тип данных в каждой колонке — правильный, а также отсутствуют пропущенные значения и дубликаты. При необходимости обработаем их.\n",
    "\n",
    "\n",
    "### [Шаг №2. Анализ данных](#step2)\n",
    "- [Исследуем соотношение видов объектов общественного питания по количеству. Построим график.](#item_1)\n",
    "- [Исследуем соотношение сетевых и несетевых заведений по количеству. Построим график.](#item_2)\n",
    "- [Для какого вида объекта общественного питания характерно сетевое распространение?](#item_3)\n",
    "- [Что характерно для сетевых заведений: много заведений с небольшим числом посадочных мест в каждом или мало заведений с большим количеством посадочных мест?](#item_4)\n",
    "- [Для каждого вида объекта общественного питания опишите среднее количество посадочных мест. Какой вид предоставляет в среднем самое большое количество посадочных мест? Построим графики.](#item_5)\n",
    "- [Выделим в отдельный столбец информацию об улице из столбца address .](#item_6)\n",
    "- [Построим график топ-10 улиц по количеству объектов общественного питания. Воспользуемся внешней информацией и ответим на вопрос — в каких районах Москвы находятся эти улицы?](#item_7)\n",
    "- [Найдем число улиц с одним объектом общественного питания. Воспользуемся внешней информацией и ответим на вопрос — в каких районах Москвы находятся эти улицы?](#item_8)\n",
    "- [Посмотрим на распределение количества посадочных мест для улиц с большим количеством объектов общественного питания. Какие закономерности можно выявить?](#item_9)\n",
    "\n",
    "[Сделайем общий вывод и дадим рекомендации о виде заведения, количестве посадочных мест, а также районе расположения. Прокомментируем возможность развития сети.](#step_10)\n",
    "\n",
    "\n",
    "### [Шаг №3. Подготовка презентации](#step3)\n",
    "Подготовим презентацию исследования для инвесторов. Ссылка на презентацию в формате pdf приложена в конце проекта.\n",
    "\n",
    "### Описание данных\n",
    "#### Таблица rest_data:\n",
    "\n",
    "- id — идентификатор объекта;\n",
    "- object_name — название объекта общественного питания;\n",
    "- chain — сетевой ресторан;\n",
    "- object_type — тип объекта общественного питания;\n",
    "- address — адрес;\n",
    "- number — количество посадочных мест."
   ]
  },
  {
   "cell_type": "markdown",
   "metadata": {},
   "source": [
    "<div class=\"alert alert-warning\">\n",
    "<b>Комментарий ревьюера:</b> Отличное встуление, здорово, что ты добавила интерактивное оглавление. Описание проекта можно улучшить переформулировав его с твоей позиции аналитика.\n",
    "</div>"
   ]
  },
  {
   "cell_type": "markdown",
   "metadata": {},
   "source": [
    "<div class=\"alert alert-info\"> <b>Комментарий студента:</b> Переформулировала. На самом деле, в каждом проекте думала так сделать, но в итоге руки не доходили и просто копировала информацию из описания к проекту) </div>"
   ]
  },
  {
   "cell_type": "markdown",
   "metadata": {},
   "source": [
    "<div class=\"alert alert-success\">\n",
    "<b>Комментарий ревьюера v2:</b> Да, стало лучше :)\n",
    "</div>\n"
   ]
  },
  {
   "cell_type": "code",
   "execution_count": 1,
   "metadata": {},
   "outputs": [],
   "source": [
    "import pandas as pd\n",
    "import matplotlib.pyplot as plt\n",
    "import seaborn as sns\n",
    "from io import BytesIO\n",
    "import requests\n",
    "import numpy as np\n",
    "# загрузили необходимые библиотеки\n",
    "plt.style.use('ggplot')\n",
    "sns.set(font_scale=1.3)"
   ]
  },
  {
   "cell_type": "markdown",
   "metadata": {},
   "source": [
    "### Шаг №1. Загрузите данные и подготовьте их к анализу\n",
    "<a id=\"step1\"></a>"
   ]
  },
  {
   "cell_type": "markdown",
   "metadata": {},
   "source": [
    "Загрузим данные, посмотрим о них информацию и проведем предобработку."
   ]
  },
  {
   "cell_type": "code",
   "execution_count": 2,
   "metadata": {},
   "outputs": [
    {
     "data": {
      "text/html": [
       "<div>\n",
       "<style scoped>\n",
       "    .dataframe tbody tr th:only-of-type {\n",
       "        vertical-align: middle;\n",
       "    }\n",
       "\n",
       "    .dataframe tbody tr th {\n",
       "        vertical-align: top;\n",
       "    }\n",
       "\n",
       "    .dataframe thead th {\n",
       "        text-align: right;\n",
       "    }\n",
       "</style>\n",
       "<table border=\"1\" class=\"dataframe\">\n",
       "  <thead>\n",
       "    <tr style=\"text-align: right;\">\n",
       "      <th></th>\n",
       "      <th>id</th>\n",
       "      <th>object_name</th>\n",
       "      <th>chain</th>\n",
       "      <th>object_type</th>\n",
       "      <th>address</th>\n",
       "      <th>number</th>\n",
       "    </tr>\n",
       "  </thead>\n",
       "  <tbody>\n",
       "    <tr>\n",
       "      <td>0</td>\n",
       "      <td>151635</td>\n",
       "      <td>СМЕТАНА</td>\n",
       "      <td>нет</td>\n",
       "      <td>кафе</td>\n",
       "      <td>город Москва, улица Егора Абакумова, дом 9</td>\n",
       "      <td>48</td>\n",
       "    </tr>\n",
       "    <tr>\n",
       "      <td>1</td>\n",
       "      <td>77874</td>\n",
       "      <td>Родник</td>\n",
       "      <td>нет</td>\n",
       "      <td>кафе</td>\n",
       "      <td>город Москва, улица Талалихина, дом 2/1, корпус 1</td>\n",
       "      <td>35</td>\n",
       "    </tr>\n",
       "    <tr>\n",
       "      <td>2</td>\n",
       "      <td>24309</td>\n",
       "      <td>Кафе «Академия»</td>\n",
       "      <td>нет</td>\n",
       "      <td>кафе</td>\n",
       "      <td>город Москва, Абельмановская улица, дом 6</td>\n",
       "      <td>95</td>\n",
       "    </tr>\n",
       "    <tr>\n",
       "      <td>3</td>\n",
       "      <td>21894</td>\n",
       "      <td>ПИЦЦЕТОРИЯ</td>\n",
       "      <td>да</td>\n",
       "      <td>кафе</td>\n",
       "      <td>город Москва, Абрамцевская улица, дом 1</td>\n",
       "      <td>40</td>\n",
       "    </tr>\n",
       "    <tr>\n",
       "      <td>4</td>\n",
       "      <td>119365</td>\n",
       "      <td>Кафе «Вишневая метель»</td>\n",
       "      <td>нет</td>\n",
       "      <td>кафе</td>\n",
       "      <td>город Москва, Абрамцевская улица, дом 9, корпус 1</td>\n",
       "      <td>50</td>\n",
       "    </tr>\n",
       "  </tbody>\n",
       "</table>\n",
       "</div>"
      ],
      "text/plain": [
       "       id             object_name chain object_type  \\\n",
       "0  151635                 СМЕТАНА   нет        кафе   \n",
       "1   77874                  Родник   нет        кафе   \n",
       "2   24309         Кафе «Академия»   нет        кафе   \n",
       "3   21894              ПИЦЦЕТОРИЯ    да        кафе   \n",
       "4  119365  Кафе «Вишневая метель»   нет        кафе   \n",
       "\n",
       "                                             address  number  \n",
       "0         город Москва, улица Егора Абакумова, дом 9      48  \n",
       "1  город Москва, улица Талалихина, дом 2/1, корпус 1      35  \n",
       "2          город Москва, Абельмановская улица, дом 6      95  \n",
       "3            город Москва, Абрамцевская улица, дом 1      40  \n",
       "4  город Москва, Абрамцевская улица, дом 9, корпус 1      50  "
      ]
     },
     "execution_count": 2,
     "metadata": {},
     "output_type": "execute_result"
    }
   ],
   "source": [
    "data = pd.read_csv('/datasets/rest_data.csv')\n",
    "data.head()"
   ]
  },
  {
   "cell_type": "markdown",
   "metadata": {},
   "source": [
    "<div class=\"alert alert-warning\">\n",
    "<b>Комментарий ревьюера: </b> Обрати, пожалуйста, на форматирование датафреймов в твоем проекте. Не забывай использовать head(), tail() или sample() при выводе больших таблиц. Если оставить все \"как есть\", то при сохранении проекта на github неотформатированные таблицы развернутся во всю длину.\n",
    "</div>"
   ]
  },
  {
   "cell_type": "markdown",
   "metadata": {},
   "source": [
    "<div class=\"alert alert-info\"> <b>Комментарий студента:</b> Поняла. Исправила.</div>"
   ]
  },
  {
   "cell_type": "markdown",
   "metadata": {},
   "source": [
    "<div class=\"alert alert-success\">\n",
    "<b>Комментарий ревьюера v2:</b> ✅\n",
    "</div>\n"
   ]
  },
  {
   "cell_type": "markdown",
   "metadata": {},
   "source": [
    "Итак, нам даны данные о 15 тысячах объектах общественного питания в Москве. По каждому объекту дано название, сетевой/несетевой, тип заведения, адрес и количество посадочных мест."
   ]
  },
  {
   "cell_type": "code",
   "execution_count": 3,
   "metadata": {},
   "outputs": [
    {
     "name": "stdout",
     "output_type": "stream",
     "text": [
      "<class 'pandas.core.frame.DataFrame'>\n",
      "RangeIndex: 15366 entries, 0 to 15365\n",
      "Data columns (total 6 columns):\n",
      "id             15366 non-null int64\n",
      "object_name    15366 non-null object\n",
      "chain          15366 non-null object\n",
      "object_type    15366 non-null object\n",
      "address        15366 non-null object\n",
      "number         15366 non-null int64\n",
      "dtypes: int64(2), object(4)\n",
      "memory usage: 720.4+ KB\n"
     ]
    }
   ],
   "source": [
    "data.info()"
   ]
  },
  {
   "cell_type": "markdown",
   "metadata": {},
   "source": [
    "<div class=\"alert alert-warning\">\n",
    "<b>Комментарий ревьюера:</b> Обрати внимание, что 64 бита - избыточный объем для хранения твоих данных. Ты можешь почитать про приницпы оптимизации данных в pandas здесь: <a>https://medium.com/@vincentteyssier/optimizing-the-size-of-a-pandas-dataframe-for-low-memory-environment-5f07db3d72e</a>\n",
    "</div>"
   ]
  },
  {
   "cell_type": "markdown",
   "metadata": {},
   "source": [
    "Проверим наличие пропусков и дубликатов."
   ]
  },
  {
   "cell_type": "code",
   "execution_count": 4,
   "metadata": {},
   "outputs": [
    {
     "data": {
      "text/plain": [
       "id             0\n",
       "object_name    0\n",
       "chain          0\n",
       "object_type    0\n",
       "address        0\n",
       "number         0\n",
       "dtype: int64"
      ]
     },
     "execution_count": 4,
     "metadata": {},
     "output_type": "execute_result"
    }
   ],
   "source": [
    "data.isnull().sum()"
   ]
  },
  {
   "cell_type": "code",
   "execution_count": 5,
   "metadata": {},
   "outputs": [
    {
     "data": {
      "text/plain": [
       "0"
      ]
     },
     "execution_count": 5,
     "metadata": {},
     "output_type": "execute_result"
    }
   ],
   "source": [
    "data.duplicated().sum()"
   ]
  },
  {
   "cell_type": "markdown",
   "metadata": {},
   "source": [
    "\n",
    "<div class=\"alert alert-warning\">\n",
    "<b>Комментарий ревьюера: </b> В данном случае датафрейм так же стоит проверить на частичные дубликаты, без учета id и числа мест. Иногда таблицы могут быть собраны из разных источников и данные могут противоречить друг другу.\n",
    "    \n",
    "UPD: нашел ниже. Молодец, что сделала проверку 💪    \n",
    "</div>"
   ]
  },
  {
   "cell_type": "markdown",
   "metadata": {},
   "source": [
    "Пропуски и полные дубликаты отсутсвуют. В таблице заметили, что названия объектов питания написаны разным регистром. Приведем названия объектов и адреса к нижнему регистру."
   ]
  },
  {
   "cell_type": "code",
   "execution_count": 6,
   "metadata": {},
   "outputs": [],
   "source": [
    "data['object_name'] = data['object_name'].str.lower()\n",
    "data['address'] = data['address'].str.lower()"
   ]
  },
  {
   "cell_type": "code",
   "execution_count": 7,
   "metadata": {},
   "outputs": [
    {
     "data": {
      "text/plain": [
       "кафе                                 6099\n",
       "столовая                             2587\n",
       "ресторан                             2285\n",
       "предприятие быстрого обслуживания    1923\n",
       "бар                                   856\n",
       "буфет                                 585\n",
       "кафетерий                             398\n",
       "закусочная                            360\n",
       "магазин (отдел кулинарии)             273\n",
       "Name: object_type, dtype: int64"
      ]
     },
     "execution_count": 7,
     "metadata": {},
     "output_type": "execute_result"
    }
   ],
   "source": [
    "data['object_type'].value_counts()"
   ]
  },
  {
   "cell_type": "markdown",
   "metadata": {},
   "source": [
    "С названиями типов объектов все ок. Единственное, что сделаем, поменяем длинные названия на более удобные и короткие."
   ]
  },
  {
   "cell_type": "code",
   "execution_count": 8,
   "metadata": {},
   "outputs": [],
   "source": [
    "data['object_type'] = data['object_type'].str.replace('предприятие быстрого обслуживания', 'фаст-фуд')\n",
    "data['object_type'] = data['object_type'].str.replace('магазин \\(отдел кулинарии\\)', 'кулинария')"
   ]
  },
  {
   "cell_type": "code",
   "execution_count": 9,
   "metadata": {},
   "outputs": [
    {
     "data": {
      "text/plain": [
       "0"
      ]
     },
     "execution_count": 9,
     "metadata": {},
     "output_type": "execute_result"
    }
   ],
   "source": [
    "data.duplicated().sum() "
   ]
  },
  {
   "cell_type": "markdown",
   "metadata": {},
   "source": [
    "Впоследствие для анализа нам нужно будет выделять из адреса название улицы. Видим, что большинство адресов начинаются с \"город москва\". Посмотрим все ли адреса написаны таким образом."
   ]
  },
  {
   "cell_type": "code",
   "execution_count": 10,
   "metadata": {},
   "outputs": [
    {
     "data": {
      "text/plain": [
       "город москва                     15295\n",
       "улица ленинская слобода              4\n",
       "николоямская улица                   4\n",
       "улица льва толстого                  3\n",
       "солянский тупик                      3\n",
       "город московский                     3\n",
       "партизанская улица                   2\n",
       "бауманская улица                     2\n",
       "ленинградский проспект               2\n",
       "2-я брестская улица                  2\n",
       "таганская площадь                    2\n",
       "калашный переулок                    1\n",
       "ленинский проспект                   1\n",
       "погодинская улица                    1\n",
       "софийская набережная                 1\n",
       "чертановская улица                   1\n",
       "большая бронная улица                1\n",
       "краснобогатырская улица              1\n",
       "новоданиловская набережная           1\n",
       "митинская улица                      1\n",
       "медынская улица                      1\n",
       "поселение сосенское                  1\n",
       "поселение \"мосрентген\"               1\n",
       "вспольный переулок                   1\n",
       "город троицк                         1\n",
       "профсоюзная улица                    1\n",
       "коровинское шоссе                    1\n",
       "улица обручева                       1\n",
       "улица сергея макеева                 1\n",
       "улица миклухо-маклая                 1\n",
       "5-й котельнический переулок          1\n",
       "тушинская улица                      1\n",
       "поселение марушкинское               1\n",
       "дербеневская улица                   1\n",
       "варшавское шоссе                     1\n",
       "улица земляной вал                   1\n",
       "школьная улица                       1\n",
       "поречная улица                       1\n",
       "полевая улица                        1\n",
       "таганская улица                      1\n",
       "1-я тверская-ямская улица            1\n",
       "нижний таганский тупик               1\n",
       "садовая-сухаревская улица            1\n",
       "шарикоподшипниковская улица          1\n",
       "улица каманина                       1\n",
       "суворовская площадь                  1\n",
       "улица знаменка                       1\n",
       "проезд добролюбова                   1\n",
       "вознесенский переулок                1\n",
       "киевская улица                       1\n",
       "алтуфьевское шоссе                   1\n",
       "проектируемый проезд n 5231          1\n",
       "большая серпуховская улица           1\n",
       "1-й нагатинский проезд               1\n",
       "поселение михайлово-ярцевское        1\n",
       "Name: address, dtype: int64"
      ]
     },
     "execution_count": 10,
     "metadata": {},
     "output_type": "execute_result"
    }
   ],
   "source": [
    "data['address'].apply(lambda x: x.split(',')[0]).value_counts()\n"
   ]
  },
  {
   "cell_type": "code",
   "execution_count": 11,
   "metadata": {},
   "outputs": [
    {
     "data": {
      "text/plain": [
       " город зеленоград             232\n",
       " проспект мира                204\n",
       " профсоюзная улица            182\n",
       " ленинградский проспект       171\n",
       " пресненская набережная       167\n",
       "                             ... \n",
       " 17-й проезд марьиной рощи      1\n",
       " стройковская улица             1\n",
       " спортивный проезд              1\n",
       " курганская улица               1\n",
       " новохорошёвский проезд         1\n",
       "Name: address, Length: 1900, dtype: int64"
      ]
     },
     "execution_count": 11,
     "metadata": {},
     "output_type": "execute_result"
    }
   ],
   "source": [
    "data['address'].apply(lambda x: x.split(',')[1]).value_counts()"
   ]
  },
  {
   "cell_type": "markdown",
   "metadata": {},
   "source": [
    "Да, как и ожидали в большинстве случаев на первом месте стоит \"город москва\". Среди адресов видим также и населенные пункты Новой Москвы, типа: Троицк, Московский, Зеленоград. Причем Зеленоград стоит после города москвы. Удалим строки, где в названиях улицы присутствуют слова поселение, поселок, троицк, зеленоград, щербинка. Так как в нашем исследовании мы рассматриваем данные о Москве, а также в рамках проекта будем выделять из адреса улицы, в связи с чем может произойти путаница, так как названия улиц в населенных пунктах могут совпадать."
   ]
  },
  {
   "cell_type": "markdown",
   "metadata": {},
   "source": [
    "<div class=\"alert alert-warning\">\n",
    "<b>Комментарий ревьюера:</b> Окей, в рамках учебного проекта это допустимо :)\n",
    "</div>\n"
   ]
  },
  {
   "cell_type": "code",
   "execution_count": 12,
   "metadata": {},
   "outputs": [],
   "source": [
    "rest_data = pd.DataFrame()"
   ]
  },
  {
   "cell_type": "code",
   "execution_count": 13,
   "metadata": {},
   "outputs": [],
   "source": [
    "rest_data = data.loc[~data['address'].str.contains('поселение|троицк|щербинка|зеленоград|московский')]"
   ]
  },
  {
   "cell_type": "code",
   "execution_count": 14,
   "metadata": {},
   "outputs": [
    {
     "name": "stderr",
     "output_type": "stream",
     "text": [
      "/opt/conda/lib/python3.7/site-packages/ipykernel_launcher.py:1: SettingWithCopyWarning: \n",
      "A value is trying to be set on a copy of a slice from a DataFrame.\n",
      "Try using .loc[row_indexer,col_indexer] = value instead\n",
      "\n",
      "See the caveats in the documentation: http://pandas.pydata.org/pandas-docs/stable/user_guide/indexing.html#returning-a-view-versus-a-copy\n",
      "  \"\"\"Entry point for launching an IPython kernel.\n"
     ]
    }
   ],
   "source": [
    "rest_data['address_new'] = rest_data['address'].str.replace('город москва, ', '')"
   ]
  },
  {
   "cell_type": "markdown",
   "metadata": {},
   "source": [
    "На примере макдоналдса посмотрим на информацию о данном заведении. Попробуем вручную обработать разные варианты написания названия. Конечно, для каждого заведения это будет сложно, но для некоторых крупных сетевых заведений сделаем."
   ]
  },
  {
   "cell_type": "code",
   "execution_count": 15,
   "metadata": {},
   "outputs": [
    {
     "data": {
      "text/plain": [
       "макдоналдс                                        142\n",
       "ресторан «макдоналдс»                               7\n",
       "предприятие быстрого обслуживания «макдоналдс»      6\n",
       "кафе «макдоналдс»                                   5\n",
       "ресторан«макдоналдс»                                1\n",
       "mcdonalds                                           1\n",
       "москва - макдоналдс                                 1\n",
       "кафе макдоналдс                                     1\n",
       "Name: object_name, dtype: int64"
      ]
     },
     "execution_count": 15,
     "metadata": {},
     "output_type": "execute_result"
    }
   ],
   "source": [
    "rest_data[rest_data['object_name'].str.contains('mcdonalds|макдоналдс')]['object_name'].value_counts()"
   ]
  },
  {
   "cell_type": "code",
   "execution_count": 16,
   "metadata": {},
   "outputs": [
    {
     "name": "stderr",
     "output_type": "stream",
     "text": [
      "/opt/conda/lib/python3.7/site-packages/pandas/core/indexing.py:494: SettingWithCopyWarning: \n",
      "A value is trying to be set on a copy of a slice from a DataFrame.\n",
      "Try using .loc[row_indexer,col_indexer] = value instead\n",
      "\n",
      "See the caveats in the documentation: http://pandas.pydata.org/pandas-docs/stable/user_guide/indexing.html#returning-a-view-versus-a-copy\n",
      "  self.obj[item] = s\n"
     ]
    }
   ],
   "source": [
    "rest_data.loc[rest_data['object_name'].str.contains('mcdonalds|макдоналдс'), 'object_name'] = 'макдоналдс'"
   ]
  },
  {
   "cell_type": "code",
   "execution_count": 17,
   "metadata": {},
   "outputs": [
    {
     "data": {
      "text/plain": [
       "макдоналдс    164\n",
       "Name: object_name, dtype: int64"
      ]
     },
     "execution_count": 17,
     "metadata": {},
     "output_type": "execute_result"
    }
   ],
   "source": [
    "rest_data[rest_data['object_name'].str.contains('mcdonalds|макдоналдс')]['object_name'].value_counts() #проверили"
   ]
  },
  {
   "cell_type": "code",
   "execution_count": 18,
   "metadata": {},
   "outputs": [
    {
     "data": {
      "text/plain": [
       "kfc                                        144\n",
       "кафе «kfc»                                  11\n",
       "ростикс kfc                                  8\n",
       "ресторан «kfc»                               3\n",
       "закусочная kfc                               2\n",
       "предприятие быстрого обслуживания «kfc»      2\n",
       "ресторан kfc                                 1\n",
       "закусочная «kfc»                             1\n",
       "ресторан быстрого питания kfc                1\n",
       "fridays kfc                                  1\n",
       "пбо «kfc»                                    1\n",
       "kfc волгоградский                            1\n",
       "ресторан кфс                                 1\n",
       "kfc.                                         1\n",
       "пбо «kfc покрышкина»                         1\n",
       "кфс амрест                                   1\n",
       "кафе kfc                                     1\n",
       "Name: object_name, dtype: int64"
      ]
     },
     "execution_count": 18,
     "metadata": {},
     "output_type": "execute_result"
    }
   ],
   "source": [
    "rest_data.loc[rest_data['object_name'].str.contains('kfc|кфс')]['object_name'].value_counts()"
   ]
  },
  {
   "cell_type": "code",
   "execution_count": 19,
   "metadata": {},
   "outputs": [],
   "source": [
    "rest_data.loc[rest_data['object_name'].str.contains('kfc|кфс'), 'object_name'] = 'kfc'"
   ]
  },
  {
   "cell_type": "code",
   "execution_count": 20,
   "metadata": {},
   "outputs": [
    {
     "data": {
      "text/plain": [
       "столовая           309\n",
       "кафе               255\n",
       "шаурма             244\n",
       "kfc                181\n",
       "макдоналдс         164\n",
       "шоколадница        155\n",
       "бургер кинг        127\n",
       "домино'с пицца      89\n",
       "теремок             87\n",
       "крошка картошка     82\n",
       "Name: object_name, dtype: int64"
      ]
     },
     "execution_count": 20,
     "metadata": {},
     "output_type": "execute_result"
    }
   ],
   "source": [
    "rest_data['object_name'].value_counts().head(10) # топ заведений по количеству"
   ]
  },
  {
   "cell_type": "code",
   "execution_count": 21,
   "metadata": {},
   "outputs": [
    {
     "data": {
      "text/plain": [
       "шоколадница              155\n",
       "кафе «шоколадница»        17\n",
       "кофейня «шоколадница»      6\n",
       "кофейня шоколадница        4\n",
       "шоколадница экспресс       1\n",
       "шоколадница кофе хаус      1\n",
       "шоколадница кофемания      1\n",
       "Name: object_name, dtype: int64"
      ]
     },
     "execution_count": 21,
     "metadata": {},
     "output_type": "execute_result"
    }
   ],
   "source": [
    "rest_data.loc[rest_data['object_name'].str.contains('шоколадница')]['object_name'].value_counts()"
   ]
  },
  {
   "cell_type": "code",
   "execution_count": 22,
   "metadata": {},
   "outputs": [],
   "source": [
    "rest_data.loc[rest_data['object_name'].str.contains('шоколадница'), 'object_name'] = 'шоколадница'"
   ]
  },
  {
   "cell_type": "code",
   "execution_count": 23,
   "metadata": {},
   "outputs": [
    {
     "data": {
      "text/plain": [
       "бургер кинг                                        127\n",
       "бургер кинг burger king                              6\n",
       "предприятие быстрого обслуживания «бургер кинг»      5\n",
       "кафе бургер кинг                                     3\n",
       "ресторан «бургер кинг»                               3\n",
       "кафе «бургер кинг»                                   3\n",
       "закусочная «бургер кинг»                             1\n",
       "кафе-закусочная «бургер кинг»                        1\n",
       "Name: object_name, dtype: int64"
      ]
     },
     "execution_count": 23,
     "metadata": {},
     "output_type": "execute_result"
    }
   ],
   "source": [
    "rest_data.loc[rest_data['object_name'].str.contains('бургер кинг|burger king')]['object_name'].value_counts()"
   ]
  },
  {
   "cell_type": "code",
   "execution_count": 24,
   "metadata": {},
   "outputs": [],
   "source": [
    "rest_data.loc[rest_data['object_name'].str.contains('бургер кинг|burger king'), 'object_name'] = 'бургер кинг'"
   ]
  },
  {
   "cell_type": "code",
   "execution_count": 25,
   "metadata": {},
   "outputs": [
    {
     "data": {
      "text/plain": [
       "домино'с пицца                                        89\n",
       "dominos pizza                                          7\n",
       "пиццерия «домино'с пицца»                              5\n",
       "ресторан «домино'с пицца»                              1\n",
       "кафе «домино'с пицца»                                  1\n",
       "ресторан доминос                                       1\n",
       "домино'с пицца domino,s pizza                          1\n",
       "предприятие быстрого обслуживания «домино'с пицца»     1\n",
       "Name: object_name, dtype: int64"
      ]
     },
     "execution_count": 25,
     "metadata": {},
     "output_type": "execute_result"
    }
   ],
   "source": [
    "rest_data.loc[rest_data['object_name'].str.contains(\"доминос|домино'с|dominos\")]['object_name'].value_counts()"
   ]
  },
  {
   "cell_type": "code",
   "execution_count": 26,
   "metadata": {},
   "outputs": [],
   "source": [
    "rest_data.loc[rest_data['object_name'].str.contains(\"доминос|домино'с|dominos\"), 'object_name'] = \"домино'с пицца\""
   ]
  },
  {
   "cell_type": "markdown",
   "metadata": {},
   "source": [
    "Конечно, заменять названия таким образом не лучший вариант. Так как вручную обрабатывать занимает достаточно много времени. Также как вариант, можно было бы удалить из названий такие слова, как: ресторан, кафе, закусочная, предприятие быстрого обслуживания и т.д. Возможно это было бы даже более верным решением. Но так как названий заведений с отличающимся от наиболее встречающегося довольно немного (по 1-2), не будем сильно заморачиваться и для данного проекта оставим остальное так, как есть."
   ]
  },
  {
   "cell_type": "markdown",
   "metadata": {},
   "source": [
    "<div class=\"alert alert-success\">\n",
    "<b>Комментарий ревьюера:</b> Подддерживаю :)\n",
    "</div>"
   ]
  },
  {
   "cell_type": "code",
   "execution_count": 27,
   "metadata": {},
   "outputs": [
    {
     "data": {
      "text/plain": [
       "0"
      ]
     },
     "execution_count": 27,
     "metadata": {},
     "output_type": "execute_result"
    }
   ],
   "source": [
    "rest_data.duplicated().sum()"
   ]
  },
  {
   "cell_type": "markdown",
   "metadata": {},
   "source": [
    "Так как полных дубликатов не нашли, посмотрим, есть ли неполные дубликаты (без учета id и количества мест)"
   ]
  },
  {
   "cell_type": "code",
   "execution_count": 28,
   "metadata": {},
   "outputs": [
    {
     "data": {
      "text/plain": [
       "182"
      ]
     },
     "execution_count": 28,
     "metadata": {},
     "output_type": "execute_result"
    }
   ],
   "source": [
    "rest_data.duplicated(['object_name','address','chain','object_type','address_new']).sum()"
   ]
  },
  {
   "cell_type": "code",
   "execution_count": 29,
   "metadata": {},
   "outputs": [],
   "source": [
    "rest_data = rest_data.drop_duplicates(['object_name','address','chain','object_type','address_new']) # удаляем дубликаты"
   ]
  },
  {
   "cell_type": "markdown",
   "metadata": {},
   "source": [
    "### Вывод:\n",
    "\n",
    "В первом шаге нашего исследования изучили представленные данные о 15 тысячах объектов общественного питания в Москве. Провели предобработку данных: привели данные в столбцах с названием завдения и адресом к нижнему регистру, в столбце тип объекта заменили длинные названия на более короткие для удобства последующего отображения на графиках, по возможности обработали названия объектов (наиболее крупные сетевые заведения привели к одному названию), проверили наличие пропусков и дубликатов, а также убрали все объекты, находящиеся в пределах Новой Москвы. В данном проекте рассматривать их не будем."
   ]
  },
  {
   "cell_type": "markdown",
   "metadata": {},
   "source": [
    "\n",
    "<div class=\"alert alert-success\">\n",
    "<b>Комментарий ревьюера:</b> Отличная подгтовка, теперь мы можем смело штурмовать второй этап.\n",
    "</div>\n"
   ]
  },
  {
   "cell_type": "markdown",
   "metadata": {},
   "source": [
    "## Шаг 2. Анализ данных.\n",
    "<a id=\"step2\"></a>"
   ]
  },
  {
   "cell_type": "markdown",
   "metadata": {},
   "source": [
    "### 1. Исследуйте соотношение видов объектов общественного питания по количеству. Постройте график.\n",
    "<a id=\"item_1\"></a>"
   ]
  },
  {
   "cell_type": "markdown",
   "metadata": {},
   "source": [
    "Посмотрим, как в городе распределены по количеству различные виды объектов общепита."
   ]
  },
  {
   "cell_type": "code",
   "execution_count": 30,
   "metadata": {},
   "outputs": [
    {
     "data": {
      "image/png": "[encoded data removed]",
      "text/plain": [
       "<Figure size 648x432 with 1 Axes>"
      ]
     },
     "metadata": {},
     "output_type": "display_data"
    }
   ],
   "source": [
    "fig, ax = plt.subplots(figsize=(9,6))\n",
    "ax = rest_data.groupby(['object_type'], as_index=False).agg({'object_name':'count'}).sort_values(by='object_name',ascending=False) \n",
    "sns.barplot (data=ax, x='object_name', y='object_type', palette='twilight_r')\n",
    "plt.xlabel('Количество объектов')\n",
    "plt.ylabel('Тип объекта')\n",
    "plt.title('Соотношение видов объектов общественного питания по количеству', fontsize=17, pad=15)\n",
    "plt.grid()\n",
    "plt.show()"
   ]
  },
  {
   "cell_type": "markdown",
   "metadata": {},
   "source": [
    "<div class=\"alert alert-warning\">\n",
    "<b>Комментарий ревьюера:</b> Совет - чобы не поворачивать метки, можно перейти на горизонатльный barplot.\n",
    "</div>"
   ]
  },
  {
   "cell_type": "markdown",
   "metadata": {},
   "source": [
    "<div class=\"alert alert-info\"> <b>Комментарий студента:</b> Сделано.</div>"
   ]
  },
  {
   "cell_type": "markdown",
   "metadata": {},
   "source": [
    "<div class=\"alert alert-success\">\n",
    "<b>Комментарий ревьюера v2:</b> ✅\n",
    "</div>"
   ]
  },
  {
   "cell_type": "markdown",
   "metadata": {},
   "source": [
    "По количеству заведений в Москве лидируют кафе, затем следуют столовые, рестораны и фаст-фуды. Наименьшим количеством заведений в Москве представлены закусочные и кулинарии."
   ]
  },
  {
   "cell_type": "code",
   "execution_count": 31,
   "metadata": {},
   "outputs": [
    {
     "data": {
      "image/png": "[encoded data removed]",
      "text/plain": [
       "<Figure size 504x504 with 1 Axes>"
      ]
     },
     "metadata": {},
     "output_type": "display_data"
    }
   ],
   "source": [
    "test = rest_data.groupby(['object_type'])['object_name'].agg('count').sort_values().reset_index()\n",
    "fig, ax = plt.subplots(figsize=(7,7))\n",
    "ax.pie(test['object_name'], autopct='%1.1f%%', pctdistance=1.15)\n",
    "plt.legend(test['object_type'], bbox_to_anchor=(1.2,1))\n",
    "plt.title('Круговая диаграмма соотношения видов объектов общепита в Москве', fontsize=17, pad=40)\n",
    "ax.axis('equal')\n",
    "plt.show()\n",
    "\n"
   ]
  },
  {
   "cell_type": "markdown",
   "metadata": {},
   "source": [
    "<div class=\"alert alert-danger\">\n",
    "<s><b>Комментарий ревьюера:</b> Без чисел этот пирог почти что бесполезен :) Пожалуйста, добавь их.\n",
    "</div>"
   ]
  },
  {
   "cell_type": "markdown",
   "metadata": {},
   "source": [
    "<div class=\"alert alert-info\"> <b>Комментарий студента:</b> Да, действительно, так выглядит более наглядно.</div>"
   ]
  },
  {
   "cell_type": "markdown",
   "metadata": {},
   "source": [
    "<div class=\"alert alert-success\">\n",
    "<b>Комментарий ревьюера v2:</b> ✅\n",
    "</div>"
   ]
  },
  {
   "cell_type": "markdown",
   "metadata": {},
   "source": [
    "### 2. Исследуйте соотношение сетевых и несетевых заведений по количеству. Постройте график.\n",
    "<a id=\"item_2\"></a>"
   ]
  },
  {
   "cell_type": "code",
   "execution_count": 32,
   "metadata": {},
   "outputs": [
    {
     "data": {
      "text/plain": [
       "chain\n",
       "да      2804\n",
       "нет    11555\n",
       "Name: object_name, dtype: int64"
      ]
     },
     "execution_count": 32,
     "metadata": {},
     "output_type": "execute_result"
    }
   ],
   "source": [
    "rest_data.groupby('chain')['object_name'].count().sort_values()"
   ]
  },
  {
   "cell_type": "markdown",
   "metadata": {},
   "source": [
    "Сразу замечаем, что большая доля приходится на несетевые заведения."
   ]
  },
  {
   "cell_type": "code",
   "execution_count": 33,
   "metadata": {},
   "outputs": [
    {
     "data": {
      "image/png": "[encoded data removed]",
      "text/plain": [
       "<Figure size 432x288 with 1 Axes>"
      ]
     },
     "metadata": {},
     "output_type": "display_data"
    }
   ],
   "source": [
    "fig, ax = plt.subplots()\n",
    "ax = rest_data.groupby('chain')['object_name'].count().sort_values().reset_index()\n",
    "sns.barplot(data= ax, x='chain', y='object_name', palette='twilight_r')\n",
    "plt.title('Соотношение сетевых и несетевых заведений', fontsize=17, pad=15)\n",
    "plt.ylabel('Количество объектов')\n",
    "plt.xlabel(None)\n",
    "plt.show()"
   ]
  },
  {
   "cell_type": "code",
   "execution_count": 34,
   "metadata": {},
   "outputs": [
    {
     "data": {
      "image/png": "[encoded data removed]",
      "text/plain": [
       "<Figure size 360x360 with 1 Axes>"
      ]
     },
     "metadata": {},
     "output_type": "display_data"
    }
   ],
   "source": [
    "rest_data.groupby('chain')['object_name'].count().sort_values().plot(kind='pie', colors =['pink', 'purple'], figsize=(5,5))\n",
    "plt.title('Соотношение сетевых и несетевых заведений', fontsize=17, pad=15)\n",
    "plt.ylabel(None)\n",
    "plt.show()"
   ]
  },
  {
   "cell_type": "markdown",
   "metadata": {},
   "source": [
    "Несмотря на то, что как интуитивно казалось, что сетевых заведений больше, они составляют от общего количества всего процентов 20. Остальные 80 приходятся на несетевые."
   ]
  },
  {
   "cell_type": "markdown",
   "metadata": {},
   "source": [
    "<div class=\"alert alert-warning\">\n",
    "<b>Комментарий ревьюера: </b> Совет: эти графики (да и любые другие) можно выровнять бок о бок с помощью  plt.subplots:<br>\n",
    "<a>https://www.w3schools.com/python/matplotlib_subplots.asp</a>        \n",
    "</div>"
   ]
  },
  {
   "cell_type": "markdown",
   "metadata": {},
   "source": [
    "### 3. Для какого вида объекта общественного питания характерно сетевое распространение?\n",
    "<a id=\"item_3\"></a>"
   ]
  },
  {
   "cell_type": "code",
   "execution_count": 35,
   "metadata": {},
   "outputs": [],
   "source": [
    "chain_type = rest_data.pivot_table(index='object_type', columns='chain', values='object_name', aggfunc='count').reset_index().sort_values(by='да', ascending=False)"
   ]
  },
  {
   "cell_type": "code",
   "execution_count": 36,
   "metadata": {},
   "outputs": [
    {
     "data": {
      "text/html": [
       "<style  type=\"text/css\" >\n",
       "    #T_350b33c8_42d0_11eb_bd81_02420a3924cbrow0_col1 {\n",
       "            background-color:  #440154;\n",
       "            color:  #f1f1f1;\n",
       "        }    #T_350b33c8_42d0_11eb_bd81_02420a3924cbrow0_col2 {\n",
       "            background-color:  #440154;\n",
       "            color:  #f1f1f1;\n",
       "        }    #T_350b33c8_42d0_11eb_bd81_02420a3924cbrow1_col1 {\n",
       "            background-color:  #25848e;\n",
       "            color:  #000000;\n",
       "        }    #T_350b33c8_42d0_11eb_bd81_02420a3924cbrow1_col2 {\n",
       "            background-color:  #73d056;\n",
       "            color:  #000000;\n",
       "        }    #T_350b33c8_42d0_11eb_bd81_02420a3924cbrow2_col1 {\n",
       "            background-color:  #25ac82;\n",
       "            color:  #000000;\n",
       "        }    #T_350b33c8_42d0_11eb_bd81_02420a3924cbrow2_col2 {\n",
       "            background-color:  #2cb17e;\n",
       "            color:  #000000;\n",
       "        }    #T_350b33c8_42d0_11eb_bd81_02420a3924cbrow3_col1 {\n",
       "            background-color:  #dae319;\n",
       "            color:  #000000;\n",
       "        }    #T_350b33c8_42d0_11eb_bd81_02420a3924cbrow3_col2 {\n",
       "            background-color:  #fde725;\n",
       "            color:  #000000;\n",
       "        }    #T_350b33c8_42d0_11eb_bd81_02420a3924cbrow4_col1 {\n",
       "            background-color:  #e7e419;\n",
       "            color:  #000000;\n",
       "        }    #T_350b33c8_42d0_11eb_bd81_02420a3924cbrow4_col2 {\n",
       "            background-color:  #f1e51d;\n",
       "            color:  #000000;\n",
       "        }    #T_350b33c8_42d0_11eb_bd81_02420a3924cbrow5_col1 {\n",
       "            background-color:  #e7e419;\n",
       "            color:  #000000;\n",
       "        }    #T_350b33c8_42d0_11eb_bd81_02420a3924cbrow5_col2 {\n",
       "            background-color:  #eae51a;\n",
       "            color:  #000000;\n",
       "        }    #T_350b33c8_42d0_11eb_bd81_02420a3924cbrow6_col1 {\n",
       "            background-color:  #efe51c;\n",
       "            color:  #000000;\n",
       "        }    #T_350b33c8_42d0_11eb_bd81_02420a3924cbrow6_col2 {\n",
       "            background-color:  #9bd93c;\n",
       "            color:  #000000;\n",
       "        }    #T_350b33c8_42d0_11eb_bd81_02420a3924cbrow7_col1 {\n",
       "            background-color:  #fbe723;\n",
       "            color:  #000000;\n",
       "        }    #T_350b33c8_42d0_11eb_bd81_02420a3924cbrow7_col2 {\n",
       "            background-color:  #c5e021;\n",
       "            color:  #000000;\n",
       "        }    #T_350b33c8_42d0_11eb_bd81_02420a3924cbrow8_col1 {\n",
       "            background-color:  #fde725;\n",
       "            color:  #000000;\n",
       "        }    #T_350b33c8_42d0_11eb_bd81_02420a3924cbrow8_col2 {\n",
       "            background-color:  #25848e;\n",
       "            color:  #000000;\n",
       "        }</style><table id=\"T_350b33c8_42d0_11eb_bd81_02420a3924cb\" ><thead>    <tr>        <th class=\"index_name level0\" >chain</th>        <th class=\"col_heading level0 col0\" >object_type</th>        <th class=\"col_heading level0 col1\" >да</th>        <th class=\"col_heading level0 col2\" >нет</th>    </tr></thead><tbody>\n",
       "                <tr>\n",
       "                        <th id=\"T_350b33c8_42d0_11eb_bd81_02420a3924cblevel0_row0\" class=\"row_heading level0 row0\" >3</th>\n",
       "                        <td id=\"T_350b33c8_42d0_11eb_bd81_02420a3924cbrow0_col0\" class=\"data row0 col0\" >кафе</td>\n",
       "                        <td id=\"T_350b33c8_42d0_11eb_bd81_02420a3924cbrow0_col1\" class=\"data row0 col1\" >1329</td>\n",
       "                        <td id=\"T_350b33c8_42d0_11eb_bd81_02420a3924cbrow0_col2\" class=\"data row0 col2\" >4311</td>\n",
       "            </tr>\n",
       "            <tr>\n",
       "                        <th id=\"T_350b33c8_42d0_11eb_bd81_02420a3924cblevel0_row1\" class=\"row_heading level0 row1\" >8</th>\n",
       "                        <td id=\"T_350b33c8_42d0_11eb_bd81_02420a3924cbrow1_col0\" class=\"data row1 col0\" >фаст-фуд</td>\n",
       "                        <td id=\"T_350b33c8_42d0_11eb_bd81_02420a3924cbrow1_col1\" class=\"data row1 col1\" >731</td>\n",
       "                        <td id=\"T_350b33c8_42d0_11eb_bd81_02420a3924cbrow1_col2\" class=\"data row1 col2\" >1061</td>\n",
       "            </tr>\n",
       "            <tr>\n",
       "                        <th id=\"T_350b33c8_42d0_11eb_bd81_02420a3924cblevel0_row2\" class=\"row_heading level0 row2\" >6</th>\n",
       "                        <td id=\"T_350b33c8_42d0_11eb_bd81_02420a3924cbrow2_col0\" class=\"data row2 col0\" >ресторан</td>\n",
       "                        <td id=\"T_350b33c8_42d0_11eb_bd81_02420a3924cbrow2_col1\" class=\"data row2 col1\" >513</td>\n",
       "                        <td id=\"T_350b33c8_42d0_11eb_bd81_02420a3924cbrow2_col2\" class=\"data row2 col2\" >1667</td>\n",
       "            </tr>\n",
       "            <tr>\n",
       "                        <th id=\"T_350b33c8_42d0_11eb_bd81_02420a3924cblevel0_row3\" class=\"row_heading level0 row3\" >5</th>\n",
       "                        <td id=\"T_350b33c8_42d0_11eb_bd81_02420a3924cbrow3_col0\" class=\"data row3 col0\" >кулинария</td>\n",
       "                        <td id=\"T_350b33c8_42d0_11eb_bd81_02420a3924cbrow3_col1\" class=\"data row3 col1\" >77</td>\n",
       "                        <td id=\"T_350b33c8_42d0_11eb_bd81_02420a3924cbrow3_col2\" class=\"data row3 col2\" >173</td>\n",
       "            </tr>\n",
       "            <tr>\n",
       "                        <th id=\"T_350b33c8_42d0_11eb_bd81_02420a3924cblevel0_row4\" class=\"row_heading level0 row4\" >2</th>\n",
       "                        <td id=\"T_350b33c8_42d0_11eb_bd81_02420a3924cbrow4_col0\" class=\"data row4 col0\" >закусочная</td>\n",
       "                        <td id=\"T_350b33c8_42d0_11eb_bd81_02420a3924cbrow4_col1\" class=\"data row4 col1\" >54</td>\n",
       "                        <td id=\"T_350b33c8_42d0_11eb_bd81_02420a3924cbrow4_col2\" class=\"data row4 col2\" >264</td>\n",
       "            </tr>\n",
       "            <tr>\n",
       "                        <th id=\"T_350b33c8_42d0_11eb_bd81_02420a3924cblevel0_row5\" class=\"row_heading level0 row5\" >4</th>\n",
       "                        <td id=\"T_350b33c8_42d0_11eb_bd81_02420a3924cbrow5_col0\" class=\"data row5 col0\" >кафетерий</td>\n",
       "                        <td id=\"T_350b33c8_42d0_11eb_bd81_02420a3924cbrow5_col1\" class=\"data row5 col1\" >50</td>\n",
       "                        <td id=\"T_350b33c8_42d0_11eb_bd81_02420a3924cbrow5_col2\" class=\"data row5 col2\" >313</td>\n",
       "            </tr>\n",
       "            <tr>\n",
       "                        <th id=\"T_350b33c8_42d0_11eb_bd81_02420a3924cblevel0_row6\" class=\"row_heading level0 row6\" >0</th>\n",
       "                        <td id=\"T_350b33c8_42d0_11eb_bd81_02420a3924cbrow6_col0\" class=\"data row6 col0\" >бар</td>\n",
       "                        <td id=\"T_350b33c8_42d0_11eb_bd81_02420a3924cbrow6_col1\" class=\"data row6 col1\" >36</td>\n",
       "                        <td id=\"T_350b33c8_42d0_11eb_bd81_02420a3924cbrow6_col2\" class=\"data row6 col2\" >788</td>\n",
       "            </tr>\n",
       "            <tr>\n",
       "                        <th id=\"T_350b33c8_42d0_11eb_bd81_02420a3924cblevel0_row7\" class=\"row_heading level0 row7\" >1</th>\n",
       "                        <td id=\"T_350b33c8_42d0_11eb_bd81_02420a3924cbrow7_col0\" class=\"data row7 col0\" >буфет</td>\n",
       "                        <td id=\"T_350b33c8_42d0_11eb_bd81_02420a3924cbrow7_col1\" class=\"data row7 col1\" >11</td>\n",
       "                        <td id=\"T_350b33c8_42d0_11eb_bd81_02420a3924cbrow7_col2\" class=\"data row7 col2\" >538</td>\n",
       "            </tr>\n",
       "            <tr>\n",
       "                        <th id=\"T_350b33c8_42d0_11eb_bd81_02420a3924cblevel0_row8\" class=\"row_heading level0 row8\" >7</th>\n",
       "                        <td id=\"T_350b33c8_42d0_11eb_bd81_02420a3924cbrow8_col0\" class=\"data row8 col0\" >столовая</td>\n",
       "                        <td id=\"T_350b33c8_42d0_11eb_bd81_02420a3924cbrow8_col1\" class=\"data row8 col1\" >3</td>\n",
       "                        <td id=\"T_350b33c8_42d0_11eb_bd81_02420a3924cbrow8_col2\" class=\"data row8 col2\" >2440</td>\n",
       "            </tr>\n",
       "    </tbody></table>"
      ],
      "text/plain": [
       "<pandas.io.formats.style.Styler at 0x7f80e5831e50>"
      ]
     },
     "execution_count": 36,
     "metadata": {},
     "output_type": "execute_result"
    }
   ],
   "source": [
    "chain_type.style.background_gradient(cmap='viridis_r')"
   ]
  },
  {
   "cell_type": "code",
   "execution_count": 37,
   "metadata": {},
   "outputs": [],
   "source": [
    "chain_type.columns = ['object_type', 'yes', 'no']"
   ]
  },
  {
   "cell_type": "code",
   "execution_count": 38,
   "metadata": {},
   "outputs": [],
   "source": [
    "chain_type['all'] = chain_type['yes'] + chain_type['no']"
   ]
  },
  {
   "cell_type": "code",
   "execution_count": 39,
   "metadata": {},
   "outputs": [],
   "source": [
    "chain_type['rate_yes_chain'] = chain_type['yes'] / chain_type['all'] * 100\n",
    "chain_type['rate_no_chain'] = chain_type['no'] / chain_type['all'] * 100"
   ]
  },
  {
   "cell_type": "code",
   "execution_count": 40,
   "metadata": {},
   "outputs": [
    {
     "data": {
      "text/html": [
       "<style  type=\"text/css\" >\n",
       "    #T_351b82aa_42d0_11eb_bd81_02420a3924cbrow0_col1 {\n",
       "            background-color:  #440154;\n",
       "            color:  #f1f1f1;\n",
       "        }    #T_351b82aa_42d0_11eb_bd81_02420a3924cbrow0_col2 {\n",
       "            background-color:  #440154;\n",
       "            color:  #f1f1f1;\n",
       "        }    #T_351b82aa_42d0_11eb_bd81_02420a3924cbrow0_col3 {\n",
       "            background-color:  #440154;\n",
       "            color:  #f1f1f1;\n",
       "        }    #T_351b82aa_42d0_11eb_bd81_02420a3924cbrow0_col4 {\n",
       "            background-color:  #277e8e;\n",
       "            color:  #000000;\n",
       "        }    #T_351b82aa_42d0_11eb_bd81_02420a3924cbrow0_col5 {\n",
       "            background-color:  #1fa287;\n",
       "            color:  #000000;\n",
       "        }    #T_351b82aa_42d0_11eb_bd81_02420a3924cbrow1_col1 {\n",
       "            background-color:  #25848e;\n",
       "            color:  #000000;\n",
       "        }    #T_351b82aa_42d0_11eb_bd81_02420a3924cbrow1_col2 {\n",
       "            background-color:  #73d056;\n",
       "            color:  #000000;\n",
       "        }    #T_351b82aa_42d0_11eb_bd81_02420a3924cbrow1_col3 {\n",
       "            background-color:  #4ac16d;\n",
       "            color:  #000000;\n",
       "        }    #T_351b82aa_42d0_11eb_bd81_02420a3924cbrow1_col4 {\n",
       "            background-color:  #440154;\n",
       "            color:  #f1f1f1;\n",
       "        }    #T_351b82aa_42d0_11eb_bd81_02420a3924cbrow1_col5 {\n",
       "            background-color:  #fde725;\n",
       "            color:  #000000;\n",
       "        }    #T_351b82aa_42d0_11eb_bd81_02420a3924cbrow2_col1 {\n",
       "            background-color:  #25ac82;\n",
       "            color:  #000000;\n",
       "        }    #T_351b82aa_42d0_11eb_bd81_02420a3924cbrow2_col2 {\n",
       "            background-color:  #2cb17e;\n",
       "            color:  #000000;\n",
       "        }    #T_351b82aa_42d0_11eb_bd81_02420a3924cbrow2_col3 {\n",
       "            background-color:  #2db27d;\n",
       "            color:  #000000;\n",
       "        }    #T_351b82aa_42d0_11eb_bd81_02420a3924cbrow2_col4 {\n",
       "            background-color:  #277e8e;\n",
       "            color:  #000000;\n",
       "        }    #T_351b82aa_42d0_11eb_bd81_02420a3924cbrow2_col5 {\n",
       "            background-color:  #1fa287;\n",
       "            color:  #000000;\n",
       "        }    #T_351b82aa_42d0_11eb_bd81_02420a3924cbrow3_col1 {\n",
       "            background-color:  #dae319;\n",
       "            color:  #000000;\n",
       "        }    #T_351b82aa_42d0_11eb_bd81_02420a3924cbrow3_col2 {\n",
       "            background-color:  #fde725;\n",
       "            color:  #000000;\n",
       "        }    #T_351b82aa_42d0_11eb_bd81_02420a3924cbrow3_col3 {\n",
       "            background-color:  #fde725;\n",
       "            color:  #000000;\n",
       "        }    #T_351b82aa_42d0_11eb_bd81_02420a3924cbrow3_col4 {\n",
       "            background-color:  #3c508b;\n",
       "            color:  #f1f1f1;\n",
       "        }    #T_351b82aa_42d0_11eb_bd81_02420a3924cbrow3_col5 {\n",
       "            background-color:  #60ca60;\n",
       "            color:  #000000;\n",
       "        }    #T_351b82aa_42d0_11eb_bd81_02420a3924cbrow4_col1 {\n",
       "            background-color:  #e7e419;\n",
       "            color:  #000000;\n",
       "        }    #T_351b82aa_42d0_11eb_bd81_02420a3924cbrow4_col2 {\n",
       "            background-color:  #f1e51d;\n",
       "            color:  #000000;\n",
       "        }    #T_351b82aa_42d0_11eb_bd81_02420a3924cbrow4_col3 {\n",
       "            background-color:  #f6e620;\n",
       "            color:  #000000;\n",
       "        }    #T_351b82aa_42d0_11eb_bd81_02420a3924cbrow4_col4 {\n",
       "            background-color:  #20a486;\n",
       "            color:  #000000;\n",
       "        }    #T_351b82aa_42d0_11eb_bd81_02420a3924cbrow4_col5 {\n",
       "            background-color:  #287c8e;\n",
       "            color:  #000000;\n",
       "        }    #T_351b82aa_42d0_11eb_bd81_02420a3924cbrow5_col1 {\n",
       "            background-color:  #e7e419;\n",
       "            color:  #000000;\n",
       "        }    #T_351b82aa_42d0_11eb_bd81_02420a3924cbrow5_col2 {\n",
       "            background-color:  #eae51a;\n",
       "            color:  #000000;\n",
       "        }    #T_351b82aa_42d0_11eb_bd81_02420a3924cbrow5_col3 {\n",
       "            background-color:  #f1e51d;\n",
       "            color:  #000000;\n",
       "        }    #T_351b82aa_42d0_11eb_bd81_02420a3924cbrow5_col4 {\n",
       "            background-color:  #35b779;\n",
       "            color:  #000000;\n",
       "        }    #T_351b82aa_42d0_11eb_bd81_02420a3924cbrow5_col5 {\n",
       "            background-color:  #31688e;\n",
       "            color:  #f1f1f1;\n",
       "        }    #T_351b82aa_42d0_11eb_bd81_02420a3924cbrow6_col1 {\n",
       "            background-color:  #efe51c;\n",
       "            color:  #000000;\n",
       "        }    #T_351b82aa_42d0_11eb_bd81_02420a3924cbrow6_col2 {\n",
       "            background-color:  #9bd93c;\n",
       "            color:  #000000;\n",
       "        }    #T_351b82aa_42d0_11eb_bd81_02420a3924cbrow6_col3 {\n",
       "            background-color:  #b8de29;\n",
       "            color:  #000000;\n",
       "        }    #T_351b82aa_42d0_11eb_bd81_02420a3924cbrow6_col4 {\n",
       "            background-color:  #bade28;\n",
       "            color:  #000000;\n",
       "        }    #T_351b82aa_42d0_11eb_bd81_02420a3924cbrow6_col5 {\n",
       "            background-color:  #482576;\n",
       "            color:  #f1f1f1;\n",
       "        }    #T_351b82aa_42d0_11eb_bd81_02420a3924cbrow7_col1 {\n",
       "            background-color:  #fbe723;\n",
       "            color:  #000000;\n",
       "        }    #T_351b82aa_42d0_11eb_bd81_02420a3924cbrow7_col2 {\n",
       "            background-color:  #c5e021;\n",
       "            color:  #000000;\n",
       "        }    #T_351b82aa_42d0_11eb_bd81_02420a3924cbrow7_col3 {\n",
       "            background-color:  #dae319;\n",
       "            color:  #000000;\n",
       "        }    #T_351b82aa_42d0_11eb_bd81_02420a3924cbrow7_col4 {\n",
       "            background-color:  #e2e418;\n",
       "            color:  #000000;\n",
       "        }    #T_351b82aa_42d0_11eb_bd81_02420a3924cbrow7_col5 {\n",
       "            background-color:  #471164;\n",
       "            color:  #f1f1f1;\n",
       "        }    #T_351b82aa_42d0_11eb_bd81_02420a3924cbrow8_col1 {\n",
       "            background-color:  #fde725;\n",
       "            color:  #000000;\n",
       "        }    #T_351b82aa_42d0_11eb_bd81_02420a3924cbrow8_col2 {\n",
       "            background-color:  #25848e;\n",
       "            color:  #000000;\n",
       "        }    #T_351b82aa_42d0_11eb_bd81_02420a3924cbrow8_col3 {\n",
       "            background-color:  #21a685;\n",
       "            color:  #000000;\n",
       "        }    #T_351b82aa_42d0_11eb_bd81_02420a3924cbrow8_col4 {\n",
       "            background-color:  #fde725;\n",
       "            color:  #000000;\n",
       "        }    #T_351b82aa_42d0_11eb_bd81_02420a3924cbrow8_col5 {\n",
       "            background-color:  #440154;\n",
       "            color:  #f1f1f1;\n",
       "        }</style><table id=\"T_351b82aa_42d0_11eb_bd81_02420a3924cb\" ><thead>    <tr>        <th class=\"blank level0\" ></th>        <th class=\"col_heading level0 col0\" >object_type</th>        <th class=\"col_heading level0 col1\" >yes</th>        <th class=\"col_heading level0 col2\" >no</th>        <th class=\"col_heading level0 col3\" >all</th>        <th class=\"col_heading level0 col4\" >rate_yes_chain</th>        <th class=\"col_heading level0 col5\" >rate_no_chain</th>    </tr></thead><tbody>\n",
       "                <tr>\n",
       "                        <th id=\"T_351b82aa_42d0_11eb_bd81_02420a3924cblevel0_row0\" class=\"row_heading level0 row0\" >3</th>\n",
       "                        <td id=\"T_351b82aa_42d0_11eb_bd81_02420a3924cbrow0_col0\" class=\"data row0 col0\" >кафе</td>\n",
       "                        <td id=\"T_351b82aa_42d0_11eb_bd81_02420a3924cbrow0_col1\" class=\"data row0 col1\" >1329</td>\n",
       "                        <td id=\"T_351b82aa_42d0_11eb_bd81_02420a3924cbrow0_col2\" class=\"data row0 col2\" >4311</td>\n",
       "                        <td id=\"T_351b82aa_42d0_11eb_bd81_02420a3924cbrow0_col3\" class=\"data row0 col3\" >5640</td>\n",
       "                        <td id=\"T_351b82aa_42d0_11eb_bd81_02420a3924cbrow0_col4\" class=\"data row0 col4\" >23.5638</td>\n",
       "                        <td id=\"T_351b82aa_42d0_11eb_bd81_02420a3924cbrow0_col5\" class=\"data row0 col5\" >76.4362</td>\n",
       "            </tr>\n",
       "            <tr>\n",
       "                        <th id=\"T_351b82aa_42d0_11eb_bd81_02420a3924cblevel0_row1\" class=\"row_heading level0 row1\" >8</th>\n",
       "                        <td id=\"T_351b82aa_42d0_11eb_bd81_02420a3924cbrow1_col0\" class=\"data row1 col0\" >фаст-фуд</td>\n",
       "                        <td id=\"T_351b82aa_42d0_11eb_bd81_02420a3924cbrow1_col1\" class=\"data row1 col1\" >731</td>\n",
       "                        <td id=\"T_351b82aa_42d0_11eb_bd81_02420a3924cbrow1_col2\" class=\"data row1 col2\" >1061</td>\n",
       "                        <td id=\"T_351b82aa_42d0_11eb_bd81_02420a3924cbrow1_col3\" class=\"data row1 col3\" >1792</td>\n",
       "                        <td id=\"T_351b82aa_42d0_11eb_bd81_02420a3924cbrow1_col4\" class=\"data row1 col4\" >40.7924</td>\n",
       "                        <td id=\"T_351b82aa_42d0_11eb_bd81_02420a3924cbrow1_col5\" class=\"data row1 col5\" >59.2076</td>\n",
       "            </tr>\n",
       "            <tr>\n",
       "                        <th id=\"T_351b82aa_42d0_11eb_bd81_02420a3924cblevel0_row2\" class=\"row_heading level0 row2\" >6</th>\n",
       "                        <td id=\"T_351b82aa_42d0_11eb_bd81_02420a3924cbrow2_col0\" class=\"data row2 col0\" >ресторан</td>\n",
       "                        <td id=\"T_351b82aa_42d0_11eb_bd81_02420a3924cbrow2_col1\" class=\"data row2 col1\" >513</td>\n",
       "                        <td id=\"T_351b82aa_42d0_11eb_bd81_02420a3924cbrow2_col2\" class=\"data row2 col2\" >1667</td>\n",
       "                        <td id=\"T_351b82aa_42d0_11eb_bd81_02420a3924cbrow2_col3\" class=\"data row2 col3\" >2180</td>\n",
       "                        <td id=\"T_351b82aa_42d0_11eb_bd81_02420a3924cbrow2_col4\" class=\"data row2 col4\" >23.5321</td>\n",
       "                        <td id=\"T_351b82aa_42d0_11eb_bd81_02420a3924cbrow2_col5\" class=\"data row2 col5\" >76.4679</td>\n",
       "            </tr>\n",
       "            <tr>\n",
       "                        <th id=\"T_351b82aa_42d0_11eb_bd81_02420a3924cblevel0_row3\" class=\"row_heading level0 row3\" >5</th>\n",
       "                        <td id=\"T_351b82aa_42d0_11eb_bd81_02420a3924cbrow3_col0\" class=\"data row3 col0\" >кулинария</td>\n",
       "                        <td id=\"T_351b82aa_42d0_11eb_bd81_02420a3924cbrow3_col1\" class=\"data row3 col1\" >77</td>\n",
       "                        <td id=\"T_351b82aa_42d0_11eb_bd81_02420a3924cbrow3_col2\" class=\"data row3 col2\" >173</td>\n",
       "                        <td id=\"T_351b82aa_42d0_11eb_bd81_02420a3924cbrow3_col3\" class=\"data row3 col3\" >250</td>\n",
       "                        <td id=\"T_351b82aa_42d0_11eb_bd81_02420a3924cbrow3_col4\" class=\"data row3 col4\" >30.8</td>\n",
       "                        <td id=\"T_351b82aa_42d0_11eb_bd81_02420a3924cbrow3_col5\" class=\"data row3 col5\" >69.2</td>\n",
       "            </tr>\n",
       "            <tr>\n",
       "                        <th id=\"T_351b82aa_42d0_11eb_bd81_02420a3924cblevel0_row4\" class=\"row_heading level0 row4\" >2</th>\n",
       "                        <td id=\"T_351b82aa_42d0_11eb_bd81_02420a3924cbrow4_col0\" class=\"data row4 col0\" >закусочная</td>\n",
       "                        <td id=\"T_351b82aa_42d0_11eb_bd81_02420a3924cbrow4_col1\" class=\"data row4 col1\" >54</td>\n",
       "                        <td id=\"T_351b82aa_42d0_11eb_bd81_02420a3924cbrow4_col2\" class=\"data row4 col2\" >264</td>\n",
       "                        <td id=\"T_351b82aa_42d0_11eb_bd81_02420a3924cbrow4_col3\" class=\"data row4 col3\" >318</td>\n",
       "                        <td id=\"T_351b82aa_42d0_11eb_bd81_02420a3924cbrow4_col4\" class=\"data row4 col4\" >16.9811</td>\n",
       "                        <td id=\"T_351b82aa_42d0_11eb_bd81_02420a3924cbrow4_col5\" class=\"data row4 col5\" >83.0189</td>\n",
       "            </tr>\n",
       "            <tr>\n",
       "                        <th id=\"T_351b82aa_42d0_11eb_bd81_02420a3924cblevel0_row5\" class=\"row_heading level0 row5\" >4</th>\n",
       "                        <td id=\"T_351b82aa_42d0_11eb_bd81_02420a3924cbrow5_col0\" class=\"data row5 col0\" >кафетерий</td>\n",
       "                        <td id=\"T_351b82aa_42d0_11eb_bd81_02420a3924cbrow5_col1\" class=\"data row5 col1\" >50</td>\n",
       "                        <td id=\"T_351b82aa_42d0_11eb_bd81_02420a3924cbrow5_col2\" class=\"data row5 col2\" >313</td>\n",
       "                        <td id=\"T_351b82aa_42d0_11eb_bd81_02420a3924cbrow5_col3\" class=\"data row5 col3\" >363</td>\n",
       "                        <td id=\"T_351b82aa_42d0_11eb_bd81_02420a3924cbrow5_col4\" class=\"data row5 col4\" >13.7741</td>\n",
       "                        <td id=\"T_351b82aa_42d0_11eb_bd81_02420a3924cbrow5_col5\" class=\"data row5 col5\" >86.2259</td>\n",
       "            </tr>\n",
       "            <tr>\n",
       "                        <th id=\"T_351b82aa_42d0_11eb_bd81_02420a3924cblevel0_row6\" class=\"row_heading level0 row6\" >0</th>\n",
       "                        <td id=\"T_351b82aa_42d0_11eb_bd81_02420a3924cbrow6_col0\" class=\"data row6 col0\" >бар</td>\n",
       "                        <td id=\"T_351b82aa_42d0_11eb_bd81_02420a3924cbrow6_col1\" class=\"data row6 col1\" >36</td>\n",
       "                        <td id=\"T_351b82aa_42d0_11eb_bd81_02420a3924cbrow6_col2\" class=\"data row6 col2\" >788</td>\n",
       "                        <td id=\"T_351b82aa_42d0_11eb_bd81_02420a3924cbrow6_col3\" class=\"data row6 col3\" >824</td>\n",
       "                        <td id=\"T_351b82aa_42d0_11eb_bd81_02420a3924cbrow6_col4\" class=\"data row6 col4\" >4.36893</td>\n",
       "                        <td id=\"T_351b82aa_42d0_11eb_bd81_02420a3924cbrow6_col5\" class=\"data row6 col5\" >95.6311</td>\n",
       "            </tr>\n",
       "            <tr>\n",
       "                        <th id=\"T_351b82aa_42d0_11eb_bd81_02420a3924cblevel0_row7\" class=\"row_heading level0 row7\" >1</th>\n",
       "                        <td id=\"T_351b82aa_42d0_11eb_bd81_02420a3924cbrow7_col0\" class=\"data row7 col0\" >буфет</td>\n",
       "                        <td id=\"T_351b82aa_42d0_11eb_bd81_02420a3924cbrow7_col1\" class=\"data row7 col1\" >11</td>\n",
       "                        <td id=\"T_351b82aa_42d0_11eb_bd81_02420a3924cbrow7_col2\" class=\"data row7 col2\" >538</td>\n",
       "                        <td id=\"T_351b82aa_42d0_11eb_bd81_02420a3924cbrow7_col3\" class=\"data row7 col3\" >549</td>\n",
       "                        <td id=\"T_351b82aa_42d0_11eb_bd81_02420a3924cbrow7_col4\" class=\"data row7 col4\" >2.00364</td>\n",
       "                        <td id=\"T_351b82aa_42d0_11eb_bd81_02420a3924cbrow7_col5\" class=\"data row7 col5\" >97.9964</td>\n",
       "            </tr>\n",
       "            <tr>\n",
       "                        <th id=\"T_351b82aa_42d0_11eb_bd81_02420a3924cblevel0_row8\" class=\"row_heading level0 row8\" >7</th>\n",
       "                        <td id=\"T_351b82aa_42d0_11eb_bd81_02420a3924cbrow8_col0\" class=\"data row8 col0\" >столовая</td>\n",
       "                        <td id=\"T_351b82aa_42d0_11eb_bd81_02420a3924cbrow8_col1\" class=\"data row8 col1\" >3</td>\n",
       "                        <td id=\"T_351b82aa_42d0_11eb_bd81_02420a3924cbrow8_col2\" class=\"data row8 col2\" >2440</td>\n",
       "                        <td id=\"T_351b82aa_42d0_11eb_bd81_02420a3924cbrow8_col3\" class=\"data row8 col3\" >2443</td>\n",
       "                        <td id=\"T_351b82aa_42d0_11eb_bd81_02420a3924cbrow8_col4\" class=\"data row8 col4\" >0.1228</td>\n",
       "                        <td id=\"T_351b82aa_42d0_11eb_bd81_02420a3924cbrow8_col5\" class=\"data row8 col5\" >99.8772</td>\n",
       "            </tr>\n",
       "    </tbody></table>"
      ],
      "text/plain": [
       "<pandas.io.formats.style.Styler at 0x7f80e1c6b090>"
      ]
     },
     "execution_count": 40,
     "metadata": {},
     "output_type": "execute_result"
    }
   ],
   "source": [
    "chain_type.style.background_gradient(cmap='viridis_r')"
   ]
  },
  {
   "cell_type": "code",
   "execution_count": 41,
   "metadata": {},
   "outputs": [],
   "source": [
    "chain_type = chain_type.set_index('object_type')"
   ]
  },
  {
   "cell_type": "code",
   "execution_count": 42,
   "metadata": {},
   "outputs": [
    {
     "data": {
      "image/png": "[encoded data removed]",
      "text/plain": [
       "<Figure size 504x360 with 1 Axes>"
      ]
     },
     "metadata": {},
     "output_type": "display_data"
    }
   ],
   "source": [
    "chain_type[['rate_yes_chain', 'rate_no_chain']].plot.barh(stacked=True, figsize=(7,5), color=('r', 'g'))\n",
    "plt.title('Процентное соотношение сетевых и несетвых объектов питания,%', fontsize=17, pad=15)\n",
    "plt.legend(['сетевые', 'несетевые'])\n",
    "plt.xlabel('Доля заведений от общего количества')\n",
    "plt.ylabel('Тип заведения')\n",
    "plt.show()"
   ]
  },
  {
   "cell_type": "markdown",
   "metadata": {},
   "source": [
    "<div class=\"alert alert-success\">\n",
    "<b>Комментарий ревьюера:</b> Классные таблицы и график! Впервые вижу такое у студента :)\n",
    "</div>"
   ]
  },
  {
   "cell_type": "markdown",
   "metadata": {},
   "source": [
    "Конечно, среди всех типов заведений наибольшая доля приходится на несетевые. У сетевых заведений наиболее высокая доля предприятий быстрого питания (40%). Также высока доля у магазинов кулинарии (30%), ресторанов и кафе (по 23%). Минимальная доля сетевых заведений среди столовых (почти 100% приходится на несетевые) и буфеты(2%)."
   ]
  },
  {
   "cell_type": "markdown",
   "metadata": {},
   "source": [
    "### 4. Что характерно для сетевых заведений: много заведений с небольшим числом посадочных мест в каждом или мало заведений с большим количеством посадочных мест?\n",
    "<a id=\"item_4\"></a>"
   ]
  },
  {
   "cell_type": "code",
   "execution_count": 43,
   "metadata": {},
   "outputs": [
    {
     "data": {
      "text/html": [
       "<div>\n",
       "<style scoped>\n",
       "    .dataframe tbody tr th:only-of-type {\n",
       "        vertical-align: middle;\n",
       "    }\n",
       "\n",
       "    .dataframe tbody tr th {\n",
       "        vertical-align: top;\n",
       "    }\n",
       "\n",
       "    .dataframe thead th {\n",
       "        text-align: right;\n",
       "    }\n",
       "</style>\n",
       "<table border=\"1\" class=\"dataframe\">\n",
       "  <thead>\n",
       "    <tr style=\"text-align: right;\">\n",
       "      <th></th>\n",
       "      <th>id</th>\n",
       "      <th>object_name</th>\n",
       "      <th>chain</th>\n",
       "      <th>object_type</th>\n",
       "      <th>address</th>\n",
       "      <th>number</th>\n",
       "      <th>address_new</th>\n",
       "    </tr>\n",
       "  </thead>\n",
       "  <tbody>\n",
       "    <tr>\n",
       "      <td>3</td>\n",
       "      <td>21894</td>\n",
       "      <td>пиццетория</td>\n",
       "      <td>да</td>\n",
       "      <td>кафе</td>\n",
       "      <td>город москва, абрамцевская улица, дом 1</td>\n",
       "      <td>40</td>\n",
       "      <td>абрамцевская улица, дом 1</td>\n",
       "    </tr>\n",
       "    <tr>\n",
       "      <td>6</td>\n",
       "      <td>148815</td>\n",
       "      <td>брусника</td>\n",
       "      <td>да</td>\n",
       "      <td>кафе</td>\n",
       "      <td>город москва, переулок сивцев вражек, дом 6/2</td>\n",
       "      <td>10</td>\n",
       "      <td>переулок сивцев вражек, дом 6/2</td>\n",
       "    </tr>\n",
       "    <tr>\n",
       "      <td>13</td>\n",
       "      <td>22579</td>\n",
       "      <td>алло пицца</td>\n",
       "      <td>да</td>\n",
       "      <td>кафе</td>\n",
       "      <td>город москва, улица авиаторов, дом 14</td>\n",
       "      <td>32</td>\n",
       "      <td>улица авиаторов, дом 14</td>\n",
       "    </tr>\n",
       "    <tr>\n",
       "      <td>16</td>\n",
       "      <td>144107</td>\n",
       "      <td>суши wok</td>\n",
       "      <td>да</td>\n",
       "      <td>фаст-фуд</td>\n",
       "      <td>город москва, азовская улица, дом 3</td>\n",
       "      <td>7</td>\n",
       "      <td>азовская улица, дом 3</td>\n",
       "    </tr>\n",
       "    <tr>\n",
       "      <td>18</td>\n",
       "      <td>58565</td>\n",
       "      <td>тануки</td>\n",
       "      <td>да</td>\n",
       "      <td>ресторан</td>\n",
       "      <td>город москва, большая академическая улица, дом 65</td>\n",
       "      <td>160</td>\n",
       "      <td>большая академическая улица, дом 65</td>\n",
       "    </tr>\n",
       "  </tbody>\n",
       "</table>\n",
       "</div>"
      ],
      "text/plain": [
       "        id object_name chain object_type  \\\n",
       "3    21894  пиццетория    да        кафе   \n",
       "6   148815    брусника    да        кафе   \n",
       "13   22579  алло пицца    да        кафе   \n",
       "16  144107    суши wok    да    фаст-фуд   \n",
       "18   58565      тануки    да    ресторан   \n",
       "\n",
       "                                              address  number  \\\n",
       "3             город москва, абрамцевская улица, дом 1      40   \n",
       "6       город москва, переулок сивцев вражек, дом 6/2      10   \n",
       "13              город москва, улица авиаторов, дом 14      32   \n",
       "16                город москва, азовская улица, дом 3       7   \n",
       "18  город москва, большая академическая улица, дом 65     160   \n",
       "\n",
       "                            address_new  \n",
       "3             абрамцевская улица, дом 1  \n",
       "6       переулок сивцев вражек, дом 6/2  \n",
       "13              улица авиаторов, дом 14  \n",
       "16                азовская улица, дом 3  \n",
       "18  большая академическая улица, дом 65  "
      ]
     },
     "execution_count": 43,
     "metadata": {},
     "output_type": "execute_result"
    }
   ],
   "source": [
    "chain_yes = rest_data.query('chain == \"да\"')\n",
    "chain_yes.head()"
   ]
  },
  {
   "cell_type": "code",
   "execution_count": 44,
   "metadata": {},
   "outputs": [
    {
     "data": {
      "text/plain": [
       "шоколадница        176\n",
       "kfc                174\n",
       "макдоналдс         159\n",
       "бургер кинг        146\n",
       "домино'с пицца      98\n",
       "теремок             87\n",
       "крошка картошка     82\n",
       "милти               69\n",
       "суши wok            67\n",
       "папа джонс          48\n",
       "додо пицца          45\n",
       "кофе с собой        43\n",
       "чайхона №1          42\n",
       "хинкальная          36\n",
       "subway              34\n",
       "якитория            34\n",
       "кофе хаус           32\n",
       "хлеб насущный       32\n",
       "тануки              32\n",
       "starbucks           28\n",
       "Name: object_name, dtype: int64"
      ]
     },
     "execution_count": 44,
     "metadata": {},
     "output_type": "execute_result"
    }
   ],
   "source": [
    "chain_yes['object_name'].value_counts().head(20)"
   ]
  },
  {
   "cell_type": "markdown",
   "metadata": {},
   "source": [
    "Сгруппируем табличку, которая будет показывать количество заведений каждой сети и среднее число посадочных мест."
   ]
  },
  {
   "cell_type": "code",
   "execution_count": 45,
   "metadata": {},
   "outputs": [
    {
     "data": {
      "text/html": [
       "<div>\n",
       "<style scoped>\n",
       "    .dataframe tbody tr th:only-of-type {\n",
       "        vertical-align: middle;\n",
       "    }\n",
       "\n",
       "    .dataframe tbody tr th {\n",
       "        vertical-align: top;\n",
       "    }\n",
       "\n",
       "    .dataframe thead th {\n",
       "        text-align: right;\n",
       "    }\n",
       "</style>\n",
       "<table border=\"1\" class=\"dataframe\">\n",
       "  <thead>\n",
       "    <tr style=\"text-align: right;\">\n",
       "      <th></th>\n",
       "      <th>object_name</th>\n",
       "      <th>id</th>\n",
       "      <th>number</th>\n",
       "    </tr>\n",
       "  </thead>\n",
       "  <tbody>\n",
       "    <tr>\n",
       "      <td>512</td>\n",
       "      <td>шоколадница</td>\n",
       "      <td>176</td>\n",
       "      <td>58.153409</td>\n",
       "    </tr>\n",
       "    <tr>\n",
       "      <td>22</td>\n",
       "      <td>kfc</td>\n",
       "      <td>174</td>\n",
       "      <td>56.511494</td>\n",
       "    </tr>\n",
       "    <tr>\n",
       "      <td>303</td>\n",
       "      <td>макдоналдс</td>\n",
       "      <td>159</td>\n",
       "      <td>91.672956</td>\n",
       "    </tr>\n",
       "    <tr>\n",
       "      <td>104</td>\n",
       "      <td>бургер кинг</td>\n",
       "      <td>146</td>\n",
       "      <td>49.363014</td>\n",
       "    </tr>\n",
       "    <tr>\n",
       "      <td>152</td>\n",
       "      <td>домино'с пицца</td>\n",
       "      <td>98</td>\n",
       "      <td>17.979592</td>\n",
       "    </tr>\n",
       "  </tbody>\n",
       "</table>\n",
       "</div>"
      ],
      "text/plain": [
       "        object_name   id     number\n",
       "512     шоколадница  176  58.153409\n",
       "22              kfc  174  56.511494\n",
       "303      макдоналдс  159  91.672956\n",
       "104     бургер кинг  146  49.363014\n",
       "152  домино'с пицца   98  17.979592"
      ]
     },
     "execution_count": 45,
     "metadata": {},
     "output_type": "execute_result"
    }
   ],
   "source": [
    "data_chain = chain_yes.groupby('object_name').agg({'id':'count', 'number':'mean'}).reset_index().sort_values(by='id', ascending=False)\n",
    "data_chain.head()"
   ]
  },
  {
   "cell_type": "code",
   "execution_count": 46,
   "metadata": {},
   "outputs": [
    {
     "data": {
      "image/png": "[encoded data removed]",
      "text/plain": [
       "<Figure size 432x432 with 3 Axes>"
      ]
     },
     "metadata": {},
     "output_type": "display_data"
    }
   ],
   "source": [
    "sns.jointplot(x='number', y='id', data=data_chain, kind='reg', color='purple')\n",
    "plt.xlabel('Количество посадочных мест')\n",
    "plt.ylabel('Количество заведений в сети')\n",
    "plt.title('Взаимосвязь между количеством посадочных мест и числом заведений в сети', fontsize=17, pad=75)\n",
    "plt.grid()\n",
    "plt.show()"
   ]
  },
  {
   "cell_type": "markdown",
   "metadata": {},
   "source": [
    "По графику взаимосвязи между количеством посадочных мест и количеством объектов в сети можем сделать вывод, что чем меньшим количеством заведений представлена сеть, тем больше в них посадочных мест. Такие крупные сети, как макдоналдс, шоколадница, кфс, бургер кинг имеют в среднем до 100 посадочных мест. "
   ]
  },
  {
   "cell_type": "markdown",
   "metadata": {},
   "source": [
    "\n",
    "<div class=\"alert alert-danger\">\n",
    "<s><b>Комментарий ревьюера:</b> Абсолютно верный выбор графика! Но ему не хвататет заголовка.\n",
    "</div>"
   ]
  },
  {
   "cell_type": "markdown",
   "metadata": {},
   "source": [
    "<div class=\"alert alert-info\"> <b>Комментарий студента:</b> Заголовок добавила)</div>"
   ]
  },
  {
   "cell_type": "markdown",
   "metadata": {},
   "source": [
    "<div class=\"alert alert-success\">\n",
    "<b>Комментарий ревьюера v2:</b> ✅\n",
    "</div>"
   ]
  },
  {
   "cell_type": "code",
   "execution_count": 47,
   "metadata": {},
   "outputs": [
    {
     "data": {
      "image/png": "[encoded data removed]",
      "text/plain": [
       "<Figure size 432x288 with 1 Axes>"
      ]
     },
     "metadata": {},
     "output_type": "display_data"
    }
   ],
   "source": [
    "ax = sns.boxplot(x=chain_yes['number'])\n",
    "plt.title('Распределение количества посадочных мест в сетевых заведениях')\n",
    "plt.xlabel('количество мест')\n",
    "plt.show()"
   ]
  },
  {
   "cell_type": "markdown",
   "metadata": {},
   "source": [
    "<div class=\"alert alert-danger\">\n",
    "<s><b>Комментарий ревьюера:</b> А этот парень вообще какой-то потерянный на фоне конкурента выше - ни заголовка, ни подписей осей, ни комментария оправдывающего его существования.\n",
    "</div>"
   ]
  },
  {
   "cell_type": "markdown",
   "metadata": {},
   "source": [
    "<div class=\"alert alert-info\"> <b>Комментарий студента:</b> И правда, что-то я видимо забыла про него. На самом деле, может и нет смысла его здесь оставлять, так как он не показывает взаимосвязи с количеством заведений. Но в целом для понимания распределения количества посадочных мест можно оставить.</div>"
   ]
  },
  {
   "cell_type": "markdown",
   "metadata": {},
   "source": [
    "<div class=\"alert alert-success\">\n",
    "<b>Комментарий ревьюера v2:</b> ✅\n",
    "</div>"
   ]
  },
  {
   "cell_type": "markdown",
   "metadata": {},
   "source": [
    "### 5. Для каждого вида объекта общественного питания опишите среднее количество посадочных мест. Какой вид предоставляет в среднем самое большое количество посадочных мест? Постройте графики.\n",
    "<a id=\"item_5\"></a>"
   ]
  },
  {
   "cell_type": "code",
   "execution_count": 48,
   "metadata": {},
   "outputs": [
    {
     "data": {
      "image/png": "[encoded data removed]",
      "text/plain": [
       "<Figure size 648x504 with 1 Axes>"
      ]
     },
     "metadata": {},
     "output_type": "display_data"
    }
   ],
   "source": [
    "fig, ax = plt.subplots(figsize=(9,7))\n",
    "ax = sns.boxplot(x='number', y='object_type', data = rest_data, palette = 'Set2')\n",
    "ax.set_xlim(-10, 400)\n",
    "plt.title('Распределение посадочных мест для каждого типа объекта общепита', fontsize=17, pad=15)\n",
    "plt.xlabel('Количество посадочных мест')\n",
    "plt.ylabel('Тип заведения')\n",
    "plt.show()"
   ]
  },
  {
   "cell_type": "code",
   "execution_count": 49,
   "metadata": {},
   "outputs": [
    {
     "data": {
      "text/plain": [
       "count    14359.000000\n",
       "mean        60.747615\n",
       "std         75.656924\n",
       "min          0.000000\n",
       "25%         15.000000\n",
       "50%         40.000000\n",
       "75%         80.000000\n",
       "max       1700.000000\n",
       "Name: number, dtype: float64"
      ]
     },
     "execution_count": 49,
     "metadata": {},
     "output_type": "execute_result"
    }
   ],
   "source": [
    "rest_data['number'].describe()"
   ]
  },
  {
   "cell_type": "code",
   "execution_count": 50,
   "metadata": {},
   "outputs": [
    {
     "data": {
      "image/png": "[encoded data removed]",
      "text/plain": [
       "<Figure size 648x432 with 1 Axes>"
      ]
     },
     "metadata": {},
     "output_type": "display_data"
    }
   ],
   "source": [
    "fig, ax = plt.subplots(figsize=(9,6))\n",
    "ax = rest_data.groupby('object_type')['number'].agg('mean').reset_index().sort_values(by='number', ascending=False)\n",
    "ax= sns.barplot(x='object_type', y='number', data=ax, palette='twilight_r')\n",
    "plt.title('Среднее количество посадочных мест для типов заведений общепита в Москве', fontsize=17, pad=15)\n",
    "plt.xlabel('Тип заведения')\n",
    "plt.ylabel('Количество посадочных мест')\n",
    "plt.xticks(rotation=45)\n",
    "plt.show()"
   ]
  },
  {
   "cell_type": "code",
   "execution_count": 51,
   "metadata": {},
   "outputs": [
    {
     "data": {
      "text/html": [
       "<div>\n",
       "<style scoped>\n",
       "    .dataframe tbody tr th:only-of-type {\n",
       "        vertical-align: middle;\n",
       "    }\n",
       "\n",
       "    .dataframe tbody tr th {\n",
       "        vertical-align: top;\n",
       "    }\n",
       "\n",
       "    .dataframe thead th {\n",
       "        text-align: right;\n",
       "    }\n",
       "</style>\n",
       "<table border=\"1\" class=\"dataframe\">\n",
       "  <thead>\n",
       "    <tr style=\"text-align: right;\">\n",
       "      <th></th>\n",
       "      <th>id</th>\n",
       "      <th>object_name</th>\n",
       "      <th>chain</th>\n",
       "      <th>object_type</th>\n",
       "      <th>address</th>\n",
       "      <th>number</th>\n",
       "      <th>address_new</th>\n",
       "    </tr>\n",
       "  </thead>\n",
       "  <tbody>\n",
       "    <tr>\n",
       "      <td>4032</td>\n",
       "      <td>21478</td>\n",
       "      <td>школа №904 оао «кдп»</td>\n",
       "      <td>нет</td>\n",
       "      <td>столовая</td>\n",
       "      <td>город москва, улица бехтерева, дом 17а</td>\n",
       "      <td>96</td>\n",
       "      <td>улица бехтерева, дом 17а</td>\n",
       "    </tr>\n",
       "    <tr>\n",
       "      <td>4402</td>\n",
       "      <td>23816</td>\n",
       "      <td>столовая школа 97</td>\n",
       "      <td>нет</td>\n",
       "      <td>столовая</td>\n",
       "      <td>город москва, кременчугская улица, дом 46</td>\n",
       "      <td>168</td>\n",
       "      <td>кременчугская улица, дом 46</td>\n",
       "    </tr>\n",
       "    <tr>\n",
       "      <td>12620</td>\n",
       "      <td>194426</td>\n",
       "      <td>столовая гбоу школа № 1517</td>\n",
       "      <td>нет</td>\n",
       "      <td>столовая</td>\n",
       "      <td>город москва, живописная улица, дом 2, корпус 2</td>\n",
       "      <td>250</td>\n",
       "      <td>живописная улица, дом 2, корпус 2</td>\n",
       "    </tr>\n",
       "    <tr>\n",
       "      <td>5056</td>\n",
       "      <td>20937</td>\n",
       "      <td>бизнес-школа аип</td>\n",
       "      <td>нет</td>\n",
       "      <td>столовая</td>\n",
       "      <td>город москва, улица образцова, дом 9, строение 9</td>\n",
       "      <td>132</td>\n",
       "      <td>улица образцова, дом 9, строение 9</td>\n",
       "    </tr>\n",
       "    <tr>\n",
       "      <td>2505</td>\n",
       "      <td>29354</td>\n",
       "      <td>столовая школы 901</td>\n",
       "      <td>нет</td>\n",
       "      <td>столовая</td>\n",
       "      <td>город москва, улица подольских курсантов, дом 18б</td>\n",
       "      <td>240</td>\n",
       "      <td>улица подольских курсантов, дом 18б</td>\n",
       "    </tr>\n",
       "    <tr>\n",
       "      <td>5208</td>\n",
       "      <td>28710</td>\n",
       "      <td>столовая при шк. n255</td>\n",
       "      <td>нет</td>\n",
       "      <td>столовая</td>\n",
       "      <td>город москва, мурановская улица, дом 8б</td>\n",
       "      <td>240</td>\n",
       "      <td>мурановская улица, дом 8б</td>\n",
       "    </tr>\n",
       "    <tr>\n",
       "      <td>4916</td>\n",
       "      <td>70866</td>\n",
       "      <td>столовая</td>\n",
       "      <td>нет</td>\n",
       "      <td>столовая</td>\n",
       "      <td>город москва, старый петровско-разумовский про...</td>\n",
       "      <td>35</td>\n",
       "      <td>старый петровско-разумовский проезд, дом 1/23,...</td>\n",
       "    </tr>\n",
       "    <tr>\n",
       "      <td>6903</td>\n",
       "      <td>104788</td>\n",
       "      <td>столовая le cafe</td>\n",
       "      <td>нет</td>\n",
       "      <td>столовая</td>\n",
       "      <td>город москва, волоколамское шоссе, дом 142</td>\n",
       "      <td>65</td>\n",
       "      <td>волоколамское шоссе, дом 142</td>\n",
       "    </tr>\n",
       "    <tr>\n",
       "      <td>7143</td>\n",
       "      <td>81175</td>\n",
       "      <td>столовая - ргау-мсха им. к.а. тимирязева</td>\n",
       "      <td>нет</td>\n",
       "      <td>столовая</td>\n",
       "      <td>город москва, тимирязевская улица, дом 58</td>\n",
       "      <td>70</td>\n",
       "      <td>тимирязевская улица, дом 58</td>\n",
       "    </tr>\n",
       "    <tr>\n",
       "      <td>3595</td>\n",
       "      <td>152160</td>\n",
       "      <td>школа с углубленным изучением отдельных предме...</td>\n",
       "      <td>нет</td>\n",
       "      <td>столовая</td>\n",
       "      <td>город москва, малый палашёвский переулок, дом 3</td>\n",
       "      <td>100</td>\n",
       "      <td>малый палашёвский переулок, дом 3</td>\n",
       "    </tr>\n",
       "  </tbody>\n",
       "</table>\n",
       "</div>"
      ],
      "text/plain": [
       "           id                                        object_name chain  \\\n",
       "4032    21478                               школа №904 оао «кдп»   нет   \n",
       "4402    23816                                  столовая школа 97   нет   \n",
       "12620  194426                         столовая гбоу школа № 1517   нет   \n",
       "5056    20937                                   бизнес-школа аип   нет   \n",
       "2505    29354                                 столовая школы 901   нет   \n",
       "5208    28710                              столовая при шк. n255   нет   \n",
       "4916    70866                                           столовая   нет   \n",
       "6903   104788                                   столовая le cafe   нет   \n",
       "7143    81175           столовая - ргау-мсха им. к.а. тимирязева   нет   \n",
       "3595   152160  школа с углубленным изучением отдельных предме...   нет   \n",
       "\n",
       "      object_type                                            address  number  \\\n",
       "4032     столовая             город москва, улица бехтерева, дом 17а      96   \n",
       "4402     столовая          город москва, кременчугская улица, дом 46     168   \n",
       "12620    столовая    город москва, живописная улица, дом 2, корпус 2     250   \n",
       "5056     столовая   город москва, улица образцова, дом 9, строение 9     132   \n",
       "2505     столовая  город москва, улица подольских курсантов, дом 18б     240   \n",
       "5208     столовая            город москва, мурановская улица, дом 8б     240   \n",
       "4916     столовая  город москва, старый петровско-разумовский про...      35   \n",
       "6903     столовая         город москва, волоколамское шоссе, дом 142      65   \n",
       "7143     столовая          город москва, тимирязевская улица, дом 58      70   \n",
       "3595     столовая    город москва, малый палашёвский переулок, дом 3     100   \n",
       "\n",
       "                                             address_new  \n",
       "4032                            улица бехтерева, дом 17а  \n",
       "4402                         кременчугская улица, дом 46  \n",
       "12620                  живописная улица, дом 2, корпус 2  \n",
       "5056                  улица образцова, дом 9, строение 9  \n",
       "2505                 улица подольских курсантов, дом 18б  \n",
       "5208                           мурановская улица, дом 8б  \n",
       "4916   старый петровско-разумовский проезд, дом 1/23,...  \n",
       "6903                        волоколамское шоссе, дом 142  \n",
       "7143                         тимирязевская улица, дом 58  \n",
       "3595                   малый палашёвский переулок, дом 3  "
      ]
     },
     "execution_count": 51,
     "metadata": {},
     "output_type": "execute_result"
    }
   ],
   "source": [
    "rest_data[rest_data['object_type'] == 'столовая'].sample(10)"
   ]
  },
  {
   "cell_type": "markdown",
   "metadata": {},
   "source": [
    "Больше всего посадочных мест в столовых и ресторанах. Меньше всего - в закусочных и кулинариях. Среди столовых преобладают столовые при различных учебных заведениях (школах, колледжах, вузах)."
   ]
  },
  {
   "cell_type": "markdown",
   "metadata": {},
   "source": [
    "<div class=\"alert alert-success\">\n",
    "<b>Комментарий ревьюера:</b> 👍\n",
    "</div>\n"
   ]
  },
  {
   "cell_type": "markdown",
   "metadata": {},
   "source": [
    "### 6. Выделите в отдельный столбец информацию об улице из столбца address .\n",
    "<a id=\"item_6\"></a>"
   ]
  },
  {
   "cell_type": "code",
   "execution_count": 52,
   "metadata": {},
   "outputs": [
    {
     "data": {
      "text/html": [
       "<div>\n",
       "<style scoped>\n",
       "    .dataframe tbody tr th:only-of-type {\n",
       "        vertical-align: middle;\n",
       "    }\n",
       "\n",
       "    .dataframe tbody tr th {\n",
       "        vertical-align: top;\n",
       "    }\n",
       "\n",
       "    .dataframe thead th {\n",
       "        text-align: right;\n",
       "    }\n",
       "</style>\n",
       "<table border=\"1\" class=\"dataframe\">\n",
       "  <thead>\n",
       "    <tr style=\"text-align: right;\">\n",
       "      <th></th>\n",
       "      <th>id</th>\n",
       "      <th>object_name</th>\n",
       "      <th>chain</th>\n",
       "      <th>object_type</th>\n",
       "      <th>address</th>\n",
       "      <th>number</th>\n",
       "      <th>address_new</th>\n",
       "    </tr>\n",
       "  </thead>\n",
       "  <tbody>\n",
       "    <tr>\n",
       "      <td>0</td>\n",
       "      <td>151635</td>\n",
       "      <td>сметана</td>\n",
       "      <td>нет</td>\n",
       "      <td>кафе</td>\n",
       "      <td>город москва, улица егора абакумова, дом 9</td>\n",
       "      <td>48</td>\n",
       "      <td>улица егора абакумова, дом 9</td>\n",
       "    </tr>\n",
       "    <tr>\n",
       "      <td>1</td>\n",
       "      <td>77874</td>\n",
       "      <td>родник</td>\n",
       "      <td>нет</td>\n",
       "      <td>кафе</td>\n",
       "      <td>город москва, улица талалихина, дом 2/1, корпус 1</td>\n",
       "      <td>35</td>\n",
       "      <td>улица талалихина, дом 2/1, корпус 1</td>\n",
       "    </tr>\n",
       "    <tr>\n",
       "      <td>2</td>\n",
       "      <td>24309</td>\n",
       "      <td>кафе «академия»</td>\n",
       "      <td>нет</td>\n",
       "      <td>кафе</td>\n",
       "      <td>город москва, абельмановская улица, дом 6</td>\n",
       "      <td>95</td>\n",
       "      <td>абельмановская улица, дом 6</td>\n",
       "    </tr>\n",
       "    <tr>\n",
       "      <td>3</td>\n",
       "      <td>21894</td>\n",
       "      <td>пиццетория</td>\n",
       "      <td>да</td>\n",
       "      <td>кафе</td>\n",
       "      <td>город москва, абрамцевская улица, дом 1</td>\n",
       "      <td>40</td>\n",
       "      <td>абрамцевская улица, дом 1</td>\n",
       "    </tr>\n",
       "    <tr>\n",
       "      <td>4</td>\n",
       "      <td>119365</td>\n",
       "      <td>кафе «вишневая метель»</td>\n",
       "      <td>нет</td>\n",
       "      <td>кафе</td>\n",
       "      <td>город москва, абрамцевская улица, дом 9, корпус 1</td>\n",
       "      <td>50</td>\n",
       "      <td>абрамцевская улица, дом 9, корпус 1</td>\n",
       "    </tr>\n",
       "  </tbody>\n",
       "</table>\n",
       "</div>"
      ],
      "text/plain": [
       "       id             object_name chain object_type  \\\n",
       "0  151635                 сметана   нет        кафе   \n",
       "1   77874                  родник   нет        кафе   \n",
       "2   24309         кафе «академия»   нет        кафе   \n",
       "3   21894              пиццетория    да        кафе   \n",
       "4  119365  кафе «вишневая метель»   нет        кафе   \n",
       "\n",
       "                                             address  number  \\\n",
       "0         город москва, улица егора абакумова, дом 9      48   \n",
       "1  город москва, улица талалихина, дом 2/1, корпус 1      35   \n",
       "2          город москва, абельмановская улица, дом 6      95   \n",
       "3            город москва, абрамцевская улица, дом 1      40   \n",
       "4  город москва, абрамцевская улица, дом 9, корпус 1      50   \n",
       "\n",
       "                           address_new  \n",
       "0         улица егора абакумова, дом 9  \n",
       "1  улица талалихина, дом 2/1, корпус 1  \n",
       "2          абельмановская улица, дом 6  \n",
       "3            абрамцевская улица, дом 1  \n",
       "4  абрамцевская улица, дом 9, корпус 1  "
      ]
     },
     "execution_count": 52,
     "metadata": {},
     "output_type": "execute_result"
    }
   ],
   "source": [
    "rest_data.head()"
   ]
  },
  {
   "cell_type": "markdown",
   "metadata": {},
   "source": [
    "Из столбца \"address_new\" выделим часть строки до запятой, тем самым получим название улицы."
   ]
  },
  {
   "cell_type": "code",
   "execution_count": 53,
   "metadata": {},
   "outputs": [],
   "source": [
    "rest_data['street'] = rest_data['address_new'].apply(lambda x: x.split(',')[0])"
   ]
  },
  {
   "cell_type": "code",
   "execution_count": 54,
   "metadata": {},
   "outputs": [
    {
     "data": {
      "text/plain": [
       "проспект мира              195\n",
       "профсоюзная улица          180\n",
       "ленинградский проспект     172\n",
       "пресненская набережная     165\n",
       "варшавское шоссе           160\n",
       "                          ... \n",
       "филипповский переулок        1\n",
       "улица шеногина               1\n",
       "тихий тупик                  1\n",
       "улица рогожский посёлок      1\n",
       "улица девятая рота           1\n",
       "Name: street, Length: 1830, dtype: int64"
      ]
     },
     "execution_count": 54,
     "metadata": {},
     "output_type": "execute_result"
    }
   ],
   "source": [
    "rest_data['street'].value_counts()"
   ]
  },
  {
   "cell_type": "markdown",
   "metadata": {},
   "source": [
    "### 7. Постройте график топ-10 улиц по количеству объектов общественного питания. Воспользуйтесь внешней информацией и ответьте на вопрос — в каких районах Москвы находятся эти улицы?\n",
    "<a id=\"item_7\"></a>"
   ]
  },
  {
   "cell_type": "code",
   "execution_count": 55,
   "metadata": {},
   "outputs": [],
   "source": [
    "top_10_streets = rest_data.groupby('street').agg({'id':'count'}).sort_values(by='id', ascending=False).reset_index().head(10)"
   ]
  },
  {
   "cell_type": "code",
   "execution_count": 56,
   "metadata": {},
   "outputs": [
    {
     "data": {
      "image/png": "[encoded data removed]",
      "text/plain": [
       "<Figure size 648x360 with 1 Axes>"
      ]
     },
     "metadata": {},
     "output_type": "display_data"
    }
   ],
   "source": [
    "fig, ax = plt.subplots(figsize=(9,5))\n",
    "ax=sns.barplot(x='id', y='street', data=top_10_streets, palette='inferno')\n",
    "plt.xticks(rotation=45)\n",
    "plt.title('Топ-10 улиц по количеству объектов общественного питания', fontsize=17, pad=15)\n",
    "plt.xlabel('количество объектов')\n",
    "plt.ylabel('улица')\n",
    "plt.show()"
   ]
  },
  {
   "cell_type": "markdown",
   "metadata": {},
   "source": [
    "По графику видим, что в топ-10 улиц по количеству заведений общепита входят достаточно крупные и длинные улицы Москвы. Расположено на них от 100 до 200 объектов общественного питания."
   ]
  },
  {
   "cell_type": "markdown",
   "metadata": {},
   "source": [
    "<div class=\"alert alert-danger\">\n",
    "<s><b>Комментарий ревьюера:</b> Здесб переход на горизонтальный barplot становится необходимостью, метки куда-то плывут.\n",
    "</div>"
   ]
  },
  {
   "cell_type": "markdown",
   "metadata": {},
   "source": [
    "<div class=\"alert alert-danger\">\n",
    "<s><b>Комментарий ревьюера:</b> Добавь, пожалуйста, вывод по графику.\n",
    "</div>"
   ]
  },
  {
   "cell_type": "markdown",
   "metadata": {},
   "source": [
    "<div class=\"alert alert-info\"> <b>Комментарий студента:</b> Есть.</div>"
   ]
  },
  {
   "cell_type": "markdown",
   "metadata": {},
   "source": [
    "<div class=\"alert alert-success\">\n",
    "<b>Комментарий ревьюера v2:</b> Абсолютно верно, основной критерий определяющий популярность улицы - ее размер.\n",
    "</div>"
   ]
  },
  {
   "cell_type": "markdown",
   "metadata": {},
   "source": [
    "Создадим список топ-10 улиц."
   ]
  },
  {
   "cell_type": "code",
   "execution_count": 57,
   "metadata": {},
   "outputs": [
    {
     "data": {
      "text/plain": [
       "['проспект мира',\n",
       " 'профсоюзная улица',\n",
       " 'ленинградский проспект',\n",
       " 'пресненская набережная',\n",
       " 'варшавское шоссе',\n",
       " 'ленинский проспект',\n",
       " 'проспект вернадского',\n",
       " 'кутузовский проспект',\n",
       " 'каширское шоссе',\n",
       " 'кировоградская улица']"
      ]
     },
     "execution_count": 57,
     "metadata": {},
     "output_type": "execute_result"
    }
   ],
   "source": [
    "top_10 = list(top_10_streets['street'])\n",
    "top_10"
   ]
  },
  {
   "cell_type": "markdown",
   "metadata": {},
   "source": [
    "Удалим из адреса все символы"
   ]
  },
  {
   "cell_type": "code",
   "execution_count": 58,
   "metadata": {},
   "outputs": [],
   "source": [
    "symbols = [',', '«', '»', '(', ')', '\"', '  ']\n",
    "for s in symbols:\n",
    "    rest_data['address_new'] = rest_data['address_new'].str.replace(s, ' ')"
   ]
  },
  {
   "cell_type": "markdown",
   "metadata": {},
   "source": [
    "Сделаем срез данных, оставив только те улицы, которые входят в топ-10 по количеству заведений."
   ]
  },
  {
   "cell_type": "code",
   "execution_count": 59,
   "metadata": {},
   "outputs": [],
   "source": [
    "data_top_10_streets = rest_data.query('street in @top_10')"
   ]
  },
  {
   "cell_type": "code",
   "execution_count": 60,
   "metadata": {},
   "outputs": [
    {
     "data": {
      "text/plain": [
       "пресненская набережная дом 2              61\n",
       "проспект мира дом 211 корпус 2            53\n",
       "кировоградская улица дом 13а              52\n",
       "кутузовский проспект дом 57               40\n",
       "проспект вернадского дом 6                29\n",
       "                                          ..\n",
       "ленинский проспект дом 131 корпус 4        1\n",
       "профсоюзная улица дом 4                    1\n",
       "ленинградский проспект дом 77 корпус 4     1\n",
       "каширское шоссе дом 52                     1\n",
       "проспект мира дом 7 строение 3             1\n",
       "Name: address_new, Length: 589, dtype: int64"
      ]
     },
     "execution_count": 60,
     "metadata": {},
     "output_type": "execute_result"
    }
   ],
   "source": [
    "data_top_10_streets['address_new'].value_counts()"
   ]
  },
  {
   "cell_type": "markdown",
   "metadata": {},
   "source": [
    "Импортируем файл, найденный на портале открытых данных mos.ru с данными об улицах и районах"
   ]
  },
  {
   "cell_type": "code",
   "execution_count": 61,
   "metadata": {},
   "outputs": [],
   "source": [
    "spreadsheet_id = '1epqv1xZuNxRBkEGKLOLs6OAdNkt0fyPF'\n",
    "file_name = 'https://docs.google.com/spreadsheets/d/{}/export?format=xlsx'.format(spreadsheet_id)\n",
    "r = requests.get(file_name)\n",
    "df_new = pd.read_excel(BytesIO(r.content))"
   ]
  },
  {
   "cell_type": "code",
   "execution_count": 62,
   "metadata": {},
   "outputs": [
    {
     "data": {
      "text/html": [
       "<div>\n",
       "<style scoped>\n",
       "    .dataframe tbody tr th:only-of-type {\n",
       "        vertical-align: middle;\n",
       "    }\n",
       "\n",
       "    .dataframe tbody tr th {\n",
       "        vertical-align: top;\n",
       "    }\n",
       "\n",
       "    .dataframe thead th {\n",
       "        text-align: right;\n",
       "    }\n",
       "</style>\n",
       "<table border=\"1\" class=\"dataframe\">\n",
       "  <thead>\n",
       "    <tr style=\"text-align: right;\">\n",
       "      <th></th>\n",
       "      <th>ADDRESS</th>\n",
       "      <th>STREET</th>\n",
       "      <th>ADM_AREA</th>\n",
       "      <th>DISTRICT</th>\n",
       "    </tr>\n",
       "  </thead>\n",
       "  <tbody>\n",
       "    <tr>\n",
       "      <td>0</td>\n",
       "      <td>город Москва, Варшавское шоссе, дом 150, строе...</td>\n",
       "      <td>Варшавское шоссе</td>\n",
       "      <td>Южный административный округ</td>\n",
       "      <td>муниципальный округ Чертаново Южное</td>\n",
       "    </tr>\n",
       "    <tr>\n",
       "      <td>1</td>\n",
       "      <td>город Москва, Косинская улица, дом 26А</td>\n",
       "      <td>Косинская улица</td>\n",
       "      <td>Восточный административный округ</td>\n",
       "      <td>муниципальный округ Вешняки</td>\n",
       "    </tr>\n",
       "    <tr>\n",
       "      <td>2</td>\n",
       "      <td>город Москва, Гороховский переулок, дом 21</td>\n",
       "      <td>Гороховский переулок</td>\n",
       "      <td>Центральный административный округ</td>\n",
       "      <td>муниципальный округ Басманный</td>\n",
       "    </tr>\n",
       "    <tr>\n",
       "      <td>3</td>\n",
       "      <td>город Москва, Тагильская улица, дом 4, строени...</td>\n",
       "      <td>Тагильская улица</td>\n",
       "      <td>Восточный административный округ</td>\n",
       "      <td>муниципальный округ Метрогородок</td>\n",
       "    </tr>\n",
       "    <tr>\n",
       "      <td>4</td>\n",
       "      <td>город Москва, Ленинградский проспект, дом 73А,...</td>\n",
       "      <td>Ленинградский проспект</td>\n",
       "      <td>Северный административный округ</td>\n",
       "      <td>муниципальный округ Сокол</td>\n",
       "    </tr>\n",
       "  </tbody>\n",
       "</table>\n",
       "</div>"
      ],
      "text/plain": [
       "                                             ADDRESS                  STREET  \\\n",
       "0  город Москва, Варшавское шоссе, дом 150, строе...        Варшавское шоссе   \n",
       "1             город Москва, Косинская улица, дом 26А         Косинская улица   \n",
       "2         город Москва, Гороховский переулок, дом 21    Гороховский переулок   \n",
       "3  город Москва, Тагильская улица, дом 4, строени...        Тагильская улица   \n",
       "4  город Москва, Ленинградский проспект, дом 73А,...  Ленинградский проспект   \n",
       "\n",
       "                             ADM_AREA                             DISTRICT  \n",
       "0        Южный административный округ  муниципальный округ Чертаново Южное  \n",
       "1    Восточный административный округ          муниципальный округ Вешняки  \n",
       "2  Центральный административный округ        муниципальный округ Басманный  \n",
       "3    Восточный административный округ     муниципальный округ Метрогородок  \n",
       "4     Северный административный округ            муниципальный округ Сокол  "
      ]
     },
     "execution_count": 62,
     "metadata": {},
     "output_type": "execute_result"
    }
   ],
   "source": [
    "df_new.head()"
   ]
  },
  {
   "cell_type": "code",
   "execution_count": 63,
   "metadata": {},
   "outputs": [],
   "source": [
    "df_new['street'] = df_new['STREET']\n",
    "df_new['district'] = df_new['DISTRICT']\n",
    "df_new['address'] = df_new['ADDRESS']\n",
    "df_new['street'] = df_new['street'].str.lower()\n",
    "df_new['district'] = df_new['district'].str.lower()\n",
    "df_new['address'] = df_new['address'].str.lower()"
   ]
  },
  {
   "cell_type": "code",
   "execution_count": 64,
   "metadata": {},
   "outputs": [
    {
     "data": {
      "text/html": [
       "<div>\n",
       "<style scoped>\n",
       "    .dataframe tbody tr th:only-of-type {\n",
       "        vertical-align: middle;\n",
       "    }\n",
       "\n",
       "    .dataframe tbody tr th {\n",
       "        vertical-align: top;\n",
       "    }\n",
       "\n",
       "    .dataframe thead th {\n",
       "        text-align: right;\n",
       "    }\n",
       "</style>\n",
       "<table border=\"1\" class=\"dataframe\">\n",
       "  <thead>\n",
       "    <tr style=\"text-align: right;\">\n",
       "      <th></th>\n",
       "      <th>id</th>\n",
       "      <th>object_name</th>\n",
       "      <th>chain</th>\n",
       "      <th>object_type</th>\n",
       "      <th>address</th>\n",
       "      <th>number</th>\n",
       "      <th>address_new</th>\n",
       "      <th>street</th>\n",
       "    </tr>\n",
       "  </thead>\n",
       "  <tbody>\n",
       "    <tr>\n",
       "      <td>0</td>\n",
       "      <td>151635</td>\n",
       "      <td>сметана</td>\n",
       "      <td>нет</td>\n",
       "      <td>кафе</td>\n",
       "      <td>город москва, улица егора абакумова, дом 9</td>\n",
       "      <td>48</td>\n",
       "      <td>улица егора абакумова дом 9</td>\n",
       "      <td>улица егора абакумова</td>\n",
       "    </tr>\n",
       "    <tr>\n",
       "      <td>1</td>\n",
       "      <td>77874</td>\n",
       "      <td>родник</td>\n",
       "      <td>нет</td>\n",
       "      <td>кафе</td>\n",
       "      <td>город москва, улица талалихина, дом 2/1, корпус 1</td>\n",
       "      <td>35</td>\n",
       "      <td>улица талалихина дом 2/1 корпус 1</td>\n",
       "      <td>улица талалихина</td>\n",
       "    </tr>\n",
       "    <tr>\n",
       "      <td>2</td>\n",
       "      <td>24309</td>\n",
       "      <td>кафе «академия»</td>\n",
       "      <td>нет</td>\n",
       "      <td>кафе</td>\n",
       "      <td>город москва, абельмановская улица, дом 6</td>\n",
       "      <td>95</td>\n",
       "      <td>абельмановская улица дом 6</td>\n",
       "      <td>абельмановская улица</td>\n",
       "    </tr>\n",
       "    <tr>\n",
       "      <td>3</td>\n",
       "      <td>21894</td>\n",
       "      <td>пиццетория</td>\n",
       "      <td>да</td>\n",
       "      <td>кафе</td>\n",
       "      <td>город москва, абрамцевская улица, дом 1</td>\n",
       "      <td>40</td>\n",
       "      <td>абрамцевская улица дом 1</td>\n",
       "      <td>абрамцевская улица</td>\n",
       "    </tr>\n",
       "    <tr>\n",
       "      <td>4</td>\n",
       "      <td>119365</td>\n",
       "      <td>кафе «вишневая метель»</td>\n",
       "      <td>нет</td>\n",
       "      <td>кафе</td>\n",
       "      <td>город москва, абрамцевская улица, дом 9, корпус 1</td>\n",
       "      <td>50</td>\n",
       "      <td>абрамцевская улица дом 9 корпус 1</td>\n",
       "      <td>абрамцевская улица</td>\n",
       "    </tr>\n",
       "  </tbody>\n",
       "</table>\n",
       "</div>"
      ],
      "text/plain": [
       "       id             object_name chain object_type  \\\n",
       "0  151635                 сметана   нет        кафе   \n",
       "1   77874                  родник   нет        кафе   \n",
       "2   24309         кафе «академия»   нет        кафе   \n",
       "3   21894              пиццетория    да        кафе   \n",
       "4  119365  кафе «вишневая метель»   нет        кафе   \n",
       "\n",
       "                                             address  number  \\\n",
       "0         город москва, улица егора абакумова, дом 9      48   \n",
       "1  город москва, улица талалихина, дом 2/1, корпус 1      35   \n",
       "2          город москва, абельмановская улица, дом 6      95   \n",
       "3            город москва, абрамцевская улица, дом 1      40   \n",
       "4  город москва, абрамцевская улица, дом 9, корпус 1      50   \n",
       "\n",
       "                         address_new                 street  \n",
       "0        улица егора абакумова дом 9  улица егора абакумова  \n",
       "1  улица талалихина дом 2/1 корпус 1       улица талалихина  \n",
       "2         абельмановская улица дом 6   абельмановская улица  \n",
       "3           абрамцевская улица дом 1     абрамцевская улица  \n",
       "4  абрамцевская улица дом 9 корпус 1     абрамцевская улица  "
      ]
     },
     "execution_count": 64,
     "metadata": {},
     "output_type": "execute_result"
    }
   ],
   "source": [
    "rest_data.head()"
   ]
  },
  {
   "cell_type": "code",
   "execution_count": 65,
   "metadata": {},
   "outputs": [
    {
     "data": {
      "text/html": [
       "<div>\n",
       "<style scoped>\n",
       "    .dataframe tbody tr th:only-of-type {\n",
       "        vertical-align: middle;\n",
       "    }\n",
       "\n",
       "    .dataframe tbody tr th {\n",
       "        vertical-align: top;\n",
       "    }\n",
       "\n",
       "    .dataframe thead th {\n",
       "        text-align: right;\n",
       "    }\n",
       "</style>\n",
       "<table border=\"1\" class=\"dataframe\">\n",
       "  <thead>\n",
       "    <tr style=\"text-align: right;\">\n",
       "      <th></th>\n",
       "      <th>address</th>\n",
       "      <th>street</th>\n",
       "      <th>district</th>\n",
       "    </tr>\n",
       "  </thead>\n",
       "  <tbody>\n",
       "    <tr>\n",
       "      <td>0</td>\n",
       "      <td>город москва, варшавское шоссе, дом 150, строе...</td>\n",
       "      <td>варшавское шоссе</td>\n",
       "      <td>муниципальный округ чертаново южное</td>\n",
       "    </tr>\n",
       "    <tr>\n",
       "      <td>1</td>\n",
       "      <td>город москва, косинская улица, дом 26а</td>\n",
       "      <td>косинская улица</td>\n",
       "      <td>муниципальный округ вешняки</td>\n",
       "    </tr>\n",
       "    <tr>\n",
       "      <td>2</td>\n",
       "      <td>город москва, гороховский переулок, дом 21</td>\n",
       "      <td>гороховский переулок</td>\n",
       "      <td>муниципальный округ басманный</td>\n",
       "    </tr>\n",
       "    <tr>\n",
       "      <td>3</td>\n",
       "      <td>город москва, тагильская улица, дом 4, строени...</td>\n",
       "      <td>тагильская улица</td>\n",
       "      <td>муниципальный округ метрогородок</td>\n",
       "    </tr>\n",
       "    <tr>\n",
       "      <td>4</td>\n",
       "      <td>город москва, ленинградский проспект, дом 73а,...</td>\n",
       "      <td>ленинградский проспект</td>\n",
       "      <td>муниципальный округ сокол</td>\n",
       "    </tr>\n",
       "  </tbody>\n",
       "</table>\n",
       "</div>"
      ],
      "text/plain": [
       "                                             address                  street  \\\n",
       "0  город москва, варшавское шоссе, дом 150, строе...        варшавское шоссе   \n",
       "1             город москва, косинская улица, дом 26а         косинская улица   \n",
       "2         город москва, гороховский переулок, дом 21    гороховский переулок   \n",
       "3  город москва, тагильская улица, дом 4, строени...        тагильская улица   \n",
       "4  город москва, ленинградский проспект, дом 73а,...  ленинградский проспект   \n",
       "\n",
       "                              district  \n",
       "0  муниципальный округ чертаново южное  \n",
       "1          муниципальный округ вешняки  \n",
       "2        муниципальный округ басманный  \n",
       "3     муниципальный округ метрогородок  \n",
       "4            муниципальный округ сокол  "
      ]
     },
     "execution_count": 65,
     "metadata": {},
     "output_type": "execute_result"
    }
   ],
   "source": [
    "df_new = df_new[['address', 'street', 'district']]\n",
    "df_new.head()"
   ]
  },
  {
   "cell_type": "code",
   "execution_count": 66,
   "metadata": {},
   "outputs": [],
   "source": [
    "moscow_data = df_new.merge(rest_data, on=['address', 'street'], how='right').drop_duplicates()"
   ]
  },
  {
   "cell_type": "code",
   "execution_count": 67,
   "metadata": {},
   "outputs": [
    {
     "data": {
      "text/html": [
       "<div>\n",
       "<style scoped>\n",
       "    .dataframe tbody tr th:only-of-type {\n",
       "        vertical-align: middle;\n",
       "    }\n",
       "\n",
       "    .dataframe tbody tr th {\n",
       "        vertical-align: top;\n",
       "    }\n",
       "\n",
       "    .dataframe thead th {\n",
       "        text-align: right;\n",
       "    }\n",
       "</style>\n",
       "<table border=\"1\" class=\"dataframe\">\n",
       "  <thead>\n",
       "    <tr style=\"text-align: right;\">\n",
       "      <th></th>\n",
       "      <th>address</th>\n",
       "      <th>street</th>\n",
       "      <th>district</th>\n",
       "      <th>id</th>\n",
       "      <th>object_name</th>\n",
       "      <th>chain</th>\n",
       "      <th>object_type</th>\n",
       "      <th>number</th>\n",
       "      <th>address_new</th>\n",
       "    </tr>\n",
       "  </thead>\n",
       "  <tbody>\n",
       "    <tr>\n",
       "      <td>0</td>\n",
       "      <td>город москва, улица космонавта волкова, дом 10...</td>\n",
       "      <td>улица космонавта волкова</td>\n",
       "      <td>муниципальный округ войковский</td>\n",
       "      <td>185917</td>\n",
       "      <td>столовая</td>\n",
       "      <td>нет</td>\n",
       "      <td>столовая</td>\n",
       "      <td>44</td>\n",
       "      <td>улица космонавта волкова дом 10 строение 1</td>\n",
       "    </tr>\n",
       "    <tr>\n",
       "      <td>1</td>\n",
       "      <td>город москва, улица космонавта волкова, дом 10...</td>\n",
       "      <td>улица космонавта волкова</td>\n",
       "      <td>муниципальный округ войковский</td>\n",
       "      <td>197160</td>\n",
       "      <td>кофе с собой</td>\n",
       "      <td>да</td>\n",
       "      <td>кафетерий</td>\n",
       "      <td>0</td>\n",
       "      <td>улица космонавта волкова дом 10 строение 1</td>\n",
       "    </tr>\n",
       "    <tr>\n",
       "      <td>2</td>\n",
       "      <td>город москва, улица серпуховский вал, дом 3</td>\n",
       "      <td>улица серпуховский вал</td>\n",
       "      <td>муниципальный округ даниловский</td>\n",
       "      <td>25376</td>\n",
       "      <td>хинкальнaя</td>\n",
       "      <td>нет</td>\n",
       "      <td>кафе</td>\n",
       "      <td>24</td>\n",
       "      <td>улица серпуховский вал дом 3</td>\n",
       "    </tr>\n",
       "    <tr>\n",
       "      <td>3</td>\n",
       "      <td>город москва, улица серпуховский вал, дом 3</td>\n",
       "      <td>улица серпуховский вал</td>\n",
       "      <td>муниципальный округ даниловский</td>\n",
       "      <td>143892</td>\n",
       "      <td>пивной бар «бернес»</td>\n",
       "      <td>нет</td>\n",
       "      <td>ресторан</td>\n",
       "      <td>48</td>\n",
       "      <td>улица серпуховский вал дом 3</td>\n",
       "    </tr>\n",
       "    <tr>\n",
       "      <td>4</td>\n",
       "      <td>город москва, проспект вернадского, дом 14б</td>\n",
       "      <td>проспект вернадского</td>\n",
       "      <td>муниципальный округ проспект вернадского</td>\n",
       "      <td>163840</td>\n",
       "      <td>кафе«чайхана райхан»</td>\n",
       "      <td>нет</td>\n",
       "      <td>кафе</td>\n",
       "      <td>45</td>\n",
       "      <td>проспект вернадского дом 14б</td>\n",
       "    </tr>\n",
       "    <tr>\n",
       "      <td>5</td>\n",
       "      <td>город москва, 6-я радиальная улица, дом 17</td>\n",
       "      <td>6-я радиальная улица</td>\n",
       "      <td>муниципальный округ бирюлево восточное</td>\n",
       "      <td>28092</td>\n",
       "      <td>док-1</td>\n",
       "      <td>нет</td>\n",
       "      <td>столовая</td>\n",
       "      <td>30</td>\n",
       "      <td>6-я радиальная улица дом 17</td>\n",
       "    </tr>\n",
       "    <tr>\n",
       "      <td>6</td>\n",
       "      <td>город москва, гурьевский проезд, дом 25, корпус 1</td>\n",
       "      <td>гурьевский проезд</td>\n",
       "      <td>муниципальный округ орехово-борисово южное</td>\n",
       "      <td>124334</td>\n",
       "      <td>выпечка, кофейня</td>\n",
       "      <td>нет</td>\n",
       "      <td>фаст-фуд</td>\n",
       "      <td>0</td>\n",
       "      <td>гурьевский проезд дом 25 корпус 1</td>\n",
       "    </tr>\n",
       "    <tr>\n",
       "      <td>7</td>\n",
       "      <td>город москва, 5-я парковая улица, дом 58</td>\n",
       "      <td>5-я парковая улица</td>\n",
       "      <td>муниципальный округ северное измайлово</td>\n",
       "      <td>28545</td>\n",
       "      <td>столовая «колледж №20»</td>\n",
       "      <td>нет</td>\n",
       "      <td>столовая</td>\n",
       "      <td>98</td>\n",
       "      <td>5-я парковая улица дом 58</td>\n",
       "    </tr>\n",
       "    <tr>\n",
       "      <td>8</td>\n",
       "      <td>город москва, походный проезд, дом 7</td>\n",
       "      <td>походный проезд</td>\n",
       "      <td>муниципальный округ южное тушино</td>\n",
       "      <td>202680</td>\n",
       "      <td>нар</td>\n",
       "      <td>нет</td>\n",
       "      <td>кафе</td>\n",
       "      <td>48</td>\n",
       "      <td>походный проезд дом 7</td>\n",
       "    </tr>\n",
       "    <tr>\n",
       "      <td>9</td>\n",
       "      <td>город москва, улица тимура фрунзе, дом 28</td>\n",
       "      <td>улица тимура фрунзе</td>\n",
       "      <td>муниципальный округ хамовники</td>\n",
       "      <td>153390</td>\n",
       "      <td>столовая при гбпоу пт № 2 (колледж)</td>\n",
       "      <td>нет</td>\n",
       "      <td>столовая</td>\n",
       "      <td>48</td>\n",
       "      <td>улица тимура фрунзе дом 28</td>\n",
       "    </tr>\n",
       "  </tbody>\n",
       "</table>\n",
       "</div>"
      ],
      "text/plain": [
       "                                             address  \\\n",
       "0  город москва, улица космонавта волкова, дом 10...   \n",
       "1  город москва, улица космонавта волкова, дом 10...   \n",
       "2        город москва, улица серпуховский вал, дом 3   \n",
       "3        город москва, улица серпуховский вал, дом 3   \n",
       "4        город москва, проспект вернадского, дом 14б   \n",
       "5         город москва, 6-я радиальная улица, дом 17   \n",
       "6  город москва, гурьевский проезд, дом 25, корпус 1   \n",
       "7           город москва, 5-я парковая улица, дом 58   \n",
       "8               город москва, походный проезд, дом 7   \n",
       "9          город москва, улица тимура фрунзе, дом 28   \n",
       "\n",
       "                     street                                    district  \\\n",
       "0  улица космонавта волкова              муниципальный округ войковский   \n",
       "1  улица космонавта волкова              муниципальный округ войковский   \n",
       "2    улица серпуховский вал             муниципальный округ даниловский   \n",
       "3    улица серпуховский вал             муниципальный округ даниловский   \n",
       "4      проспект вернадского    муниципальный округ проспект вернадского   \n",
       "5      6-я радиальная улица      муниципальный округ бирюлево восточное   \n",
       "6         гурьевский проезд  муниципальный округ орехово-борисово южное   \n",
       "7        5-я парковая улица      муниципальный округ северное измайлово   \n",
       "8           походный проезд            муниципальный округ южное тушино   \n",
       "9       улица тимура фрунзе               муниципальный округ хамовники   \n",
       "\n",
       "       id                          object_name chain object_type  number  \\\n",
       "0  185917                             столовая   нет    столовая      44   \n",
       "1  197160                         кофе с собой    да   кафетерий       0   \n",
       "2   25376                           хинкальнaя   нет        кафе      24   \n",
       "3  143892                  пивной бар «бернес»   нет    ресторан      48   \n",
       "4  163840                 кафе«чайхана райхан»   нет        кафе      45   \n",
       "5   28092                                док-1   нет    столовая      30   \n",
       "6  124334                     выпечка, кофейня   нет    фаст-фуд       0   \n",
       "7   28545               столовая «колледж №20»   нет    столовая      98   \n",
       "8  202680                                  нар   нет        кафе      48   \n",
       "9  153390  столовая при гбпоу пт № 2 (колледж)   нет    столовая      48   \n",
       "\n",
       "                                  address_new  \n",
       "0  улица космонавта волкова дом 10 строение 1  \n",
       "1  улица космонавта волкова дом 10 строение 1  \n",
       "2                улица серпуховский вал дом 3  \n",
       "3                улица серпуховский вал дом 3  \n",
       "4                проспект вернадского дом 14б  \n",
       "5                 6-я радиальная улица дом 17  \n",
       "6           гурьевский проезд дом 25 корпус 1  \n",
       "7                   5-я парковая улица дом 58  \n",
       "8                       походный проезд дом 7  \n",
       "9                  улица тимура фрунзе дом 28  "
      ]
     },
     "execution_count": 67,
     "metadata": {},
     "output_type": "execute_result"
    }
   ],
   "source": [
    "moscow_data.head(10)"
   ]
  },
  {
   "cell_type": "code",
   "execution_count": 68,
   "metadata": {},
   "outputs": [],
   "source": [
    "df_top = moscow_data.query('street in @top_10') # сделаем срез новой таблицы только для тех улиц, которые входят в топ-10\n"
   ]
  },
  {
   "cell_type": "code",
   "execution_count": 69,
   "metadata": {},
   "outputs": [
    {
     "data": {
      "text/html": [
       "<div>\n",
       "<style scoped>\n",
       "    .dataframe tbody tr th:only-of-type {\n",
       "        vertical-align: middle;\n",
       "    }\n",
       "\n",
       "    .dataframe tbody tr th {\n",
       "        vertical-align: top;\n",
       "    }\n",
       "\n",
       "    .dataframe thead th {\n",
       "        text-align: right;\n",
       "    }\n",
       "</style>\n",
       "<table border=\"1\" class=\"dataframe\">\n",
       "  <thead>\n",
       "    <tr style=\"text-align: right;\">\n",
       "      <th></th>\n",
       "      <th>address</th>\n",
       "      <th>street</th>\n",
       "      <th>district</th>\n",
       "      <th>id</th>\n",
       "      <th>object_name</th>\n",
       "      <th>chain</th>\n",
       "      <th>object_type</th>\n",
       "      <th>number</th>\n",
       "      <th>address_new</th>\n",
       "    </tr>\n",
       "  </thead>\n",
       "  <tbody>\n",
       "    <tr>\n",
       "      <td>4</td>\n",
       "      <td>город москва, проспект вернадского, дом 14б</td>\n",
       "      <td>проспект вернадского</td>\n",
       "      <td>муниципальный округ проспект вернадского</td>\n",
       "      <td>163840</td>\n",
       "      <td>кафе«чайхана райхан»</td>\n",
       "      <td>нет</td>\n",
       "      <td>кафе</td>\n",
       "      <td>45</td>\n",
       "      <td>проспект вернадского дом 14б</td>\n",
       "    </tr>\n",
       "    <tr>\n",
       "      <td>16</td>\n",
       "      <td>город москва, варшавское шоссе, дом 23</td>\n",
       "      <td>варшавское шоссе</td>\n",
       "      <td>муниципальный округ донской</td>\n",
       "      <td>196504</td>\n",
       "      <td>сотоловая академия экономики и права</td>\n",
       "      <td>нет</td>\n",
       "      <td>столовая</td>\n",
       "      <td>20</td>\n",
       "      <td>варшавское шоссе дом 23</td>\n",
       "    </tr>\n",
       "    <tr>\n",
       "      <td>30</td>\n",
       "      <td>город москва, профсоюзная улица, дом 132, корп...</td>\n",
       "      <td>профсоюзная улица</td>\n",
       "      <td>муниципальный округ теплый стан</td>\n",
       "      <td>28530</td>\n",
       "      <td>столовая при доме-пансионате ветеранов науки</td>\n",
       "      <td>нет</td>\n",
       "      <td>столовая</td>\n",
       "      <td>75</td>\n",
       "      <td>профсоюзная улица дом 132 корпус 8</td>\n",
       "    </tr>\n",
       "    <tr>\n",
       "      <td>40</td>\n",
       "      <td>город москва, профсоюзная улица, дом 4</td>\n",
       "      <td>профсоюзная улица</td>\n",
       "      <td>муниципальный округ академический</td>\n",
       "      <td>127985</td>\n",
       "      <td>пироги штолле</td>\n",
       "      <td>да</td>\n",
       "      <td>кафе</td>\n",
       "      <td>25</td>\n",
       "      <td>профсоюзная улица дом 4</td>\n",
       "    </tr>\n",
       "    <tr>\n",
       "      <td>59</td>\n",
       "      <td>город москва, кутузовский проспект, дом 36а</td>\n",
       "      <td>кутузовский проспект</td>\n",
       "      <td>муниципальный округ дорогомилово</td>\n",
       "      <td>69883</td>\n",
       "      <td>good chillout коллекция</td>\n",
       "      <td>нет</td>\n",
       "      <td>ресторан</td>\n",
       "      <td>92</td>\n",
       "      <td>кутузовский проспект дом 36а</td>\n",
       "    </tr>\n",
       "  </tbody>\n",
       "</table>\n",
       "</div>"
      ],
      "text/plain": [
       "                                              address                street  \\\n",
       "4         город москва, проспект вернадского, дом 14б  проспект вернадского   \n",
       "16             город москва, варшавское шоссе, дом 23      варшавское шоссе   \n",
       "30  город москва, профсоюзная улица, дом 132, корп...     профсоюзная улица   \n",
       "40             город москва, профсоюзная улица, дом 4     профсоюзная улица   \n",
       "59        город москва, кутузовский проспект, дом 36а  кутузовский проспект   \n",
       "\n",
       "                                    district      id  \\\n",
       "4   муниципальный округ проспект вернадского  163840   \n",
       "16               муниципальный округ донской  196504   \n",
       "30           муниципальный округ теплый стан   28530   \n",
       "40         муниципальный округ академический  127985   \n",
       "59          муниципальный округ дорогомилово   69883   \n",
       "\n",
       "                                     object_name chain object_type  number  \\\n",
       "4                           кафе«чайхана райхан»   нет        кафе      45   \n",
       "16          сотоловая академия экономики и права   нет    столовая      20   \n",
       "30  столовая при доме-пансионате ветеранов науки   нет    столовая      75   \n",
       "40                                 пироги штолле    да        кафе      25   \n",
       "59                       good chillout коллекция   нет    ресторан      92   \n",
       "\n",
       "                           address_new  \n",
       "4         проспект вернадского дом 14б  \n",
       "16             варшавское шоссе дом 23  \n",
       "30  профсоюзная улица дом 132 корпус 8  \n",
       "40             профсоюзная улица дом 4  \n",
       "59        кутузовский проспект дом 36а  "
      ]
     },
     "execution_count": 69,
     "metadata": {},
     "output_type": "execute_result"
    }
   ],
   "source": [
    "df_top.head()"
   ]
  },
  {
   "cell_type": "code",
   "execution_count": 70,
   "metadata": {
    "scrolled": false
   },
   "outputs": [
    {
     "data": {
      "text/html": [
       "<style  type=\"text/css\" >\n",
       "    #T_514e8fc6_42d0_11eb_bd81_02420a3924cbrow0_col0 {\n",
       "            background-color:  #440a68;\n",
       "            color:  #f1f1f1;\n",
       "        }    #T_514e8fc6_42d0_11eb_bd81_02420a3924cbrow1_col0 {\n",
       "            background-color:  #060419;\n",
       "            color:  #f1f1f1;\n",
       "        }    #T_514e8fc6_42d0_11eb_bd81_02420a3924cbrow2_col0 {\n",
       "            background-color:  #540f6d;\n",
       "            color:  #f1f1f1;\n",
       "        }    #T_514e8fc6_42d0_11eb_bd81_02420a3924cbrow3_col0 {\n",
       "            background-color:  #230c4c;\n",
       "            color:  #f1f1f1;\n",
       "        }    #T_514e8fc6_42d0_11eb_bd81_02420a3924cbrow4_col0 {\n",
       "            background-color:  #0e092b;\n",
       "            color:  #f1f1f1;\n",
       "        }    #T_514e8fc6_42d0_11eb_bd81_02420a3924cbrow5_col0 {\n",
       "            background-color:  #4c0c6b;\n",
       "            color:  #f1f1f1;\n",
       "        }    #T_514e8fc6_42d0_11eb_bd81_02420a3924cbrow6_col0 {\n",
       "            background-color:  #010005;\n",
       "            color:  #f1f1f1;\n",
       "        }    #T_514e8fc6_42d0_11eb_bd81_02420a3924cbrow7_col0 {\n",
       "            background-color:  #540f6d;\n",
       "            color:  #f1f1f1;\n",
       "        }    #T_514e8fc6_42d0_11eb_bd81_02420a3924cbrow8_col0 {\n",
       "            background-color:  #67166e;\n",
       "            color:  #f1f1f1;\n",
       "        }    #T_514e8fc6_42d0_11eb_bd81_02420a3924cbrow9_col0 {\n",
       "            background-color:  #10092d;\n",
       "            color:  #f1f1f1;\n",
       "        }    #T_514e8fc6_42d0_11eb_bd81_02420a3924cbrow10_col0 {\n",
       "            background-color:  #030210;\n",
       "            color:  #f1f1f1;\n",
       "        }    #T_514e8fc6_42d0_11eb_bd81_02420a3924cbrow11_col0 {\n",
       "            background-color:  #1f0c48;\n",
       "            color:  #f1f1f1;\n",
       "        }    #T_514e8fc6_42d0_11eb_bd81_02420a3924cbrow12_col0 {\n",
       "            background-color:  #ae305c;\n",
       "            color:  #f1f1f1;\n",
       "        }    #T_514e8fc6_42d0_11eb_bd81_02420a3924cbrow13_col0 {\n",
       "            background-color:  #040314;\n",
       "            color:  #f1f1f1;\n",
       "        }    #T_514e8fc6_42d0_11eb_bd81_02420a3924cbrow14_col0 {\n",
       "            background-color:  #88226a;\n",
       "            color:  #f1f1f1;\n",
       "        }    #T_514e8fc6_42d0_11eb_bd81_02420a3924cbrow15_col0 {\n",
       "            background-color:  #741a6e;\n",
       "            color:  #f1f1f1;\n",
       "        }    #T_514e8fc6_42d0_11eb_bd81_02420a3924cbrow16_col0 {\n",
       "            background-color:  #902568;\n",
       "            color:  #f1f1f1;\n",
       "        }    #T_514e8fc6_42d0_11eb_bd81_02420a3924cbrow17_col0 {\n",
       "            background-color:  #6f196e;\n",
       "            color:  #f1f1f1;\n",
       "        }    #T_514e8fc6_42d0_11eb_bd81_02420a3924cbrow18_col0 {\n",
       "            background-color:  #280b53;\n",
       "            color:  #f1f1f1;\n",
       "        }    #T_514e8fc6_42d0_11eb_bd81_02420a3924cbrow19_col0 {\n",
       "            background-color:  #3b0964;\n",
       "            color:  #f1f1f1;\n",
       "        }    #T_514e8fc6_42d0_11eb_bd81_02420a3924cbrow20_col0 {\n",
       "            background-color:  #510e6c;\n",
       "            color:  #f1f1f1;\n",
       "        }    #T_514e8fc6_42d0_11eb_bd81_02420a3924cbrow21_col0 {\n",
       "            background-color:  #10092d;\n",
       "            color:  #f1f1f1;\n",
       "        }    #T_514e8fc6_42d0_11eb_bd81_02420a3924cbrow22_col0 {\n",
       "            background-color:  #0c0826;\n",
       "            color:  #f1f1f1;\n",
       "        }    #T_514e8fc6_42d0_11eb_bd81_02420a3924cbrow23_col0 {\n",
       "            background-color:  #3e0966;\n",
       "            color:  #f1f1f1;\n",
       "        }    #T_514e8fc6_42d0_11eb_bd81_02420a3924cbrow24_col0 {\n",
       "            background-color:  #010005;\n",
       "            color:  #f1f1f1;\n",
       "        }    #T_514e8fc6_42d0_11eb_bd81_02420a3924cbrow25_col0 {\n",
       "            background-color:  #010108;\n",
       "            color:  #f1f1f1;\n",
       "        }    #T_514e8fc6_42d0_11eb_bd81_02420a3924cbrow26_col0 {\n",
       "            background-color:  #1e0c45;\n",
       "            color:  #f1f1f1;\n",
       "        }    #T_514e8fc6_42d0_11eb_bd81_02420a3924cbrow27_col0 {\n",
       "            background-color:  #2b0b57;\n",
       "            color:  #f1f1f1;\n",
       "        }    #T_514e8fc6_42d0_11eb_bd81_02420a3924cbrow28_col0 {\n",
       "            background-color:  #fcffa4;\n",
       "            color:  #000000;\n",
       "        }    #T_514e8fc6_42d0_11eb_bd81_02420a3924cbrow29_col0 {\n",
       "            background-color:  #000004;\n",
       "            color:  #f1f1f1;\n",
       "        }    #T_514e8fc6_42d0_11eb_bd81_02420a3924cbrow30_col0 {\n",
       "            background-color:  #10092d;\n",
       "            color:  #f1f1f1;\n",
       "        }    #T_514e8fc6_42d0_11eb_bd81_02420a3924cbrow31_col0 {\n",
       "            background-color:  #140b34;\n",
       "            color:  #f1f1f1;\n",
       "        }    #T_514e8fc6_42d0_11eb_bd81_02420a3924cbrow32_col0 {\n",
       "            background-color:  #3b0964;\n",
       "            color:  #f1f1f1;\n",
       "        }    #T_514e8fc6_42d0_11eb_bd81_02420a3924cbrow33_col0 {\n",
       "            background-color:  #902568;\n",
       "            color:  #f1f1f1;\n",
       "        }    #T_514e8fc6_42d0_11eb_bd81_02420a3924cbrow34_col0 {\n",
       "            background-color:  #6a176e;\n",
       "            color:  #f1f1f1;\n",
       "        }    #T_514e8fc6_42d0_11eb_bd81_02420a3924cbrow35_col0 {\n",
       "            background-color:  #8d2369;\n",
       "            color:  #f1f1f1;\n",
       "        }    #T_514e8fc6_42d0_11eb_bd81_02420a3924cbrow36_col0 {\n",
       "            background-color:  #1b0c41;\n",
       "            color:  #f1f1f1;\n",
       "        }    #T_514e8fc6_42d0_11eb_bd81_02420a3924cbrow37_col0 {\n",
       "            background-color:  #040314;\n",
       "            color:  #f1f1f1;\n",
       "        }    #T_514e8fc6_42d0_11eb_bd81_02420a3924cbrow38_col0 {\n",
       "            background-color:  #781c6d;\n",
       "            color:  #f1f1f1;\n",
       "        }    #T_514e8fc6_42d0_11eb_bd81_02420a3924cbrow39_col0 {\n",
       "            background-color:  #000004;\n",
       "            color:  #f1f1f1;\n",
       "        }    #T_514e8fc6_42d0_11eb_bd81_02420a3924cbrow40_col0 {\n",
       "            background-color:  #2b0b57;\n",
       "            color:  #f1f1f1;\n",
       "        }    #T_514e8fc6_42d0_11eb_bd81_02420a3924cbrow41_col0 {\n",
       "            background-color:  #440a68;\n",
       "            color:  #f1f1f1;\n",
       "        }    #T_514e8fc6_42d0_11eb_bd81_02420a3924cbrow42_col0 {\n",
       "            background-color:  #3e0966;\n",
       "            color:  #f1f1f1;\n",
       "        }    #T_514e8fc6_42d0_11eb_bd81_02420a3924cbrow43_col0 {\n",
       "            background-color:  #540f6d;\n",
       "            color:  #f1f1f1;\n",
       "        }    #T_514e8fc6_42d0_11eb_bd81_02420a3924cbrow44_col0 {\n",
       "            background-color:  #440a68;\n",
       "            color:  #f1f1f1;\n",
       "        }    #T_514e8fc6_42d0_11eb_bd81_02420a3924cbrow45_col0 {\n",
       "            background-color:  #10092d;\n",
       "            color:  #f1f1f1;\n",
       "        }</style><table id=\"T_514e8fc6_42d0_11eb_bd81_02420a3924cb\" ><thead>    <tr>        <th class=\"blank\" ></th>        <th class=\"blank level0\" ></th>        <th class=\"col_heading level0 col0\" >id</th>    </tr>    <tr>        <th class=\"index_name level0\" >street</th>        <th class=\"index_name level1\" >district</th>        <th class=\"blank\" ></th>    </tr></thead><tbody>\n",
       "                <tr>\n",
       "                        <th id=\"T_514e8fc6_42d0_11eb_bd81_02420a3924cblevel0_row0\" class=\"row_heading level0 row0\" rowspan=7>варшавское шоссе</th>\n",
       "                        <th id=\"T_514e8fc6_42d0_11eb_bd81_02420a3924cblevel1_row0\" class=\"row_heading level1 row0\" >муниципальный округ донской</th>\n",
       "                        <td id=\"T_514e8fc6_42d0_11eb_bd81_02420a3924cbrow0_col0\" class=\"data row0 col0\" >34</td>\n",
       "            </tr>\n",
       "            <tr>\n",
       "                                <th id=\"T_514e8fc6_42d0_11eb_bd81_02420a3924cblevel1_row1\" class=\"row_heading level1 row1\" >муниципальный округ нагатино-садовники</th>\n",
       "                        <td id=\"T_514e8fc6_42d0_11eb_bd81_02420a3924cbrow1_col0\" class=\"data row1 col0\" >8</td>\n",
       "            </tr>\n",
       "            <tr>\n",
       "                                <th id=\"T_514e8fc6_42d0_11eb_bd81_02420a3924cblevel1_row2\" class=\"row_heading level1 row2\" >муниципальный округ нагорный</th>\n",
       "                        <td id=\"T_514e8fc6_42d0_11eb_bd81_02420a3924cbrow2_col0\" class=\"data row2 col0\" >40</td>\n",
       "            </tr>\n",
       "            <tr>\n",
       "                                <th id=\"T_514e8fc6_42d0_11eb_bd81_02420a3924cblevel1_row3\" class=\"row_heading level1 row3\" >муниципальный округ чертаново северное</th>\n",
       "                        <td id=\"T_514e8fc6_42d0_11eb_bd81_02420a3924cbrow3_col0\" class=\"data row3 col0\" >22</td>\n",
       "            </tr>\n",
       "            <tr>\n",
       "                                <th id=\"T_514e8fc6_42d0_11eb_bd81_02420a3924cblevel1_row4\" class=\"row_heading level1 row4\" >муниципальный округ чертаново центральное</th>\n",
       "                        <td id=\"T_514e8fc6_42d0_11eb_bd81_02420a3924cbrow4_col0\" class=\"data row4 col0\" >13</td>\n",
       "            </tr>\n",
       "            <tr>\n",
       "                                <th id=\"T_514e8fc6_42d0_11eb_bd81_02420a3924cblevel1_row5\" class=\"row_heading level1 row5\" >муниципальный округ чертаново южное</th>\n",
       "                        <td id=\"T_514e8fc6_42d0_11eb_bd81_02420a3924cbrow5_col0\" class=\"data row5 col0\" >37</td>\n",
       "            </tr>\n",
       "            <tr>\n",
       "                                <th id=\"T_514e8fc6_42d0_11eb_bd81_02420a3924cblevel1_row6\" class=\"row_heading level1 row6\" >муниципальный округ южное бутово</th>\n",
       "                        <td id=\"T_514e8fc6_42d0_11eb_bd81_02420a3924cbrow6_col0\" class=\"data row6 col0\" >2</td>\n",
       "            </tr>\n",
       "            <tr>\n",
       "                        <th id=\"T_514e8fc6_42d0_11eb_bd81_02420a3924cblevel0_row7\" class=\"row_heading level0 row7\" rowspan=4>каширское шоссе</th>\n",
       "                        <th id=\"T_514e8fc6_42d0_11eb_bd81_02420a3924cblevel1_row7\" class=\"row_heading level1 row7\" >муниципальный округ москворечье-сабурово</th>\n",
       "                        <td id=\"T_514e8fc6_42d0_11eb_bd81_02420a3924cbrow7_col0\" class=\"data row7 col0\" >40</td>\n",
       "            </tr>\n",
       "            <tr>\n",
       "                                <th id=\"T_514e8fc6_42d0_11eb_bd81_02420a3924cblevel1_row8\" class=\"row_heading level1 row8\" >муниципальный округ нагатино-садовники</th>\n",
       "                        <td id=\"T_514e8fc6_42d0_11eb_bd81_02420a3924cbrow8_col0\" class=\"data row8 col0\" >48</td>\n",
       "            </tr>\n",
       "            <tr>\n",
       "                                <th id=\"T_514e8fc6_42d0_11eb_bd81_02420a3924cblevel1_row9\" class=\"row_heading level1 row9\" >муниципальный округ орехово-борисово северное</th>\n",
       "                        <td id=\"T_514e8fc6_42d0_11eb_bd81_02420a3924cbrow9_col0\" class=\"data row9 col0\" >14</td>\n",
       "            </tr>\n",
       "            <tr>\n",
       "                                <th id=\"T_514e8fc6_42d0_11eb_bd81_02420a3924cblevel1_row10\" class=\"row_heading level1 row10\" >муниципальный округ орехово-борисово южное</th>\n",
       "                        <td id=\"T_514e8fc6_42d0_11eb_bd81_02420a3924cbrow10_col0\" class=\"data row10 col0\" >6</td>\n",
       "            </tr>\n",
       "            <tr>\n",
       "                        <th id=\"T_514e8fc6_42d0_11eb_bd81_02420a3924cblevel0_row11\" class=\"row_heading level0 row11\" rowspan=3>кировоградская улица</th>\n",
       "                        <th id=\"T_514e8fc6_42d0_11eb_bd81_02420a3924cblevel1_row11\" class=\"row_heading level1 row11\" >муниципальный округ чертаново северное</th>\n",
       "                        <td id=\"T_514e8fc6_42d0_11eb_bd81_02420a3924cbrow11_col0\" class=\"data row11 col0\" >21</td>\n",
       "            </tr>\n",
       "            <tr>\n",
       "                                <th id=\"T_514e8fc6_42d0_11eb_bd81_02420a3924cblevel1_row12\" class=\"row_heading level1 row12\" >муниципальный округ чертаново центральное</th>\n",
       "                        <td id=\"T_514e8fc6_42d0_11eb_bd81_02420a3924cbrow12_col0\" class=\"data row12 col0\" >76</td>\n",
       "            </tr>\n",
       "            <tr>\n",
       "                                <th id=\"T_514e8fc6_42d0_11eb_bd81_02420a3924cblevel1_row13\" class=\"row_heading level1 row13\" >муниципальный округ чертаново южное</th>\n",
       "                        <td id=\"T_514e8fc6_42d0_11eb_bd81_02420a3924cbrow13_col0\" class=\"data row13 col0\" >7</td>\n",
       "            </tr>\n",
       "            <tr>\n",
       "                        <th id=\"T_514e8fc6_42d0_11eb_bd81_02420a3924cblevel0_row14\" class=\"row_heading level0 row14\" rowspan=2>кутузовский проспект</th>\n",
       "                        <th id=\"T_514e8fc6_42d0_11eb_bd81_02420a3924cblevel1_row14\" class=\"row_heading level1 row14\" >муниципальный округ дорогомилово</th>\n",
       "                        <td id=\"T_514e8fc6_42d0_11eb_bd81_02420a3924cbrow14_col0\" class=\"data row14 col0\" >61</td>\n",
       "            </tr>\n",
       "            <tr>\n",
       "                                <th id=\"T_514e8fc6_42d0_11eb_bd81_02420a3924cblevel1_row15\" class=\"row_heading level1 row15\" >муниципальный округ фили-давыдково</th>\n",
       "                        <td id=\"T_514e8fc6_42d0_11eb_bd81_02420a3924cbrow15_col0\" class=\"data row15 col0\" >53</td>\n",
       "            </tr>\n",
       "            <tr>\n",
       "                        <th id=\"T_514e8fc6_42d0_11eb_bd81_02420a3924cblevel0_row16\" class=\"row_heading level0 row16\" rowspan=4>ленинградский проспект</th>\n",
       "                        <th id=\"T_514e8fc6_42d0_11eb_bd81_02420a3924cblevel1_row16\" class=\"row_heading level1 row16\" >муниципальный округ аэропорт</th>\n",
       "                        <td id=\"T_514e8fc6_42d0_11eb_bd81_02420a3924cbrow16_col0\" class=\"data row16 col0\" >64</td>\n",
       "            </tr>\n",
       "            <tr>\n",
       "                                <th id=\"T_514e8fc6_42d0_11eb_bd81_02420a3924cblevel1_row17\" class=\"row_heading level1 row17\" >муниципальный округ беговой</th>\n",
       "                        <td id=\"T_514e8fc6_42d0_11eb_bd81_02420a3924cbrow17_col0\" class=\"data row17 col0\" >51</td>\n",
       "            </tr>\n",
       "            <tr>\n",
       "                                <th id=\"T_514e8fc6_42d0_11eb_bd81_02420a3924cblevel1_row18\" class=\"row_heading level1 row18\" >муниципальный округ сокол</th>\n",
       "                        <td id=\"T_514e8fc6_42d0_11eb_bd81_02420a3924cbrow18_col0\" class=\"data row18 col0\" >24</td>\n",
       "            </tr>\n",
       "            <tr>\n",
       "                                <th id=\"T_514e8fc6_42d0_11eb_bd81_02420a3924cblevel1_row19\" class=\"row_heading level1 row19\" >муниципальный округ хорошевский</th>\n",
       "                        <td id=\"T_514e8fc6_42d0_11eb_bd81_02420a3924cbrow19_col0\" class=\"data row19 col0\" >31</td>\n",
       "            </tr>\n",
       "            <tr>\n",
       "                        <th id=\"T_514e8fc6_42d0_11eb_bd81_02420a3924cblevel0_row20\" class=\"row_heading level0 row20\" rowspan=8>ленинский проспект</th>\n",
       "                        <th id=\"T_514e8fc6_42d0_11eb_bd81_02420a3924cblevel1_row20\" class=\"row_heading level1 row20\" >муниципальный округ гагаринский</th>\n",
       "                        <td id=\"T_514e8fc6_42d0_11eb_bd81_02420a3924cbrow20_col0\" class=\"data row20 col0\" >39</td>\n",
       "            </tr>\n",
       "            <tr>\n",
       "                                <th id=\"T_514e8fc6_42d0_11eb_bd81_02420a3924cblevel1_row21\" class=\"row_heading level1 row21\" >муниципальный округ донской</th>\n",
       "                        <td id=\"T_514e8fc6_42d0_11eb_bd81_02420a3924cbrow21_col0\" class=\"data row21 col0\" >14</td>\n",
       "            </tr>\n",
       "            <tr>\n",
       "                                <th id=\"T_514e8fc6_42d0_11eb_bd81_02420a3924cblevel1_row22\" class=\"row_heading level1 row22\" >муниципальный округ ломоносовский</th>\n",
       "                        <td id=\"T_514e8fc6_42d0_11eb_bd81_02420a3924cbrow22_col0\" class=\"data row22 col0\" >12</td>\n",
       "            </tr>\n",
       "            <tr>\n",
       "                                <th id=\"T_514e8fc6_42d0_11eb_bd81_02420a3924cblevel1_row23\" class=\"row_heading level1 row23\" >муниципальный округ обручевский</th>\n",
       "                        <td id=\"T_514e8fc6_42d0_11eb_bd81_02420a3924cbrow23_col0\" class=\"data row23 col0\" >32</td>\n",
       "            </tr>\n",
       "            <tr>\n",
       "                                <th id=\"T_514e8fc6_42d0_11eb_bd81_02420a3924cblevel1_row24\" class=\"row_heading level1 row24\" >муниципальный округ проспект вернадского</th>\n",
       "                        <td id=\"T_514e8fc6_42d0_11eb_bd81_02420a3924cbrow24_col0\" class=\"data row24 col0\" >2</td>\n",
       "            </tr>\n",
       "            <tr>\n",
       "                                <th id=\"T_514e8fc6_42d0_11eb_bd81_02420a3924cblevel1_row25\" class=\"row_heading level1 row25\" >муниципальный округ теплый стан</th>\n",
       "                        <td id=\"T_514e8fc6_42d0_11eb_bd81_02420a3924cbrow25_col0\" class=\"data row25 col0\" >3</td>\n",
       "            </tr>\n",
       "            <tr>\n",
       "                                <th id=\"T_514e8fc6_42d0_11eb_bd81_02420a3924cblevel1_row26\" class=\"row_heading level1 row26\" >муниципальный округ тропарево-никулино</th>\n",
       "                        <td id=\"T_514e8fc6_42d0_11eb_bd81_02420a3924cbrow26_col0\" class=\"data row26 col0\" >20</td>\n",
       "            </tr>\n",
       "            <tr>\n",
       "                                <th id=\"T_514e8fc6_42d0_11eb_bd81_02420a3924cblevel1_row27\" class=\"row_heading level1 row27\" >муниципальный округ якиманка</th>\n",
       "                        <td id=\"T_514e8fc6_42d0_11eb_bd81_02420a3924cbrow27_col0\" class=\"data row27 col0\" >25</td>\n",
       "            </tr>\n",
       "            <tr>\n",
       "                        <th id=\"T_514e8fc6_42d0_11eb_bd81_02420a3924cblevel0_row28\" class=\"row_heading level0 row28\" >пресненская набережная</th>\n",
       "                        <th id=\"T_514e8fc6_42d0_11eb_bd81_02420a3924cblevel1_row28\" class=\"row_heading level1 row28\" >муниципальный округ пресненский</th>\n",
       "                        <td id=\"T_514e8fc6_42d0_11eb_bd81_02420a3924cbrow28_col0\" class=\"data row28 col0\" >162</td>\n",
       "            </tr>\n",
       "            <tr>\n",
       "                        <th id=\"T_514e8fc6_42d0_11eb_bd81_02420a3924cblevel0_row29\" class=\"row_heading level0 row29\" rowspan=5>проспект вернадского</th>\n",
       "                        <th id=\"T_514e8fc6_42d0_11eb_bd81_02420a3924cblevel1_row29\" class=\"row_heading level1 row29\" >муниципальный округ гагаринский</th>\n",
       "                        <td id=\"T_514e8fc6_42d0_11eb_bd81_02420a3924cbrow29_col0\" class=\"data row29 col0\" >1</td>\n",
       "            </tr>\n",
       "            <tr>\n",
       "                                <th id=\"T_514e8fc6_42d0_11eb_bd81_02420a3924cblevel1_row30\" class=\"row_heading level1 row30\" >муниципальный округ ломоносовский</th>\n",
       "                        <td id=\"T_514e8fc6_42d0_11eb_bd81_02420a3924cbrow30_col0\" class=\"data row30 col0\" >14</td>\n",
       "            </tr>\n",
       "            <tr>\n",
       "                                <th id=\"T_514e8fc6_42d0_11eb_bd81_02420a3924cblevel1_row31\" class=\"row_heading level1 row31\" >муниципальный округ проспект вернадского</th>\n",
       "                        <td id=\"T_514e8fc6_42d0_11eb_bd81_02420a3924cbrow31_col0\" class=\"data row31 col0\" >16</td>\n",
       "            </tr>\n",
       "            <tr>\n",
       "                                <th id=\"T_514e8fc6_42d0_11eb_bd81_02420a3924cblevel1_row32\" class=\"row_heading level1 row32\" >муниципальный округ раменки</th>\n",
       "                        <td id=\"T_514e8fc6_42d0_11eb_bd81_02420a3924cbrow32_col0\" class=\"data row32 col0\" >31</td>\n",
       "            </tr>\n",
       "            <tr>\n",
       "                                <th id=\"T_514e8fc6_42d0_11eb_bd81_02420a3924cblevel1_row33\" class=\"row_heading level1 row33\" >муниципальный округ тропарево-никулино</th>\n",
       "                        <td id=\"T_514e8fc6_42d0_11eb_bd81_02420a3924cbrow33_col0\" class=\"data row33 col0\" >64</td>\n",
       "            </tr>\n",
       "            <tr>\n",
       "                        <th id=\"T_514e8fc6_42d0_11eb_bd81_02420a3924cblevel0_row34\" class=\"row_heading level0 row34\" rowspan=6>проспект мира</th>\n",
       "                        <th id=\"T_514e8fc6_42d0_11eb_bd81_02420a3924cblevel1_row34\" class=\"row_heading level1 row34\" >муниципальный округ алексеевский</th>\n",
       "                        <td id=\"T_514e8fc6_42d0_11eb_bd81_02420a3924cbrow34_col0\" class=\"data row34 col0\" >49</td>\n",
       "            </tr>\n",
       "            <tr>\n",
       "                                <th id=\"T_514e8fc6_42d0_11eb_bd81_02420a3924cblevel1_row35\" class=\"row_heading level1 row35\" >муниципальный округ мещанский</th>\n",
       "                        <td id=\"T_514e8fc6_42d0_11eb_bd81_02420a3924cbrow35_col0\" class=\"data row35 col0\" >63</td>\n",
       "            </tr>\n",
       "            <tr>\n",
       "                                <th id=\"T_514e8fc6_42d0_11eb_bd81_02420a3924cblevel1_row36\" class=\"row_heading level1 row36\" >муниципальный округ останкинский</th>\n",
       "                        <td id=\"T_514e8fc6_42d0_11eb_bd81_02420a3924cbrow36_col0\" class=\"data row36 col0\" >19</td>\n",
       "            </tr>\n",
       "            <tr>\n",
       "                                <th id=\"T_514e8fc6_42d0_11eb_bd81_02420a3924cblevel1_row37\" class=\"row_heading level1 row37\" >муниципальный округ ростокино</th>\n",
       "                        <td id=\"T_514e8fc6_42d0_11eb_bd81_02420a3924cbrow37_col0\" class=\"data row37 col0\" >7</td>\n",
       "            </tr>\n",
       "            <tr>\n",
       "                                <th id=\"T_514e8fc6_42d0_11eb_bd81_02420a3924cblevel1_row38\" class=\"row_heading level1 row38\" >муниципальный округ свиблово</th>\n",
       "                        <td id=\"T_514e8fc6_42d0_11eb_bd81_02420a3924cbrow38_col0\" class=\"data row38 col0\" >55</td>\n",
       "            </tr>\n",
       "            <tr>\n",
       "                                <th id=\"T_514e8fc6_42d0_11eb_bd81_02420a3924cblevel1_row39\" class=\"row_heading level1 row39\" >муниципальный округ ярославский</th>\n",
       "                        <td id=\"T_514e8fc6_42d0_11eb_bd81_02420a3924cbrow39_col0\" class=\"data row39 col0\" >1</td>\n",
       "            </tr>\n",
       "            <tr>\n",
       "                        <th id=\"T_514e8fc6_42d0_11eb_bd81_02420a3924cblevel0_row40\" class=\"row_heading level0 row40\" rowspan=6>профсоюзная улица</th>\n",
       "                        <th id=\"T_514e8fc6_42d0_11eb_bd81_02420a3924cblevel1_row40\" class=\"row_heading level1 row40\" >муниципальный округ академический</th>\n",
       "                        <td id=\"T_514e8fc6_42d0_11eb_bd81_02420a3924cbrow40_col0\" class=\"data row40 col0\" >25</td>\n",
       "            </tr>\n",
       "            <tr>\n",
       "                                <th id=\"T_514e8fc6_42d0_11eb_bd81_02420a3924cblevel1_row41\" class=\"row_heading level1 row41\" >муниципальный округ коньково</th>\n",
       "                        <td id=\"T_514e8fc6_42d0_11eb_bd81_02420a3924cbrow41_col0\" class=\"data row41 col0\" >34</td>\n",
       "            </tr>\n",
       "            <tr>\n",
       "                                <th id=\"T_514e8fc6_42d0_11eb_bd81_02420a3924cblevel1_row42\" class=\"row_heading level1 row42\" >муниципальный округ обручевский</th>\n",
       "                        <td id=\"T_514e8fc6_42d0_11eb_bd81_02420a3924cbrow42_col0\" class=\"data row42 col0\" >32</td>\n",
       "            </tr>\n",
       "            <tr>\n",
       "                                <th id=\"T_514e8fc6_42d0_11eb_bd81_02420a3924cblevel1_row43\" class=\"row_heading level1 row43\" >муниципальный округ теплый стан</th>\n",
       "                        <td id=\"T_514e8fc6_42d0_11eb_bd81_02420a3924cbrow43_col0\" class=\"data row43 col0\" >40</td>\n",
       "            </tr>\n",
       "            <tr>\n",
       "                                <th id=\"T_514e8fc6_42d0_11eb_bd81_02420a3924cblevel1_row44\" class=\"row_heading level1 row44\" >муниципальный округ черемушки</th>\n",
       "                        <td id=\"T_514e8fc6_42d0_11eb_bd81_02420a3924cbrow44_col0\" class=\"data row44 col0\" >34</td>\n",
       "            </tr>\n",
       "            <tr>\n",
       "                                <th id=\"T_514e8fc6_42d0_11eb_bd81_02420a3924cblevel1_row45\" class=\"row_heading level1 row45\" >муниципальный округ ясенево</th>\n",
       "                        <td id=\"T_514e8fc6_42d0_11eb_bd81_02420a3924cbrow45_col0\" class=\"data row45 col0\" >14</td>\n",
       "            </tr>\n",
       "    </tbody></table>"
      ],
      "text/plain": [
       "<pandas.io.formats.style.Styler at 0x7f8124e393d0>"
      ]
     },
     "execution_count": 70,
     "metadata": {},
     "output_type": "execute_result"
    }
   ],
   "source": [
    "streets_grouped = df_top.groupby(['street', 'district']).agg({'id':'count'})\n",
    "streets_grouped.style.background_gradient(cmap='inferno')"
   ]
  },
  {
   "cell_type": "markdown",
   "metadata": {},
   "source": [
    "<div class=\"alert alert-info\"> <b>Комментарий студента:</b> Из таблицы замечаем, что улицы с большим количеством заведений проходят через несколько районов Москвы. Самая короткая из всех улица, расположенная только водном районе - Пресненская набережная (Пресненский район). Но именно здесь мы видим расположение наибольшего количества заведений общепита. Все это объясняется высоким сосредоточением офисов в данном районе и следовательно большим спросом на такие заведения. </div>\n"
   ]
  },
  {
   "cell_type": "markdown",
   "metadata": {},
   "source": [
    "<div class=\"alert alert-danger\">\n",
    "<s><b>Комментарий ревьюера:</b> Здесь так же нужен вывод.\n",
    "</div>"
   ]
  },
  {
   "cell_type": "markdown",
   "metadata": {},
   "source": [
    "<div class=\"alert alert-success\">\n",
    "<b>Комментарий ревьюера v2:</b> Очень хорошо, редко когда студенты раскапывают такие подробности.\n",
    "</div>"
   ]
  },
  {
   "cell_type": "code",
   "execution_count": 71,
   "metadata": {},
   "outputs": [
    {
     "data": {
      "text/html": [
       "<div>\n",
       "<style scoped>\n",
       "    .dataframe tbody tr th:only-of-type {\n",
       "        vertical-align: middle;\n",
       "    }\n",
       "\n",
       "    .dataframe tbody tr th {\n",
       "        vertical-align: top;\n",
       "    }\n",
       "\n",
       "    .dataframe thead th {\n",
       "        text-align: right;\n",
       "    }\n",
       "</style>\n",
       "<table border=\"1\" class=\"dataframe\">\n",
       "  <thead>\n",
       "    <tr style=\"text-align: right;\">\n",
       "      <th></th>\n",
       "      <th>street</th>\n",
       "      <th>id</th>\n",
       "    </tr>\n",
       "  </thead>\n",
       "  <tbody>\n",
       "    <tr>\n",
       "      <td>0</td>\n",
       "      <td>проспект мира</td>\n",
       "      <td>195</td>\n",
       "    </tr>\n",
       "    <tr>\n",
       "      <td>1</td>\n",
       "      <td>профсоюзная улица</td>\n",
       "      <td>180</td>\n",
       "    </tr>\n",
       "    <tr>\n",
       "      <td>2</td>\n",
       "      <td>ленинградский проспект</td>\n",
       "      <td>172</td>\n",
       "    </tr>\n",
       "    <tr>\n",
       "      <td>3</td>\n",
       "      <td>пресненская набережная</td>\n",
       "      <td>165</td>\n",
       "    </tr>\n",
       "    <tr>\n",
       "      <td>4</td>\n",
       "      <td>варшавское шоссе</td>\n",
       "      <td>160</td>\n",
       "    </tr>\n",
       "    <tr>\n",
       "      <td>5</td>\n",
       "      <td>ленинский проспект</td>\n",
       "      <td>148</td>\n",
       "    </tr>\n",
       "    <tr>\n",
       "      <td>6</td>\n",
       "      <td>проспект вернадского</td>\n",
       "      <td>126</td>\n",
       "    </tr>\n",
       "    <tr>\n",
       "      <td>7</td>\n",
       "      <td>кутузовский проспект</td>\n",
       "      <td>114</td>\n",
       "    </tr>\n",
       "    <tr>\n",
       "      <td>8</td>\n",
       "      <td>каширское шоссе</td>\n",
       "      <td>110</td>\n",
       "    </tr>\n",
       "    <tr>\n",
       "      <td>9</td>\n",
       "      <td>кировоградская улица</td>\n",
       "      <td>107</td>\n",
       "    </tr>\n",
       "  </tbody>\n",
       "</table>\n",
       "</div>"
      ],
      "text/plain": [
       "                   street   id\n",
       "0           проспект мира  195\n",
       "1       профсоюзная улица  180\n",
       "2  ленинградский проспект  172\n",
       "3  пресненская набережная  165\n",
       "4        варшавское шоссе  160\n",
       "5      ленинский проспект  148\n",
       "6    проспект вернадского  126\n",
       "7    кутузовский проспект  114\n",
       "8         каширское шоссе  110\n",
       "9    кировоградская улица  107"
      ]
     },
     "execution_count": 71,
     "metadata": {},
     "output_type": "execute_result"
    }
   ],
   "source": [
    "top_10_streets"
   ]
  },
  {
   "cell_type": "code",
   "execution_count": 72,
   "metadata": {},
   "outputs": [
    {
     "data": {
      "text/plain": [
       "муниципальный округ пресненский              162\n",
       "муниципальный округ чертаново центральное     89\n",
       "муниципальный округ тропарево-никулино        84\n",
       "муниципальный округ аэропорт                  64\n",
       "муниципальный округ обручевский               64\n",
       "муниципальный округ мещанский                 63\n",
       "муниципальный округ дорогомилово              61\n",
       "муниципальный округ нагатино-садовники        56\n",
       "муниципальный округ свиблово                  55\n",
       "муниципальный округ фили-давыдково            53\n",
       "Name: district, dtype: int64"
      ]
     },
     "execution_count": 72,
     "metadata": {},
     "output_type": "execute_result"
    }
   ],
   "source": [
    "df_top['district'].value_counts().head(10)"
   ]
  },
  {
   "cell_type": "code",
   "execution_count": 73,
   "metadata": {},
   "outputs": [
    {
     "data": {
      "text/plain": [
       "кафе          619\n",
       "ресторан      289\n",
       "фаст-фуд      249\n",
       "столовая      139\n",
       "бар            63\n",
       "кафетерий      48\n",
       "буфет          31\n",
       "кулинария      23\n",
       "закусочная     16\n",
       "Name: object_type, dtype: int64"
      ]
     },
     "execution_count": 73,
     "metadata": {},
     "output_type": "execute_result"
    }
   ],
   "source": [
    "df_top['object_type'].value_counts().head(10)"
   ]
  },
  {
   "cell_type": "markdown",
   "metadata": {},
   "source": [
    "Cреди районов по количеству заведений лидирует пресненский район, что неудивительно, так как на его расположены крупные предприятия, деловые комплексы (Москва-Сити). Среди объектов питания на популярных улицах преобладают кафе, рестораны и фаст-фуды."
   ]
  },
  {
   "cell_type": "markdown",
   "metadata": {},
   "source": [
    "<div class=\"alert alert-danger\">\n",
    "<s><b>Комментарий ревьюера:</b> Это верно, но что ты можешь сказать о самих улицах? Что их объединяет?\n",
    "</div>"
   ]
  },
  {
   "cell_type": "markdown",
   "metadata": {},
   "source": [
    "<div class=\"alert alert-info\"> <b>Комментарий студента:</b> Улицы, входящие в топ-10 по количеству заведений общепита это крупные и длинные улицы, проходящие через большое количество районов и на территории которых располагается большое количество офисов.</div>"
   ]
  },
  {
   "cell_type": "markdown",
   "metadata": {},
   "source": [
    "<div class=\"alert alert-success\">\n",
    "<b>Комментарий ревьюера v2:</b> ✅\n",
    "</div>"
   ]
  },
  {
   "cell_type": "markdown",
   "metadata": {},
   "source": [
    "### 8. Найдите число улиц с одним объектом общественного питания. Воспользуйтесь внешней информацией и ответьте на вопрос — в каких районах Москвы находятся эти улицы?\n",
    "<a id=\"item_8\"></a>"
   ]
  },
  {
   "cell_type": "code",
   "execution_count": 74,
   "metadata": {},
   "outputs": [
    {
     "data": {
      "text/plain": [
       "540"
      ]
     },
     "execution_count": 74,
     "metadata": {},
     "output_type": "execute_result"
    }
   ],
   "source": [
    "count_on_street = rest_data.groupby('street').agg({'id':'count'}).reset_index()\n",
    "one_on_street = count_on_street.query('id == 1')\n",
    "len(one_on_street)"
   ]
  },
  {
   "cell_type": "markdown",
   "metadata": {},
   "source": [
    "Улиц с одним общественным заведением в Москве 540"
   ]
  },
  {
   "cell_type": "code",
   "execution_count": 75,
   "metadata": {},
   "outputs": [],
   "source": [
    "list_of_streets = list(one_on_street['street'])"
   ]
  },
  {
   "cell_type": "markdown",
   "metadata": {},
   "source": [
    "Сделаем срез по улицам, на которых расположен только один объект общественного питания."
   ]
  },
  {
   "cell_type": "code",
   "execution_count": 76,
   "metadata": {},
   "outputs": [
    {
     "data": {
      "text/html": [
       "<div>\n",
       "<style scoped>\n",
       "    .dataframe tbody tr th:only-of-type {\n",
       "        vertical-align: middle;\n",
       "    }\n",
       "\n",
       "    .dataframe tbody tr th {\n",
       "        vertical-align: top;\n",
       "    }\n",
       "\n",
       "    .dataframe thead th {\n",
       "        text-align: right;\n",
       "    }\n",
       "</style>\n",
       "<table border=\"1\" class=\"dataframe\">\n",
       "  <thead>\n",
       "    <tr style=\"text-align: right;\">\n",
       "      <th></th>\n",
       "      <th>address</th>\n",
       "      <th>street</th>\n",
       "      <th>district</th>\n",
       "      <th>id</th>\n",
       "      <th>object_name</th>\n",
       "      <th>chain</th>\n",
       "      <th>object_type</th>\n",
       "      <th>number</th>\n",
       "      <th>address_new</th>\n",
       "    </tr>\n",
       "  </thead>\n",
       "  <tbody>\n",
       "    <tr>\n",
       "      <td>11</td>\n",
       "      <td>город москва, подсосенский переулок, дом 8, ст...</td>\n",
       "      <td>подсосенский переулок</td>\n",
       "      <td>муниципальный округ басманный</td>\n",
       "      <td>156679</td>\n",
       "      <td>cezve coffee</td>\n",
       "      <td>нет</td>\n",
       "      <td>кафе</td>\n",
       "      <td>20</td>\n",
       "      <td>подсосенский переулок дом 8 строение 2</td>\n",
       "    </tr>\n",
       "    <tr>\n",
       "      <td>14</td>\n",
       "      <td>город москва, 31-й километр московской кольцев...</td>\n",
       "      <td>31-й километр московской кольцевой автодороги</td>\n",
       "      <td>муниципальный округ бирюлево западное</td>\n",
       "      <td>171176</td>\n",
       "      <td>шаурма 31</td>\n",
       "      <td>нет</td>\n",
       "      <td>закусочная</td>\n",
       "      <td>0</td>\n",
       "      <td>31-й километр московской кольцевой автодороги ...</td>\n",
       "    </tr>\n",
       "    <tr>\n",
       "      <td>41</td>\n",
       "      <td>город москва, вяземская улица, дом 7</td>\n",
       "      <td>вяземская улица</td>\n",
       "      <td>муниципальный округ можайский</td>\n",
       "      <td>23740</td>\n",
       "      <td>столовая гбоу города москвы № 1195</td>\n",
       "      <td>нет</td>\n",
       "      <td>буфет</td>\n",
       "      <td>100</td>\n",
       "      <td>вяземская улица дом 7</td>\n",
       "    </tr>\n",
       "    <tr>\n",
       "      <td>50</td>\n",
       "      <td>город москва, мамоновский переулок, дом 10, ст...</td>\n",
       "      <td>мамоновский переулок</td>\n",
       "      <td>муниципальный округ тверской</td>\n",
       "      <td>21030</td>\n",
       "      <td>буфет</td>\n",
       "      <td>нет</td>\n",
       "      <td>буфет</td>\n",
       "      <td>4</td>\n",
       "      <td>мамоновский переулок дом 10 строение 1</td>\n",
       "    </tr>\n",
       "    <tr>\n",
       "      <td>61</td>\n",
       "      <td>город москва, попов проезд, дом 2</td>\n",
       "      <td>попов проезд</td>\n",
       "      <td>муниципальный округ сокольники</td>\n",
       "      <td>27284</td>\n",
       "      <td>принцесса</td>\n",
       "      <td>нет</td>\n",
       "      <td>ресторан</td>\n",
       "      <td>200</td>\n",
       "      <td>попов проезд дом 2</td>\n",
       "    </tr>\n",
       "  </tbody>\n",
       "</table>\n",
       "</div>"
      ],
      "text/plain": [
       "                                              address  \\\n",
       "11  город москва, подсосенский переулок, дом 8, ст...   \n",
       "14  город москва, 31-й километр московской кольцев...   \n",
       "41               город москва, вяземская улица, дом 7   \n",
       "50  город москва, мамоновский переулок, дом 10, ст...   \n",
       "61                  город москва, попов проезд, дом 2   \n",
       "\n",
       "                                           street  \\\n",
       "11                          подсосенский переулок   \n",
       "14  31-й километр московской кольцевой автодороги   \n",
       "41                                вяземская улица   \n",
       "50                           мамоновский переулок   \n",
       "61                                   попов проезд   \n",
       "\n",
       "                                 district      id  \\\n",
       "11          муниципальный округ басманный  156679   \n",
       "14  муниципальный округ бирюлево западное  171176   \n",
       "41          муниципальный округ можайский   23740   \n",
       "50           муниципальный округ тверской   21030   \n",
       "61         муниципальный округ сокольники   27284   \n",
       "\n",
       "                           object_name chain object_type  number  \\\n",
       "11                        cezve coffee   нет        кафе      20   \n",
       "14                           шаурма 31   нет  закусочная       0   \n",
       "41  столовая гбоу города москвы № 1195   нет       буфет     100   \n",
       "50                               буфет   нет       буфет       4   \n",
       "61                           принцесса   нет    ресторан     200   \n",
       "\n",
       "                                          address_new  \n",
       "11             подсосенский переулок дом 8 строение 2  \n",
       "14  31-й километр московской кольцевой автодороги ...  \n",
       "41                              вяземская улица дом 7  \n",
       "50             мамоновский переулок дом 10 строение 1  \n",
       "61                                 попов проезд дом 2  "
      ]
     },
     "execution_count": 76,
     "metadata": {},
     "output_type": "execute_result"
    }
   ],
   "source": [
    "one_object_street = moscow_data.query('street in @list_of_streets')\n",
    "one_object_street.head()"
   ]
  },
  {
   "cell_type": "code",
   "execution_count": 77,
   "metadata": {},
   "outputs": [
    {
     "data": {
      "text/plain": [
       "муниципальный округ таганский         26\n",
       "муниципальный округ хамовники         26\n",
       "муниципальный округ басманный         22\n",
       "муниципальный округ тверской          20\n",
       "муниципальный округ пресненский       19\n",
       "муниципальный округ марьина роща      17\n",
       "муниципальный округ сокольники        14\n",
       "муниципальный округ замоскворечье     12\n",
       "муниципальный округ соколиная гора    12\n",
       "муниципальный округ мещанский         12\n",
       "Name: district, dtype: int64"
      ]
     },
     "execution_count": 77,
     "metadata": {},
     "output_type": "execute_result"
    }
   ],
   "source": [
    "one_object_street['district'].value_counts().head(10)"
   ]
  },
  {
   "cell_type": "code",
   "execution_count": 78,
   "metadata": {},
   "outputs": [
    {
     "data": {
      "image/png": "[encoded data removed]",
      "text/plain": [
       "<Figure size 648x360 with 1 Axes>"
      ]
     },
     "metadata": {},
     "output_type": "display_data"
    }
   ],
   "source": [
    "fig, ax = plt.subplots(figsize=(9,5))\n",
    "ax = one_object_street['district'].value_counts().reset_index().head(10)\n",
    "sns.barplot(x='district', y='index', data=ax, palette='Set2')\n",
    "plt.xticks(rotation=45)\n",
    "plt.title('Районы Москвы с наибольшим количеством улиц с одним объектом общепита', fontsize=17, pad=15)\n",
    "plt.xlabel('количество улиц')\n",
    "plt.ylabel('районы')\n",
    "plt.show()"
   ]
  },
  {
   "cell_type": "code",
   "execution_count": 79,
   "metadata": {},
   "outputs": [
    {
     "data": {
      "text/html": [
       "<div>\n",
       "<style scoped>\n",
       "    .dataframe tbody tr th:only-of-type {\n",
       "        vertical-align: middle;\n",
       "    }\n",
       "\n",
       "    .dataframe tbody tr th {\n",
       "        vertical-align: top;\n",
       "    }\n",
       "\n",
       "    .dataframe thead th {\n",
       "        text-align: right;\n",
       "    }\n",
       "</style>\n",
       "<table border=\"1\" class=\"dataframe\">\n",
       "  <thead>\n",
       "    <tr style=\"text-align: right;\">\n",
       "      <th></th>\n",
       "      <th>index</th>\n",
       "      <th>object_type</th>\n",
       "    </tr>\n",
       "  </thead>\n",
       "  <tbody>\n",
       "    <tr>\n",
       "      <td>0</td>\n",
       "      <td>столовая</td>\n",
       "      <td>218</td>\n",
       "    </tr>\n",
       "    <tr>\n",
       "      <td>1</td>\n",
       "      <td>кафе</td>\n",
       "      <td>154</td>\n",
       "    </tr>\n",
       "    <tr>\n",
       "      <td>2</td>\n",
       "      <td>буфет</td>\n",
       "      <td>58</td>\n",
       "    </tr>\n",
       "    <tr>\n",
       "      <td>3</td>\n",
       "      <td>ресторан</td>\n",
       "      <td>52</td>\n",
       "    </tr>\n",
       "    <tr>\n",
       "      <td>4</td>\n",
       "      <td>бар</td>\n",
       "      <td>21</td>\n",
       "    </tr>\n",
       "    <tr>\n",
       "      <td>5</td>\n",
       "      <td>фаст-фуд</td>\n",
       "      <td>16</td>\n",
       "    </tr>\n",
       "    <tr>\n",
       "      <td>6</td>\n",
       "      <td>закусочная</td>\n",
       "      <td>11</td>\n",
       "    </tr>\n",
       "    <tr>\n",
       "      <td>7</td>\n",
       "      <td>кулинария</td>\n",
       "      <td>7</td>\n",
       "    </tr>\n",
       "    <tr>\n",
       "      <td>8</td>\n",
       "      <td>кафетерий</td>\n",
       "      <td>3</td>\n",
       "    </tr>\n",
       "  </tbody>\n",
       "</table>\n",
       "</div>"
      ],
      "text/plain": [
       "        index  object_type\n",
       "0    столовая          218\n",
       "1        кафе          154\n",
       "2       буфет           58\n",
       "3    ресторан           52\n",
       "4         бар           21\n",
       "5    фаст-фуд           16\n",
       "6  закусочная           11\n",
       "7   кулинария            7\n",
       "8   кафетерий            3"
      ]
     },
     "execution_count": 79,
     "metadata": {},
     "output_type": "execute_result"
    }
   ],
   "source": [
    "one_object_top = one_object_street['object_type'].value_counts().reset_index().head(10)\n",
    "one_object_top"
   ]
  },
  {
   "cell_type": "code",
   "execution_count": 80,
   "metadata": {},
   "outputs": [
    {
     "data": {
      "image/png": "[encoded data removed]",
      "text/plain": [
       "<Figure size 648x360 with 1 Axes>"
      ]
     },
     "metadata": {},
     "output_type": "display_data"
    }
   ],
   "source": [
    "fig, ax = plt.subplots(figsize=(9,5))\n",
    "sns.barplot(x='index', y='object_type', data=one_object_top, palette='Set2')\n",
    "plt.xticks(rotation=45)\n",
    "plt.title('Распределение видов заведений общепита на улицах с одним объектом', fontsize=17, pad=15)\n",
    "plt.xlabel('вид заведения')\n",
    "plt.ylabel('количество объектов')\n",
    "plt.show()"
   ]
  },
  {
   "cell_type": "markdown",
   "metadata": {},
   "source": [
    "<div class=\"alert alert-danger\">\n",
    "<s><b>Комментарий ревьюера:</b> Добавь, пожалуйста, визуализацию результатов.\n",
    "</div>"
   ]
  },
  {
   "cell_type": "markdown",
   "metadata": {},
   "source": [
    "<div class=\"alert alert-info\"> <b>Комментарий студента:</b> Добавила!</div>"
   ]
  },
  {
   "cell_type": "markdown",
   "metadata": {},
   "source": [
    "<div class=\"alert alert-success\">\n",
    "<b>Комментарий ревьюера v2:</b> ✅\n",
    "</div>"
   ]
  },
  {
   "cell_type": "markdown",
   "metadata": {},
   "source": [
    "Больше всего улиц с одним заведение общепита в центральном округе Москвы (Таганский, Басманный, Хамовники, Мещанский, Замоскворечье, Тверской округа). Наибоьшая доля объектов на таких улицах приходится на столовые и кафе."
   ]
  },
  {
   "cell_type": "markdown",
   "metadata": {},
   "source": [
    "<div class=\"alert alert-success\">\n",
    "<b>Комментарий ревьюера:</b> Да, абсолютно верно.\n",
    "</div>\n"
   ]
  },
  {
   "cell_type": "markdown",
   "metadata": {},
   "source": [
    "### 9. Посмотрите на распределение количества посадочных мест для улиц с большим количеством объектов общественного питания. Какие закономерности можно выявить?\n",
    "<a id=\"item_9\"></a>"
   ]
  },
  {
   "cell_type": "code",
   "execution_count": 81,
   "metadata": {},
   "outputs": [
    {
     "data": {
      "image/png": "[encoded data removed]",
      "text/plain": [
       "<Figure size 864x504 with 2 Axes>"
      ]
     },
     "metadata": {},
     "output_type": "display_data"
    }
   ],
   "source": [
    "figure, (ax_box, ax_hist) = plt.subplots(2, sharex=True, gridspec_kw={'height_ratios':(.25, .85)}, figsize=(12,7))\n",
    "#plt.title('Распределение количества посадочных мест для улиц с большим количеством объектов общепита', fontsize=17, pad=15)\n",
    "sns.boxplot(df_top['number'], ax=ax_box)\n",
    "sns.distplot(df_top['number'], ax=ax_hist)\n",
    "plt.xlabel('количество посадочных мест')\n",
    "ax_box.set(xlabel=None)\n",
    "ax_box.set(title='Распределение количества посадочных мест для улиц с большим количеством объектов общепита')\n",
    "plt.show()"
   ]
  },
  {
   "cell_type": "markdown",
   "metadata": {},
   "source": [
    "Можем сделать вывод, что в заведениях, расположенных на улицах с большим количеством объектов общепита, мало посадочных мест. Причиной этому является дорогая аренда помещения."
   ]
  },
  {
   "cell_type": "code",
   "execution_count": 82,
   "metadata": {},
   "outputs": [
    {
     "data": {
      "image/png": "[encoded data removed]",
      "text/plain": [
       "<Figure size 648x360 with 1 Axes>"
      ]
     },
     "metadata": {},
     "output_type": "display_data"
    }
   ],
   "source": [
    "fig, ax = plt.subplots(figsize=(9,5))\n",
    "ax = sns.boxplot(x='number', y='street', data=df_top, palette='Set2')\n",
    "plt.xticks(rotation=45)\n",
    "plt.title('Распределение количества посадочных мест для топ-10 улиц', fontsize=17, pad=15)\n",
    "plt.xlabel('количество посадочных мест')\n",
    "plt.ylabel('улица')\n",
    "ax.set_xlim(-10,300)\n",
    "plt.show()\n"
   ]
  },
  {
   "cell_type": "markdown",
   "metadata": {},
   "source": [
    "<div class=\"alert alert-danger\">\n",
    "<s><b>Комментарий ревьюера:</b> Добавь, пожалуйста, финальный вывод для этого подпункта.\n",
    "</div>"
   ]
  },
  {
   "cell_type": "markdown",
   "metadata": {},
   "source": [
    "<div class=\"alert alert-info\"> <b>Комментарий студента:</b> Для топ-10 улиц с наибольшим количеством заведений общепита характерно небольшое количество посадочных мест. Наименьшее количество посадочных мест среди таких улиц в заведениях на пресненской набережной. Как мы рассматривали выше именно в Пресненском районе больше всего количество объектов общепита. </div>"
   ]
  },
  {
   "cell_type": "markdown",
   "metadata": {},
   "source": [
    "<div class=\"alert alert-success\">\n",
    "<b>Комментарий ревьюера v2:</b> ✅\n",
    "</div>"
   ]
  },
  {
   "cell_type": "markdown",
   "metadata": {},
   "source": [
    "## Шаг 3. Презентация\n",
    "<a id=\"step3\"></a>"
   ]
  },
  {
   "cell_type": "markdown",
   "metadata": {},
   "source": [
    "Презентация: https://drive.google.com/file/d/1RnXBCfmb-sBmWbGbMOUWCr9gEdmyyfDX/view?usp=sharing"
   ]
  },
  {
   "cell_type": "markdown",
   "metadata": {},
   "source": [
    "<div class=\"alert alert-danger\">\n",
    "<s><b>Комментарий ревьюера:</b> Отличная презентация, но ей категорически не хвататет слайда с итогами исследования.\n",
    "</div>"
   ]
  },
  {
   "cell_type": "markdown",
   "metadata": {},
   "source": [
    "<div class=\"alert alert-info\"> <b>Комментарий студента:</b> Презентацию доработала! </div"
   ]
  },
  {
   "cell_type": "markdown",
   "metadata": {},
   "source": [
    "<div class=\"alert alert-success\">\n",
    "<b>Комментарий ревьюера v2:</b> Да, то что нужно, спасибо!\n",
    "</div>"
   ]
  },
  {
   "cell_type": "markdown",
   "metadata": {},
   "source": [
    "## Вывод:\n",
    "\n",
    "В данном проекте мы провели исследование рынка заведений общественного питания в Москве. Для начала мы провели первичный анализ и предобработку данных. Привели данные в более удобный для исследования вид. А также удалили данные о заведениях общепита за пределами Москвы (Новую Москву в проекте решили не рассматривать). Исходя из проведенного анализа можем сделать следующие выводы:\n",
    "\n",
    "- По количеству заведений в Москве лидируют кафе, затем следуют столовые, рестораны и фаст-фуды. Наименьшим количеством заведений в Москве представлены закусочные и кулинарии.\n",
    "- По соотношению сетевых и несетевых заведений преобладают несетевые. На их долю приходится 80%.\n",
    "- Среди всех типов заведений наибольшая доля приходится на несетевые. У сетевых заведений наиболее высокая доля предприятий быстрого питания (40%). Также высока доля у магазинов кулинарии (30%), ресторанов и кафе (по 23%). Минимальная доля сетевых заведений среди столовых (почти 100% приходится на несетевые) и буфеты(2%).\n",
    "- Чем меньшим количеством заведений представлена сеть, тем больше в них посадочных мест. Такие крупные сети, как макдоналдс, шоколадница, кфс, бургер кинг имеют в среднем до 100 посадочных мест.\n",
    "- Больше всего посадочных мест в столовых и ресторанах. Меньше всего - в закусочных и кулинариях.\n",
    "- Среди столовых преобладают столовые при различных учебных заведениях (школах, колледжах, вузах).\n",
    "- Cреди районов по количеству заведений лидирует Пресненский район (на его территории расположены крупные предприятия и деловые комплексы, самый известный и крупный в Москве комплекс Москва-Сити).\n",
    "- Больше всего улиц с одним заведение общепита в центральном округе Москвы (Таганский, Басманный, Хамовники, Мещанский, Замоскворечье, Тверской округа).\n",
    "- В заведениях, расположенных на улицах с большим количеством объектов общепита, мало посадочных мест. Причиной этому является дорогая аренда помещения.\n",
    "\n",
    "Что касается рекомендаций, то как мне кажется без данных о посещаемости данных заведений, дать советы, которые могли бы помочь в развитии бизнеса в данной сфере будет непросто. Исходя из статистики, среди заведений общепита преобладают несетевые заведения, типа столовых (причем большинство столовых относится к различным учебным заведениям). На долю сетевых заведений приходится 80%. Но это не говорит о неуспешности сетевых заведений. Отнюдь, большинство заведений, которые у нас на слуху, являются именно сетевыми. Среди данного типа объектов большая доля приходится на предприятия быстрого питания, кулинарии, рестораны и кафе. Среди топ-10 улиц по количеству заведений преобладают достаточно крупные улицы, проходящие через большое количество районов Москвы. Лидером по количеству заведений является Пресненский район, известный большим количеством расположенных на его территории бизнес-центров (Москва-Сити). Среди заведений здесь преобладают кафе, рестораны и фаст-фуды. Как правило количество посадочных мест, которые заведения готовы предложить посетителям на таких популярных улицах, невелико встедствие большой аренды за помещения в данных районах. В Центральном округе Москвы есть достаточно много улиц, на которых располагается всего один объект питания (причем наибольшая часть из них приходится на столовые, которые, как мы уже говорили ранее относится к учебным заведениям, следовательно вероятность встретить общедоступные объекты питания на таких улицах крайне мала)"
   ]
  },
  {
   "cell_type": "markdown",
   "metadata": {},
   "source": [
    "<div class=\"alert alert-success\">\n",
    "<b>Комментарий ревьюера:</b> Великолепный финал и сильное исследование в целом. Спасибо за проведенную работу!\n",
    "</div> "
   ]
  },
  {
   "cell_type": "code",
   "execution_count": null,
   "metadata": {},
   "outputs": [],
   "source": []
  }
 ],
 "metadata": {
  "kernelspec": {
   "display_name": "Python 3",
   "language": "python",
   "name": "python3"
  },
  "language_info": {
   "codemirror_mode": {
    "name": "ipython",
    "version": 3
   },
   "file_extension": ".py",
   "mimetype": "text/x-python",
   "name": "python",
   "nbconvert_exporter": "python",
   "pygments_lexer": "ipython3",
   "version": "3.7.8"
  },
  "toc": {
   "base_numbering": 1,
   "nav_menu": {},
   "number_sections": true,
   "sideBar": true,
   "skip_h1_title": false,
   "title_cell": "Table of Contents",
   "title_sidebar": "Contents",
   "toc_cell": false,
   "toc_position": {},
   "toc_section_display": true,
   "toc_window_display": false
  }
 },
 "nbformat": 4,
 "nbformat_minor": 2
}
