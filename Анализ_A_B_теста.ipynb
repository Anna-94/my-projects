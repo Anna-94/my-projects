{
  "nbformat": 4,
  "nbformat_minor": 0,
  "metadata": {
    "colab": {
      "name": "Анализ A/B теста",
      "provenance": [],
      "mount_file_id": "1c6E4oC80RGk3d2XrxzQ68yBzRa6Scikl",
      "authorship_tag": "ABX9TyPKNQj+tD/WD5HIfHaeELGW"
    },
    "kernelspec": {
      "name": "python3",
      "display_name": "Python 3"
    }
  },
  "cells": [
    {
      "cell_type": "code",
      "metadata": {
        "id": "ImiMnVyZd5TH"
      },
      "source": [
        ""
      ],
      "execution_count": null,
      "outputs": []
    },
    {
      "cell_type": "markdown",
      "metadata": {
        "id": "uFs3s-DC0nO7"
      },
      "source": [
        "# Анализ А/В теста"
      ]
    },
    {
      "cell_type": "markdown",
      "metadata": {
        "id": "GQ1nWRtdfZxw"
      },
      "source": [
        "### Описание проекта\r\n",
        "### Контекст\r\n",
        "Вы — аналитик крупного интернет-магазина. Вместе с отделом маркетинга вы подготовили список гипотез для увеличения выручки.\r\n",
        "Приоритизируйте гипотезы, запустите A/B-тест и проанализируйте результаты.\r\n",
        "\r\n",
        "## [Часть 1. Приоритизация гипотез.](#part1)\r\n",
        "\r\n",
        "В файле /datasets/hypothesis.csv 9 гипотез по увеличению выручки интернет-магазина с указанными параметрами Reach, Impact, Confidence, Effort.\r\n",
        "#### Задача\r\n",
        "* 1. [Примените фреймворк ICE для приоритизации гипотез. Отсортируйте их по убыванию приоритета.](#ICE)\r\n",
        "* 2. [Примените фреймворк RICE для приоритизации гипотез. Отсортируйте их по убыванию приоритета.](#RICE)\r\n",
        "* 3. [Укажите, как изменилась приоритизация гипотез при применении RICE вместо ICE. Объясните, почему так произошло.](#change)\r\n",
        "\r\n",
        "## [Часть 2. Анализ A/B-теста](#part2)\r\n",
        "\r\n",
        "Вы провели A/B-тест и получили результаты, которые описаны в файлах /datasets/orders.csv и /datasets/visitors.csv.\r\n",
        "#### Задача\r\n",
        "##### Проанализируйте A/B-тест:\r\n",
        "* 1. [Постройте график кумулятивной выручки по группам. Сделайте выводы и предположения.](#item_1)\r\n",
        "* 2. [Постройте график кумулятивного среднего чека по группам. Сделайте выводы и предположения.](#item_2)\r\n",
        "* 3. [Постройте график относительного изменения кумулятивного среднего чека группы B к группе A. Сделайте выводы и предположения.](#item_3)\r\n",
        "* 4. [Постройте график кумулятивной конверсии по группам. Сделайте выводы и предположения.](#item_4)\r\n",
        "* 5. [Постройте график относительного изменения кумулятивной конверсии группы B к группе A. Сделайте выводы и предположения.](#item_5)\r\n",
        "* 6. [Постройте точечный график количества заказов по пользователям. Сделайте выводы и предположения.](#item_6)\r\n",
        "* 7. [Посчитайте 95-й и 99-й перцентили количества заказов на пользователя. Выберите границу для определения аномальных пользователей.](#item_7)\r\n",
        "* 8. [Постройте точечный график стоимостей заказов. Сделайте выводы и предположения.](#item_8)\r\n",
        "* 9. [Посчитайте 95-й и 99-й перцентили стоимости заказов. Выберите границу для определения аномальных заказов.](#item_9)\r\n",
        "* 10. [Посчитайте статистическую значимость различий в конверсии между группами по «сырым» данным. Сделайте выводы и предположения.](#item_10)\r\n",
        "* 11. [Посчитайте статистическую значимость различий в среднем чеке заказа между группами по «сырым» данным. Сделайте выводы и предположения.](#item_11)\r\n",
        "* 12. [Посчитайте статистическую значимость различий в конверсии между группами по «очищенным» данным. Сделайте выводы и предположения.](#item_12)\r\n",
        "* 13. [Посчитайте статистическую значимость различий в среднем чеке заказа между группами по «очищенным» данным. Сделайте выводы и предположения.](#item_13)\r\n",
        "* 14. [Примите решение по результатам теста и объясните его. Варианты решений: 1. Остановить тест, зафиксировать победу одной из групп. 2. Остановить тест, зафиксировать отсутствие различий между группами. 3. Продолжить тест.](#item_14)"
      ]
    },
    {
      "cell_type": "markdown",
      "metadata": {
        "id": "ciZyxtsyfbVf"
      },
      "source": [
        ""
      ]
    },
    {
      "cell_type": "markdown",
      "metadata": {
        "id": "FL7ZzYjHfm4b"
      },
      "source": [
        "## Описание данных\r\n",
        "\r\n",
        "### Данные для первой части\r\n",
        "\r\n",
        "#### Файл /datasets/hypothesis.csv. Скачать датасет\r\n",
        "* Hypothesis — краткое описание гипотезы;\r\n",
        "* Reach — охват пользователей по 10-балльной шкале;\r\n",
        "* Impact — влияние на пользователей по 10-балльной шкале;\r\n",
        "* Confidence — уверенность в гипотезе по 10-балльной шкале;\r\n",
        "* Efforts — затраты ресурсов на проверку гипотезы по 10-балльной шкале. Чем больше значение Efforts, тем дороже проверка гипотезы.\r\n",
        "\r\n",
        "### Данные для второй части\r\n",
        "\r\n",
        "#### Файл /datasets/orders.csv. Скачать датасет\r\n",
        "* transactionId — идентификатор заказа;\r\n",
        "* visitorId — идентификатор пользователя, совершившего заказ;\r\n",
        "* date — дата, когда был совершён заказ;\r\n",
        "* revenue — выручка заказа;\r\n",
        "* group — группа A/B-теста, в которую попал заказ.\r\n",
        "\r\n",
        "#### Файл /datasets/visitors.csv. Скачать датасет\r\n",
        "* date — дата;\r\n",
        "* group — группа A/B-теста;\r\n",
        "* visitors — количество пользователей в указанную дату в указанной группе A/B-теста"
      ]
    },
    {
      "cell_type": "code",
      "metadata": {
        "id": "fcFrgCMqftUo"
      },
      "source": [
        "import pandas as pd\r\n",
        "import numpy as np\r\n",
        "import matplotlib.pyplot as plt\r\n",
        "import scipy.stats as stats\r\n",
        "pd.set_option('display.max_columns', None)\r\n",
        "pd.options.display.max_colwidth = 150\r\n",
        "plt.style.use('ggplot')"
      ],
      "execution_count": null,
      "outputs": []
    },
    {
      "cell_type": "markdown",
      "metadata": {
        "id": "QLyqynl4gDDA"
      },
      "source": [
        "### Часть 1. Приоритизация гипотез.\r\n",
        "<a id=\"part1\"></a>"
      ]
    },
    {
      "cell_type": "markdown",
      "metadata": {
        "id": "60HVI558gGTW"
      },
      "source": [
        "Посморим на данные таблицы 'Hypothesis'"
      ]
    },
    {
      "cell_type": "code",
      "metadata": {
        "colab": {
          "base_uri": "https://localhost:8080/",
          "height": 328
        },
        "id": "04wNiwddhrFi",
        "outputId": "dd71407d-a9dc-4c76-e1fe-2fc5b7d9148e"
      },
      "source": [
        "hypothesis = pd.read_csv('/content/drive/MyDrive/hypothesis.csv')\r\n",
        "hypothesis"
      ],
      "execution_count": null,
      "outputs": [
        {
          "output_type": "execute_result",
          "data": {
            "text/html": [
              "<div>\n",
              "<style scoped>\n",
              "    .dataframe tbody tr th:only-of-type {\n",
              "        vertical-align: middle;\n",
              "    }\n",
              "\n",
              "    .dataframe tbody tr th {\n",
              "        vertical-align: top;\n",
              "    }\n",
              "\n",
              "    .dataframe thead th {\n",
              "        text-align: right;\n",
              "    }\n",
              "</style>\n",
              "<table border=\"1\" class=\"dataframe\">\n",
              "  <thead>\n",
              "    <tr style=\"text-align: right;\">\n",
              "      <th></th>\n",
              "      <th>Hypothesis</th>\n",
              "      <th>Reach</th>\n",
              "      <th>Impact</th>\n",
              "      <th>Confidence</th>\n",
              "      <th>Efforts</th>\n",
              "    </tr>\n",
              "  </thead>\n",
              "  <tbody>\n",
              "    <tr>\n",
              "      <th>0</th>\n",
              "      <td>Добавить два новых канала привлечения трафика, что позволит привлекать на 30% больше пользователей</td>\n",
              "      <td>3</td>\n",
              "      <td>10</td>\n",
              "      <td>8</td>\n",
              "      <td>6</td>\n",
              "    </tr>\n",
              "    <tr>\n",
              "      <th>1</th>\n",
              "      <td>Запустить собственную службу доставки, что сократит срок доставки заказов</td>\n",
              "      <td>2</td>\n",
              "      <td>5</td>\n",
              "      <td>4</td>\n",
              "      <td>10</td>\n",
              "    </tr>\n",
              "    <tr>\n",
              "      <th>2</th>\n",
              "      <td>Добавить блоки рекомендаций товаров на сайт интернет магазина, чтобы повысить конверсию и средний чек заказа</td>\n",
              "      <td>8</td>\n",
              "      <td>3</td>\n",
              "      <td>7</td>\n",
              "      <td>3</td>\n",
              "    </tr>\n",
              "    <tr>\n",
              "      <th>3</th>\n",
              "      <td>Изменить структура категорий, что увеличит конверсию, т.к. пользователи быстрее найдут нужный товар</td>\n",
              "      <td>8</td>\n",
              "      <td>3</td>\n",
              "      <td>3</td>\n",
              "      <td>8</td>\n",
              "    </tr>\n",
              "    <tr>\n",
              "      <th>4</th>\n",
              "      <td>Изменить цвет фона главной страницы, чтобы увеличить вовлеченность пользователей</td>\n",
              "      <td>3</td>\n",
              "      <td>1</td>\n",
              "      <td>1</td>\n",
              "      <td>1</td>\n",
              "    </tr>\n",
              "    <tr>\n",
              "      <th>5</th>\n",
              "      <td>Добавить страницу отзывов клиентов о магазине, что позволит увеличить количество заказов</td>\n",
              "      <td>3</td>\n",
              "      <td>2</td>\n",
              "      <td>2</td>\n",
              "      <td>3</td>\n",
              "    </tr>\n",
              "    <tr>\n",
              "      <th>6</th>\n",
              "      <td>Показать на главной странице баннеры с актуальными акциями и распродажами, чтобы увеличить конверсию</td>\n",
              "      <td>5</td>\n",
              "      <td>3</td>\n",
              "      <td>8</td>\n",
              "      <td>3</td>\n",
              "    </tr>\n",
              "    <tr>\n",
              "      <th>7</th>\n",
              "      <td>Добавить форму подписки на все основные страницы, чтобы собрать базу клиентов для email-рассылок</td>\n",
              "      <td>10</td>\n",
              "      <td>7</td>\n",
              "      <td>8</td>\n",
              "      <td>5</td>\n",
              "    </tr>\n",
              "    <tr>\n",
              "      <th>8</th>\n",
              "      <td>Запустить акцию, дающую скидку на товар в день рождения</td>\n",
              "      <td>1</td>\n",
              "      <td>9</td>\n",
              "      <td>9</td>\n",
              "      <td>5</td>\n",
              "    </tr>\n",
              "  </tbody>\n",
              "</table>\n",
              "</div>"
            ],
            "text/plain": [
              "                                                                                                     Hypothesis  \\\n",
              "0            Добавить два новых канала привлечения трафика, что позволит привлекать на 30% больше пользователей   \n",
              "1                                     Запустить собственную службу доставки, что сократит срок доставки заказов   \n",
              "2  Добавить блоки рекомендаций товаров на сайт интернет магазина, чтобы повысить конверсию и средний чек заказа   \n",
              "3           Изменить структура категорий, что увеличит конверсию, т.к. пользователи быстрее найдут нужный товар   \n",
              "4                              Изменить цвет фона главной страницы, чтобы увеличить вовлеченность пользователей   \n",
              "5                      Добавить страницу отзывов клиентов о магазине, что позволит увеличить количество заказов   \n",
              "6          Показать на главной странице баннеры с актуальными акциями и распродажами, чтобы увеличить конверсию   \n",
              "7              Добавить форму подписки на все основные страницы, чтобы собрать базу клиентов для email-рассылок   \n",
              "8                                                       Запустить акцию, дающую скидку на товар в день рождения   \n",
              "\n",
              "   Reach  Impact  Confidence  Efforts  \n",
              "0      3      10           8        6  \n",
              "1      2       5           4       10  \n",
              "2      8       3           7        3  \n",
              "3      8       3           3        8  \n",
              "4      3       1           1        1  \n",
              "5      3       2           2        3  \n",
              "6      5       3           8        3  \n",
              "7     10       7           8        5  \n",
              "8      1       9           9        5  "
            ]
          },
          "metadata": {
            "tags": []
          },
          "execution_count": 5
        }
      ]
    },
    {
      "cell_type": "markdown",
      "metadata": {
        "id": "T6KaG0iEiltM"
      },
      "source": [
        "В таблице представлены 9 гипотез и соответствующие каждой из них значения параметров reach (охват), impact (влияние на пользователей), confidence (уверенность, что изменение повлияет на пользователей именно так), efforts (затраты на тестирование гипотезы)."
      ]
    },
    {
      "cell_type": "code",
      "metadata": {
        "colab": {
          "base_uri": "https://localhost:8080/"
        },
        "id": "OJ5o_dGJjH3Z",
        "outputId": "e12795b7-ed69-4db2-b9ff-d25372ac0a2e"
      },
      "source": [
        "hypothesis.info()"
      ],
      "execution_count": null,
      "outputs": [
        {
          "output_type": "stream",
          "text": [
            "<class 'pandas.core.frame.DataFrame'>\n",
            "RangeIndex: 9 entries, 0 to 8\n",
            "Data columns (total 5 columns):\n",
            " #   Column      Non-Null Count  Dtype \n",
            "---  ------      --------------  ----- \n",
            " 0   Hypothesis  9 non-null      object\n",
            " 1   Reach       9 non-null      int64 \n",
            " 2   Impact      9 non-null      int64 \n",
            " 3   Confidence  9 non-null      int64 \n",
            " 4   Efforts     9 non-null      int64 \n",
            "dtypes: int64(4), object(1)\n",
            "memory usage: 488.0+ bytes\n"
          ],
          "name": "stdout"
        }
      ]
    },
    {
      "cell_type": "markdown",
      "metadata": {
        "id": "S6dBODKhjLre"
      },
      "source": [
        "### Примените фреймворк ICE для приоритизации гипотез. Отсортируйте их по убыванию приоритета.\r\n",
        "<a id=\"ICE\"></a>"
      ]
    },
    {
      "cell_type": "code",
      "metadata": {
        "colab": {
          "base_uri": "https://localhost:8080/",
          "height": 328
        },
        "id": "PBRH8ZRgjP4F",
        "outputId": "14c3a198-1cec-4524-93b2-145a0d0432fb"
      },
      "source": [
        "hypothesis['ICE'] = ((hypothesis['Impact'] * hypothesis['Confidence']) /  hypothesis['Efforts']).round()\r\n",
        "hypothesis[['Hypothesis', 'ICE']].sort_values(by = 'ICE', ascending=False)"
      ],
      "execution_count": null,
      "outputs": [
        {
          "output_type": "execute_result",
          "data": {
            "text/html": [
              "<div>\n",
              "<style scoped>\n",
              "    .dataframe tbody tr th:only-of-type {\n",
              "        vertical-align: middle;\n",
              "    }\n",
              "\n",
              "    .dataframe tbody tr th {\n",
              "        vertical-align: top;\n",
              "    }\n",
              "\n",
              "    .dataframe thead th {\n",
              "        text-align: right;\n",
              "    }\n",
              "</style>\n",
              "<table border=\"1\" class=\"dataframe\">\n",
              "  <thead>\n",
              "    <tr style=\"text-align: right;\">\n",
              "      <th></th>\n",
              "      <th>Hypothesis</th>\n",
              "      <th>ICE</th>\n",
              "    </tr>\n",
              "  </thead>\n",
              "  <tbody>\n",
              "    <tr>\n",
              "      <th>8</th>\n",
              "      <td>Запустить акцию, дающую скидку на товар в день рождения</td>\n",
              "      <td>16.0</td>\n",
              "    </tr>\n",
              "    <tr>\n",
              "      <th>0</th>\n",
              "      <td>Добавить два новых канала привлечения трафика, что позволит привлекать на 30% больше пользователей</td>\n",
              "      <td>13.0</td>\n",
              "    </tr>\n",
              "    <tr>\n",
              "      <th>7</th>\n",
              "      <td>Добавить форму подписки на все основные страницы, чтобы собрать базу клиентов для email-рассылок</td>\n",
              "      <td>11.0</td>\n",
              "    </tr>\n",
              "    <tr>\n",
              "      <th>6</th>\n",
              "      <td>Показать на главной странице баннеры с актуальными акциями и распродажами, чтобы увеличить конверсию</td>\n",
              "      <td>8.0</td>\n",
              "    </tr>\n",
              "    <tr>\n",
              "      <th>2</th>\n",
              "      <td>Добавить блоки рекомендаций товаров на сайт интернет магазина, чтобы повысить конверсию и средний чек заказа</td>\n",
              "      <td>7.0</td>\n",
              "    </tr>\n",
              "    <tr>\n",
              "      <th>1</th>\n",
              "      <td>Запустить собственную службу доставки, что сократит срок доставки заказов</td>\n",
              "      <td>2.0</td>\n",
              "    </tr>\n",
              "    <tr>\n",
              "      <th>3</th>\n",
              "      <td>Изменить структура категорий, что увеличит конверсию, т.к. пользователи быстрее найдут нужный товар</td>\n",
              "      <td>1.0</td>\n",
              "    </tr>\n",
              "    <tr>\n",
              "      <th>4</th>\n",
              "      <td>Изменить цвет фона главной страницы, чтобы увеличить вовлеченность пользователей</td>\n",
              "      <td>1.0</td>\n",
              "    </tr>\n",
              "    <tr>\n",
              "      <th>5</th>\n",
              "      <td>Добавить страницу отзывов клиентов о магазине, что позволит увеличить количество заказов</td>\n",
              "      <td>1.0</td>\n",
              "    </tr>\n",
              "  </tbody>\n",
              "</table>\n",
              "</div>"
            ],
            "text/plain": [
              "                                                                                                     Hypothesis  \\\n",
              "8                                                       Запустить акцию, дающую скидку на товар в день рождения   \n",
              "0            Добавить два новых канала привлечения трафика, что позволит привлекать на 30% больше пользователей   \n",
              "7              Добавить форму подписки на все основные страницы, чтобы собрать базу клиентов для email-рассылок   \n",
              "6          Показать на главной странице баннеры с актуальными акциями и распродажами, чтобы увеличить конверсию   \n",
              "2  Добавить блоки рекомендаций товаров на сайт интернет магазина, чтобы повысить конверсию и средний чек заказа   \n",
              "1                                     Запустить собственную службу доставки, что сократит срок доставки заказов   \n",
              "3           Изменить структура категорий, что увеличит конверсию, т.к. пользователи быстрее найдут нужный товар   \n",
              "4                              Изменить цвет фона главной страницы, чтобы увеличить вовлеченность пользователей   \n",
              "5                      Добавить страницу отзывов клиентов о магазине, что позволит увеличить количество заказов   \n",
              "\n",
              "    ICE  \n",
              "8  16.0  \n",
              "0  13.0  \n",
              "7  11.0  \n",
              "6   8.0  \n",
              "2   7.0  \n",
              "1   2.0  \n",
              "3   1.0  \n",
              "4   1.0  \n",
              "5   1.0  "
            ]
          },
          "metadata": {
            "tags": []
          },
          "execution_count": 7
        }
      ]
    },
    {
      "cell_type": "code",
      "metadata": {
        "colab": {
          "base_uri": "https://localhost:8080/",
          "height": 299
        },
        "id": "uQQxUArxjV76",
        "outputId": "e195c3a5-c447-463c-beb7-fbd17335a6f2"
      },
      "source": [
        "ax = hypothesis[['Hypothesis', 'ICE']].set_index('Hypothesis').sort_values('ICE', ascending=True).plot(kind='barh')\r\n",
        "ax.set_xlabel('Приоритет')\r\n",
        "ax.set_ylabel('Гипотеза')\r\n",
        "ax.set_title('ICE')\r\n",
        "plt.show()"
      ],
      "execution_count": null,
      "outputs": [
        {
          "output_type": "display_data",
          "data": {
            "image/png": "[encoded data removed]",
            "text/plain": [
              "<Figure size 432x288 with 1 Axes>"
            ]
          },
          "metadata": {
            "tags": [],
            "needs_background": "light"
          }
        }
      ]
    },
    {
      "cell_type": "markdown",
      "metadata": {
        "id": "63JEGnw1j7s4"
      },
      "source": [
        "Применив фреймворк ICE, видим, что лидирует гипотеза с запуском акции в день рождения. Затем следует гипотеза с добавлением новых каналов привлечения пользователей и гипотеза с добавлением формы подписки на основные стриницы. Менее всего на улучшение метрик повлияет изменение фона главной страницы."
      ]
    },
    {
      "cell_type": "markdown",
      "metadata": {
        "id": "wfuFTrV8j_iN"
      },
      "source": [
        "### Примените фреймворк RICE для приоритизации гипотез. Отсортируйте их по убыванию приоритета.\r\n",
        "<a id=\"RICE\"></a>"
      ]
    },
    {
      "cell_type": "code",
      "metadata": {
        "colab": {
          "base_uri": "https://localhost:8080/",
          "height": 328
        },
        "id": "JbGFieh3kEMc",
        "outputId": "51361a65-d704-42e0-a72b-e6eedb4853b6"
      },
      "source": [
        "hypothesis['RICE'] = (hypothesis['Reach'] * hypothesis['Impact'] * hypothesis['Confidence']) /  hypothesis['Efforts']\r\n",
        "hypothesis[['Hypothesis', 'RICE']].sort_values(by='RICE', ascending=False)"
      ],
      "execution_count": null,
      "outputs": [
        {
          "output_type": "execute_result",
          "data": {
            "text/html": [
              "<div>\n",
              "<style scoped>\n",
              "    .dataframe tbody tr th:only-of-type {\n",
              "        vertical-align: middle;\n",
              "    }\n",
              "\n",
              "    .dataframe tbody tr th {\n",
              "        vertical-align: top;\n",
              "    }\n",
              "\n",
              "    .dataframe thead th {\n",
              "        text-align: right;\n",
              "    }\n",
              "</style>\n",
              "<table border=\"1\" class=\"dataframe\">\n",
              "  <thead>\n",
              "    <tr style=\"text-align: right;\">\n",
              "      <th></th>\n",
              "      <th>Hypothesis</th>\n",
              "      <th>RICE</th>\n",
              "    </tr>\n",
              "  </thead>\n",
              "  <tbody>\n",
              "    <tr>\n",
              "      <th>7</th>\n",
              "      <td>Добавить форму подписки на все основные страницы, чтобы собрать базу клиентов для email-рассылок</td>\n",
              "      <td>112.0</td>\n",
              "    </tr>\n",
              "    <tr>\n",
              "      <th>2</th>\n",
              "      <td>Добавить блоки рекомендаций товаров на сайт интернет магазина, чтобы повысить конверсию и средний чек заказа</td>\n",
              "      <td>56.0</td>\n",
              "    </tr>\n",
              "    <tr>\n",
              "      <th>0</th>\n",
              "      <td>Добавить два новых канала привлечения трафика, что позволит привлекать на 30% больше пользователей</td>\n",
              "      <td>40.0</td>\n",
              "    </tr>\n",
              "    <tr>\n",
              "      <th>6</th>\n",
              "      <td>Показать на главной странице баннеры с актуальными акциями и распродажами, чтобы увеличить конверсию</td>\n",
              "      <td>40.0</td>\n",
              "    </tr>\n",
              "    <tr>\n",
              "      <th>8</th>\n",
              "      <td>Запустить акцию, дающую скидку на товар в день рождения</td>\n",
              "      <td>16.2</td>\n",
              "    </tr>\n",
              "    <tr>\n",
              "      <th>3</th>\n",
              "      <td>Изменить структура категорий, что увеличит конверсию, т.к. пользователи быстрее найдут нужный товар</td>\n",
              "      <td>9.0</td>\n",
              "    </tr>\n",
              "    <tr>\n",
              "      <th>1</th>\n",
              "      <td>Запустить собственную службу доставки, что сократит срок доставки заказов</td>\n",
              "      <td>4.0</td>\n",
              "    </tr>\n",
              "    <tr>\n",
              "      <th>5</th>\n",
              "      <td>Добавить страницу отзывов клиентов о магазине, что позволит увеличить количество заказов</td>\n",
              "      <td>4.0</td>\n",
              "    </tr>\n",
              "    <tr>\n",
              "      <th>4</th>\n",
              "      <td>Изменить цвет фона главной страницы, чтобы увеличить вовлеченность пользователей</td>\n",
              "      <td>3.0</td>\n",
              "    </tr>\n",
              "  </tbody>\n",
              "</table>\n",
              "</div>"
            ],
            "text/plain": [
              "                                                                                                     Hypothesis  \\\n",
              "7              Добавить форму подписки на все основные страницы, чтобы собрать базу клиентов для email-рассылок   \n",
              "2  Добавить блоки рекомендаций товаров на сайт интернет магазина, чтобы повысить конверсию и средний чек заказа   \n",
              "0            Добавить два новых канала привлечения трафика, что позволит привлекать на 30% больше пользователей   \n",
              "6          Показать на главной странице баннеры с актуальными акциями и распродажами, чтобы увеличить конверсию   \n",
              "8                                                       Запустить акцию, дающую скидку на товар в день рождения   \n",
              "3           Изменить структура категорий, что увеличит конверсию, т.к. пользователи быстрее найдут нужный товар   \n",
              "1                                     Запустить собственную службу доставки, что сократит срок доставки заказов   \n",
              "5                      Добавить страницу отзывов клиентов о магазине, что позволит увеличить количество заказов   \n",
              "4                              Изменить цвет фона главной страницы, чтобы увеличить вовлеченность пользователей   \n",
              "\n",
              "    RICE  \n",
              "7  112.0  \n",
              "2   56.0  \n",
              "0   40.0  \n",
              "6   40.0  \n",
              "8   16.2  \n",
              "3    9.0  \n",
              "1    4.0  \n",
              "5    4.0  \n",
              "4    3.0  "
            ]
          },
          "metadata": {
            "tags": []
          },
          "execution_count": 9
        }
      ]
    },
    {
      "cell_type": "code",
      "metadata": {
        "colab": {
          "base_uri": "https://localhost:8080/",
          "height": 299
        },
        "id": "rcjDm7U-kIkR",
        "outputId": "b7c3613c-338e-44b2-c338-a2879939658b"
      },
      "source": [
        "ax = hypothesis[['Hypothesis', 'RICE']].set_index('Hypothesis').sort_values('RICE', ascending=True).plot(kind='barh')\r\n",
        "ax.set_xlabel('Приоритет')\r\n",
        "ax.set_ylabel('Гипотеза')\r\n",
        "ax.set_title('RICE')\r\n",
        "plt.show()"
      ],
      "execution_count": null,
      "outputs": [
        {
          "output_type": "display_data",
          "data": {
            "image/png": "[encoded data removed]",
            "text/plain": [
              "<Figure size 432x288 with 1 Axes>"
            ]
          },
          "metadata": {
            "tags": [],
            "needs_background": "light"
          }
        }
      ]
    },
    {
      "cell_type": "markdown",
      "metadata": {
        "id": "sYYHWk__kOpU"
      },
      "source": [
        "По сравнению с предыдущим фреймворком, применив RICE, замечаем, что приоритеты гипотез несколько изменились. Теперь на первом месте не акция на день рождения, а форма подписки на основные страницы. На последнем месте, как и в ICE цвет фона главной страницы."
      ]
    },
    {
      "cell_type": "markdown",
      "metadata": {
        "id": "ghUbhrMMkR6H"
      },
      "source": [
        "### Укажите, как изменилась приоритизация гипотез при применении RICE вместо ICE. Объясните, почему так произошло.\r\n",
        "<a id=\"change\"></a>"
      ]
    },
    {
      "cell_type": "code",
      "metadata": {
        "colab": {
          "base_uri": "https://localhost:8080/",
          "height": 328
        },
        "id": "YLnT7WrFkV16",
        "outputId": "f8a3b296-9260-48f7-d500-37b9e784047a"
      },
      "source": [
        "hypothesis"
      ],
      "execution_count": null,
      "outputs": [
        {
          "output_type": "execute_result",
          "data": {
            "text/html": [
              "<div>\n",
              "<style scoped>\n",
              "    .dataframe tbody tr th:only-of-type {\n",
              "        vertical-align: middle;\n",
              "    }\n",
              "\n",
              "    .dataframe tbody tr th {\n",
              "        vertical-align: top;\n",
              "    }\n",
              "\n",
              "    .dataframe thead th {\n",
              "        text-align: right;\n",
              "    }\n",
              "</style>\n",
              "<table border=\"1\" class=\"dataframe\">\n",
              "  <thead>\n",
              "    <tr style=\"text-align: right;\">\n",
              "      <th></th>\n",
              "      <th>Hypothesis</th>\n",
              "      <th>Reach</th>\n",
              "      <th>Impact</th>\n",
              "      <th>Confidence</th>\n",
              "      <th>Efforts</th>\n",
              "      <th>ICE</th>\n",
              "      <th>RICE</th>\n",
              "    </tr>\n",
              "  </thead>\n",
              "  <tbody>\n",
              "    <tr>\n",
              "      <th>0</th>\n",
              "      <td>Добавить два новых канала привлечения трафика, что позволит привлекать на 30% больше пользователей</td>\n",
              "      <td>3</td>\n",
              "      <td>10</td>\n",
              "      <td>8</td>\n",
              "      <td>6</td>\n",
              "      <td>13.0</td>\n",
              "      <td>40.0</td>\n",
              "    </tr>\n",
              "    <tr>\n",
              "      <th>1</th>\n",
              "      <td>Запустить собственную службу доставки, что сократит срок доставки заказов</td>\n",
              "      <td>2</td>\n",
              "      <td>5</td>\n",
              "      <td>4</td>\n",
              "      <td>10</td>\n",
              "      <td>2.0</td>\n",
              "      <td>4.0</td>\n",
              "    </tr>\n",
              "    <tr>\n",
              "      <th>2</th>\n",
              "      <td>Добавить блоки рекомендаций товаров на сайт интернет магазина, чтобы повысить конверсию и средний чек заказа</td>\n",
              "      <td>8</td>\n",
              "      <td>3</td>\n",
              "      <td>7</td>\n",
              "      <td>3</td>\n",
              "      <td>7.0</td>\n",
              "      <td>56.0</td>\n",
              "    </tr>\n",
              "    <tr>\n",
              "      <th>3</th>\n",
              "      <td>Изменить структура категорий, что увеличит конверсию, т.к. пользователи быстрее найдут нужный товар</td>\n",
              "      <td>8</td>\n",
              "      <td>3</td>\n",
              "      <td>3</td>\n",
              "      <td>8</td>\n",
              "      <td>1.0</td>\n",
              "      <td>9.0</td>\n",
              "    </tr>\n",
              "    <tr>\n",
              "      <th>4</th>\n",
              "      <td>Изменить цвет фона главной страницы, чтобы увеличить вовлеченность пользователей</td>\n",
              "      <td>3</td>\n",
              "      <td>1</td>\n",
              "      <td>1</td>\n",
              "      <td>1</td>\n",
              "      <td>1.0</td>\n",
              "      <td>3.0</td>\n",
              "    </tr>\n",
              "    <tr>\n",
              "      <th>5</th>\n",
              "      <td>Добавить страницу отзывов клиентов о магазине, что позволит увеличить количество заказов</td>\n",
              "      <td>3</td>\n",
              "      <td>2</td>\n",
              "      <td>2</td>\n",
              "      <td>3</td>\n",
              "      <td>1.0</td>\n",
              "      <td>4.0</td>\n",
              "    </tr>\n",
              "    <tr>\n",
              "      <th>6</th>\n",
              "      <td>Показать на главной странице баннеры с актуальными акциями и распродажами, чтобы увеличить конверсию</td>\n",
              "      <td>5</td>\n",
              "      <td>3</td>\n",
              "      <td>8</td>\n",
              "      <td>3</td>\n",
              "      <td>8.0</td>\n",
              "      <td>40.0</td>\n",
              "    </tr>\n",
              "    <tr>\n",
              "      <th>7</th>\n",
              "      <td>Добавить форму подписки на все основные страницы, чтобы собрать базу клиентов для email-рассылок</td>\n",
              "      <td>10</td>\n",
              "      <td>7</td>\n",
              "      <td>8</td>\n",
              "      <td>5</td>\n",
              "      <td>11.0</td>\n",
              "      <td>112.0</td>\n",
              "    </tr>\n",
              "    <tr>\n",
              "      <th>8</th>\n",
              "      <td>Запустить акцию, дающую скидку на товар в день рождения</td>\n",
              "      <td>1</td>\n",
              "      <td>9</td>\n",
              "      <td>9</td>\n",
              "      <td>5</td>\n",
              "      <td>16.0</td>\n",
              "      <td>16.2</td>\n",
              "    </tr>\n",
              "  </tbody>\n",
              "</table>\n",
              "</div>"
            ],
            "text/plain": [
              "                                                                                                     Hypothesis  \\\n",
              "0            Добавить два новых канала привлечения трафика, что позволит привлекать на 30% больше пользователей   \n",
              "1                                     Запустить собственную службу доставки, что сократит срок доставки заказов   \n",
              "2  Добавить блоки рекомендаций товаров на сайт интернет магазина, чтобы повысить конверсию и средний чек заказа   \n",
              "3           Изменить структура категорий, что увеличит конверсию, т.к. пользователи быстрее найдут нужный товар   \n",
              "4                              Изменить цвет фона главной страницы, чтобы увеличить вовлеченность пользователей   \n",
              "5                      Добавить страницу отзывов клиентов о магазине, что позволит увеличить количество заказов   \n",
              "6          Показать на главной странице баннеры с актуальными акциями и распродажами, чтобы увеличить конверсию   \n",
              "7              Добавить форму подписки на все основные страницы, чтобы собрать базу клиентов для email-рассылок   \n",
              "8                                                       Запустить акцию, дающую скидку на товар в день рождения   \n",
              "\n",
              "   Reach  Impact  Confidence  Efforts   ICE   RICE  \n",
              "0      3      10           8        6  13.0   40.0  \n",
              "1      2       5           4       10   2.0    4.0  \n",
              "2      8       3           7        3   7.0   56.0  \n",
              "3      8       3           3        8   1.0    9.0  \n",
              "4      3       1           1        1   1.0    3.0  \n",
              "5      3       2           2        3   1.0    4.0  \n",
              "6      5       3           8        3   8.0   40.0  \n",
              "7     10       7           8        5  11.0  112.0  \n",
              "8      1       9           9        5  16.0   16.2  "
            ]
          },
          "metadata": {
            "tags": []
          },
          "execution_count": 11
        }
      ]
    },
    {
      "cell_type": "code",
      "metadata": {
        "colab": {
          "base_uri": "https://localhost:8080/",
          "height": 229
        },
        "id": "g5oWgnLxkZrb",
        "outputId": "7838356a-d79e-49ff-9466-0d7b0f8260ef"
      },
      "source": [
        "ice=hypothesis.sort_values('ICE', ascending=False).reset_index()\r\n",
        "rice=hypothesis.sort_values('RICE', ascending=False).reset_index()\r\n",
        "difference = pd.DataFrame()\r\n",
        "difference['ice'] = ice['index']\r\n",
        "difference['rice'] = rice['index']\r\n",
        "difference.style.background_gradient(cmap='viridis')"
      ],
      "execution_count": null,
      "outputs": [
        {
          "output_type": "execute_result",
          "data": {
            "text/html": [
              "<style  type=\"text/css\" >\n",
              "#T_794a454c_4c76_11eb_bffc_0242ac1c0002row0_col0,#T_794a454c_4c76_11eb_bffc_0242ac1c0002row4_col1{\n",
              "            background-color:  #fde725;\n",
              "            color:  #000000;\n",
              "        }#T_794a454c_4c76_11eb_bffc_0242ac1c0002row0_col1,#T_794a454c_4c76_11eb_bffc_0242ac1c0002row2_col0{\n",
              "            background-color:  #addc30;\n",
              "            color:  #000000;\n",
              "        }#T_794a454c_4c76_11eb_bffc_0242ac1c0002row1_col0,#T_794a454c_4c76_11eb_bffc_0242ac1c0002row2_col1{\n",
              "            background-color:  #440154;\n",
              "            color:  #f1f1f1;\n",
              "        }#T_794a454c_4c76_11eb_bffc_0242ac1c0002row1_col1,#T_794a454c_4c76_11eb_bffc_0242ac1c0002row4_col0{\n",
              "            background-color:  #3b528b;\n",
              "            color:  #f1f1f1;\n",
              "        }#T_794a454c_4c76_11eb_bffc_0242ac1c0002row3_col0,#T_794a454c_4c76_11eb_bffc_0242ac1c0002row3_col1{\n",
              "            background-color:  #5ec962;\n",
              "            color:  #000000;\n",
              "        }#T_794a454c_4c76_11eb_bffc_0242ac1c0002row5_col0,#T_794a454c_4c76_11eb_bffc_0242ac1c0002row6_col1{\n",
              "            background-color:  #472d7b;\n",
              "            color:  #f1f1f1;\n",
              "        }#T_794a454c_4c76_11eb_bffc_0242ac1c0002row5_col1,#T_794a454c_4c76_11eb_bffc_0242ac1c0002row6_col0{\n",
              "            background-color:  #2c728e;\n",
              "            color:  #f1f1f1;\n",
              "        }#T_794a454c_4c76_11eb_bffc_0242ac1c0002row7_col0,#T_794a454c_4c76_11eb_bffc_0242ac1c0002row8_col1{\n",
              "            background-color:  #21918c;\n",
              "            color:  #000000;\n",
              "        }#T_794a454c_4c76_11eb_bffc_0242ac1c0002row7_col1,#T_794a454c_4c76_11eb_bffc_0242ac1c0002row8_col0{\n",
              "            background-color:  #28ae80;\n",
              "            color:  #000000;\n",
              "        }</style><table id=\"T_794a454c_4c76_11eb_bffc_0242ac1c0002\" ><thead>    <tr>        <th class=\"blank level0\" ></th>        <th class=\"col_heading level0 col0\" >ice</th>        <th class=\"col_heading level0 col1\" >rice</th>    </tr></thead><tbody>\n",
              "                <tr>\n",
              "                        <th id=\"T_794a454c_4c76_11eb_bffc_0242ac1c0002level0_row0\" class=\"row_heading level0 row0\" >0</th>\n",
              "                        <td id=\"T_794a454c_4c76_11eb_bffc_0242ac1c0002row0_col0\" class=\"data row0 col0\" >8</td>\n",
              "                        <td id=\"T_794a454c_4c76_11eb_bffc_0242ac1c0002row0_col1\" class=\"data row0 col1\" >7</td>\n",
              "            </tr>\n",
              "            <tr>\n",
              "                        <th id=\"T_794a454c_4c76_11eb_bffc_0242ac1c0002level0_row1\" class=\"row_heading level0 row1\" >1</th>\n",
              "                        <td id=\"T_794a454c_4c76_11eb_bffc_0242ac1c0002row1_col0\" class=\"data row1 col0\" >0</td>\n",
              "                        <td id=\"T_794a454c_4c76_11eb_bffc_0242ac1c0002row1_col1\" class=\"data row1 col1\" >2</td>\n",
              "            </tr>\n",
              "            <tr>\n",
              "                        <th id=\"T_794a454c_4c76_11eb_bffc_0242ac1c0002level0_row2\" class=\"row_heading level0 row2\" >2</th>\n",
              "                        <td id=\"T_794a454c_4c76_11eb_bffc_0242ac1c0002row2_col0\" class=\"data row2 col0\" >7</td>\n",
              "                        <td id=\"T_794a454c_4c76_11eb_bffc_0242ac1c0002row2_col1\" class=\"data row2 col1\" >0</td>\n",
              "            </tr>\n",
              "            <tr>\n",
              "                        <th id=\"T_794a454c_4c76_11eb_bffc_0242ac1c0002level0_row3\" class=\"row_heading level0 row3\" >3</th>\n",
              "                        <td id=\"T_794a454c_4c76_11eb_bffc_0242ac1c0002row3_col0\" class=\"data row3 col0\" >6</td>\n",
              "                        <td id=\"T_794a454c_4c76_11eb_bffc_0242ac1c0002row3_col1\" class=\"data row3 col1\" >6</td>\n",
              "            </tr>\n",
              "            <tr>\n",
              "                        <th id=\"T_794a454c_4c76_11eb_bffc_0242ac1c0002level0_row4\" class=\"row_heading level0 row4\" >4</th>\n",
              "                        <td id=\"T_794a454c_4c76_11eb_bffc_0242ac1c0002row4_col0\" class=\"data row4 col0\" >2</td>\n",
              "                        <td id=\"T_794a454c_4c76_11eb_bffc_0242ac1c0002row4_col1\" class=\"data row4 col1\" >8</td>\n",
              "            </tr>\n",
              "            <tr>\n",
              "                        <th id=\"T_794a454c_4c76_11eb_bffc_0242ac1c0002level0_row5\" class=\"row_heading level0 row5\" >5</th>\n",
              "                        <td id=\"T_794a454c_4c76_11eb_bffc_0242ac1c0002row5_col0\" class=\"data row5 col0\" >1</td>\n",
              "                        <td id=\"T_794a454c_4c76_11eb_bffc_0242ac1c0002row5_col1\" class=\"data row5 col1\" >3</td>\n",
              "            </tr>\n",
              "            <tr>\n",
              "                        <th id=\"T_794a454c_4c76_11eb_bffc_0242ac1c0002level0_row6\" class=\"row_heading level0 row6\" >6</th>\n",
              "                        <td id=\"T_794a454c_4c76_11eb_bffc_0242ac1c0002row6_col0\" class=\"data row6 col0\" >3</td>\n",
              "                        <td id=\"T_794a454c_4c76_11eb_bffc_0242ac1c0002row6_col1\" class=\"data row6 col1\" >1</td>\n",
              "            </tr>\n",
              "            <tr>\n",
              "                        <th id=\"T_794a454c_4c76_11eb_bffc_0242ac1c0002level0_row7\" class=\"row_heading level0 row7\" >7</th>\n",
              "                        <td id=\"T_794a454c_4c76_11eb_bffc_0242ac1c0002row7_col0\" class=\"data row7 col0\" >4</td>\n",
              "                        <td id=\"T_794a454c_4c76_11eb_bffc_0242ac1c0002row7_col1\" class=\"data row7 col1\" >5</td>\n",
              "            </tr>\n",
              "            <tr>\n",
              "                        <th id=\"T_794a454c_4c76_11eb_bffc_0242ac1c0002level0_row8\" class=\"row_heading level0 row8\" >8</th>\n",
              "                        <td id=\"T_794a454c_4c76_11eb_bffc_0242ac1c0002row8_col0\" class=\"data row8 col0\" >5</td>\n",
              "                        <td id=\"T_794a454c_4c76_11eb_bffc_0242ac1c0002row8_col1\" class=\"data row8 col1\" >4</td>\n",
              "            </tr>\n",
              "    </tbody></table>"
            ],
            "text/plain": [
              "<pandas.io.formats.style.Styler at 0x7f88fb285da0>"
            ]
          },
          "metadata": {
            "tags": []
          },
          "execution_count": 12
        }
      ]
    },
    {
      "cell_type": "markdown",
      "metadata": {
        "id": "dw_Ms0xAkfmF"
      },
      "source": [
        "Сравнив приоритизицию гипотез во фреймворках ICE и RICE, можем сделать следующие выводы:\r\n",
        "- гипотезы под номерами 0 (новые каналы привлечения) и 7 (форма подписки) в обоих случаях входят в тройку лидеров. Номер 7 с третьего места в ICE поднялся на первое в RICE в сязи с максимальным охватом пользователей (reach = 10). Интересно, что гипотеза под номером 8 (акция на др) с первого места опустилась на 5 в RICE. Несмотря на высокие impact и confidence, из-за того, что эта акция непостоянна и для клиента актуальна только раз в году, охват у нее минимальный (reach = 1). Таким образом, отличие в приоритизации гипотез в ICE от RICE зависит от охвата пользователей."
      ]
    },
    {
      "cell_type": "markdown",
      "metadata": {
        "id": "oo9v-8wzkq6a"
      },
      "source": [
        "### Часть 2. Анализ A/B-теста\r\n",
        "<a id=\"part2\"></a>"
      ]
    },
    {
      "cell_type": "markdown",
      "metadata": {
        "id": "KxQMdebnkv62"
      },
      "source": [
        "Посмотрим на данные в таблицах 'orders' и 'visitors'"
      ]
    },
    {
      "cell_type": "code",
      "metadata": {
        "colab": {
          "base_uri": "https://localhost:8080/",
          "height": 419
        },
        "id": "1Z8iyFqBkxGy",
        "outputId": "ca64e97a-056f-484a-fe72-ddfdf541e7f7"
      },
      "source": [
        "orders = pd.read_csv('/content/drive/MyDrive/orders.csv')\r\n",
        "orders"
      ],
      "execution_count": null,
      "outputs": [
        {
          "output_type": "execute_result",
          "data": {
            "text/html": [
              "<div>\n",
              "<style scoped>\n",
              "    .dataframe tbody tr th:only-of-type {\n",
              "        vertical-align: middle;\n",
              "    }\n",
              "\n",
              "    .dataframe tbody tr th {\n",
              "        vertical-align: top;\n",
              "    }\n",
              "\n",
              "    .dataframe thead th {\n",
              "        text-align: right;\n",
              "    }\n",
              "</style>\n",
              "<table border=\"1\" class=\"dataframe\">\n",
              "  <thead>\n",
              "    <tr style=\"text-align: right;\">\n",
              "      <th></th>\n",
              "      <th>transactionId</th>\n",
              "      <th>visitorId</th>\n",
              "      <th>date</th>\n",
              "      <th>revenue</th>\n",
              "      <th>group</th>\n",
              "    </tr>\n",
              "  </thead>\n",
              "  <tbody>\n",
              "    <tr>\n",
              "      <th>0</th>\n",
              "      <td>3667963787</td>\n",
              "      <td>3312258926</td>\n",
              "      <td>2019-08-15</td>\n",
              "      <td>1650</td>\n",
              "      <td>B</td>\n",
              "    </tr>\n",
              "    <tr>\n",
              "      <th>1</th>\n",
              "      <td>2804400009</td>\n",
              "      <td>3642806036</td>\n",
              "      <td>2019-08-15</td>\n",
              "      <td>730</td>\n",
              "      <td>B</td>\n",
              "    </tr>\n",
              "    <tr>\n",
              "      <th>2</th>\n",
              "      <td>2961555356</td>\n",
              "      <td>4069496402</td>\n",
              "      <td>2019-08-15</td>\n",
              "      <td>400</td>\n",
              "      <td>A</td>\n",
              "    </tr>\n",
              "    <tr>\n",
              "      <th>3</th>\n",
              "      <td>3797467345</td>\n",
              "      <td>1196621759</td>\n",
              "      <td>2019-08-15</td>\n",
              "      <td>9759</td>\n",
              "      <td>B</td>\n",
              "    </tr>\n",
              "    <tr>\n",
              "      <th>4</th>\n",
              "      <td>2282983706</td>\n",
              "      <td>2322279887</td>\n",
              "      <td>2019-08-15</td>\n",
              "      <td>2308</td>\n",
              "      <td>B</td>\n",
              "    </tr>\n",
              "    <tr>\n",
              "      <th>...</th>\n",
              "      <td>...</td>\n",
              "      <td>...</td>\n",
              "      <td>...</td>\n",
              "      <td>...</td>\n",
              "      <td>...</td>\n",
              "    </tr>\n",
              "    <tr>\n",
              "      <th>1192</th>\n",
              "      <td>2662137336</td>\n",
              "      <td>3733762160</td>\n",
              "      <td>2019-08-14</td>\n",
              "      <td>6490</td>\n",
              "      <td>B</td>\n",
              "    </tr>\n",
              "    <tr>\n",
              "      <th>1193</th>\n",
              "      <td>2203539145</td>\n",
              "      <td>370388673</td>\n",
              "      <td>2019-08-14</td>\n",
              "      <td>3190</td>\n",
              "      <td>A</td>\n",
              "    </tr>\n",
              "    <tr>\n",
              "      <th>1194</th>\n",
              "      <td>1807773912</td>\n",
              "      <td>573423106</td>\n",
              "      <td>2019-08-14</td>\n",
              "      <td>10550</td>\n",
              "      <td>A</td>\n",
              "    </tr>\n",
              "    <tr>\n",
              "      <th>1195</th>\n",
              "      <td>1947021204</td>\n",
              "      <td>1614305549</td>\n",
              "      <td>2019-08-14</td>\n",
              "      <td>100</td>\n",
              "      <td>A</td>\n",
              "    </tr>\n",
              "    <tr>\n",
              "      <th>1196</th>\n",
              "      <td>3936777065</td>\n",
              "      <td>2108080724</td>\n",
              "      <td>2019-08-15</td>\n",
              "      <td>202740</td>\n",
              "      <td>B</td>\n",
              "    </tr>\n",
              "  </tbody>\n",
              "</table>\n",
              "<p>1197 rows × 5 columns</p>\n",
              "</div>"
            ],
            "text/plain": [
              "      transactionId   visitorId        date  revenue group\n",
              "0        3667963787  3312258926  2019-08-15     1650     B\n",
              "1        2804400009  3642806036  2019-08-15      730     B\n",
              "2        2961555356  4069496402  2019-08-15      400     A\n",
              "3        3797467345  1196621759  2019-08-15     9759     B\n",
              "4        2282983706  2322279887  2019-08-15     2308     B\n",
              "...             ...         ...         ...      ...   ...\n",
              "1192     2662137336  3733762160  2019-08-14     6490     B\n",
              "1193     2203539145   370388673  2019-08-14     3190     A\n",
              "1194     1807773912   573423106  2019-08-14    10550     A\n",
              "1195     1947021204  1614305549  2019-08-14      100     A\n",
              "1196     3936777065  2108080724  2019-08-15   202740     B\n",
              "\n",
              "[1197 rows x 5 columns]"
            ]
          },
          "metadata": {
            "tags": []
          },
          "execution_count": 14
        }
      ]
    },
    {
      "cell_type": "code",
      "metadata": {
        "colab": {
          "base_uri": "https://localhost:8080/"
        },
        "id": "odbgh4t_k-9A",
        "outputId": "4d3c868b-37ea-48a4-ca00-f4fe30c9b9b9"
      },
      "source": [
        "orders.info()"
      ],
      "execution_count": null,
      "outputs": [
        {
          "output_type": "stream",
          "text": [
            "<class 'pandas.core.frame.DataFrame'>\n",
            "RangeIndex: 1197 entries, 0 to 1196\n",
            "Data columns (total 5 columns):\n",
            " #   Column         Non-Null Count  Dtype \n",
            "---  ------         --------------  ----- \n",
            " 0   transactionId  1197 non-null   int64 \n",
            " 1   visitorId      1197 non-null   int64 \n",
            " 2   date           1197 non-null   object\n",
            " 3   revenue        1197 non-null   int64 \n",
            " 4   group          1197 non-null   object\n",
            "dtypes: int64(3), object(2)\n",
            "memory usage: 46.9+ KB\n"
          ],
          "name": "stdout"
        }
      ]
    },
    {
      "cell_type": "code",
      "metadata": {
        "colab": {
          "base_uri": "https://localhost:8080/",
          "height": 419
        },
        "id": "Q1icxEiAlCYr",
        "outputId": "699fca90-16e8-4fad-b809-1d4aab87128a"
      },
      "source": [
        "visitors = pd.read_csv('/content/drive/MyDrive/visitors.csv')\r\n",
        "visitors"
      ],
      "execution_count": null,
      "outputs": [
        {
          "output_type": "execute_result",
          "data": {
            "text/html": [
              "<div>\n",
              "<style scoped>\n",
              "    .dataframe tbody tr th:only-of-type {\n",
              "        vertical-align: middle;\n",
              "    }\n",
              "\n",
              "    .dataframe tbody tr th {\n",
              "        vertical-align: top;\n",
              "    }\n",
              "\n",
              "    .dataframe thead th {\n",
              "        text-align: right;\n",
              "    }\n",
              "</style>\n",
              "<table border=\"1\" class=\"dataframe\">\n",
              "  <thead>\n",
              "    <tr style=\"text-align: right;\">\n",
              "      <th></th>\n",
              "      <th>date</th>\n",
              "      <th>group</th>\n",
              "      <th>visitors</th>\n",
              "    </tr>\n",
              "  </thead>\n",
              "  <tbody>\n",
              "    <tr>\n",
              "      <th>0</th>\n",
              "      <td>2019-08-01</td>\n",
              "      <td>A</td>\n",
              "      <td>719</td>\n",
              "    </tr>\n",
              "    <tr>\n",
              "      <th>1</th>\n",
              "      <td>2019-08-02</td>\n",
              "      <td>A</td>\n",
              "      <td>619</td>\n",
              "    </tr>\n",
              "    <tr>\n",
              "      <th>2</th>\n",
              "      <td>2019-08-03</td>\n",
              "      <td>A</td>\n",
              "      <td>507</td>\n",
              "    </tr>\n",
              "    <tr>\n",
              "      <th>3</th>\n",
              "      <td>2019-08-04</td>\n",
              "      <td>A</td>\n",
              "      <td>717</td>\n",
              "    </tr>\n",
              "    <tr>\n",
              "      <th>4</th>\n",
              "      <td>2019-08-05</td>\n",
              "      <td>A</td>\n",
              "      <td>756</td>\n",
              "    </tr>\n",
              "    <tr>\n",
              "      <th>...</th>\n",
              "      <td>...</td>\n",
              "      <td>...</td>\n",
              "      <td>...</td>\n",
              "    </tr>\n",
              "    <tr>\n",
              "      <th>57</th>\n",
              "      <td>2019-08-27</td>\n",
              "      <td>B</td>\n",
              "      <td>720</td>\n",
              "    </tr>\n",
              "    <tr>\n",
              "      <th>58</th>\n",
              "      <td>2019-08-28</td>\n",
              "      <td>B</td>\n",
              "      <td>654</td>\n",
              "    </tr>\n",
              "    <tr>\n",
              "      <th>59</th>\n",
              "      <td>2019-08-29</td>\n",
              "      <td>B</td>\n",
              "      <td>531</td>\n",
              "    </tr>\n",
              "    <tr>\n",
              "      <th>60</th>\n",
              "      <td>2019-08-30</td>\n",
              "      <td>B</td>\n",
              "      <td>490</td>\n",
              "    </tr>\n",
              "    <tr>\n",
              "      <th>61</th>\n",
              "      <td>2019-08-31</td>\n",
              "      <td>B</td>\n",
              "      <td>718</td>\n",
              "    </tr>\n",
              "  </tbody>\n",
              "</table>\n",
              "<p>62 rows × 3 columns</p>\n",
              "</div>"
            ],
            "text/plain": [
              "          date group  visitors\n",
              "0   2019-08-01     A       719\n",
              "1   2019-08-02     A       619\n",
              "2   2019-08-03     A       507\n",
              "3   2019-08-04     A       717\n",
              "4   2019-08-05     A       756\n",
              "..         ...   ...       ...\n",
              "57  2019-08-27     B       720\n",
              "58  2019-08-28     B       654\n",
              "59  2019-08-29     B       531\n",
              "60  2019-08-30     B       490\n",
              "61  2019-08-31     B       718\n",
              "\n",
              "[62 rows x 3 columns]"
            ]
          },
          "metadata": {
            "tags": []
          },
          "execution_count": 16
        }
      ]
    },
    {
      "cell_type": "markdown",
      "metadata": {
        "id": "Zo0d2BJNlN_U"
      },
      "source": [
        "В таблицах представлены данные о покупках и посещениях интернет-магазина за период с 1 по 31 августа 2019 года"
      ]
    },
    {
      "cell_type": "code",
      "metadata": {
        "colab": {
          "base_uri": "https://localhost:8080/"
        },
        "id": "iU-TxjT-lRNV",
        "outputId": "9585ab81-ef16-4b02-ff66-4a5e67fbda50"
      },
      "source": [
        "visitors.info()"
      ],
      "execution_count": null,
      "outputs": [
        {
          "output_type": "stream",
          "text": [
            "<class 'pandas.core.frame.DataFrame'>\n",
            "RangeIndex: 62 entries, 0 to 61\n",
            "Data columns (total 3 columns):\n",
            " #   Column    Non-Null Count  Dtype \n",
            "---  ------    --------------  ----- \n",
            " 0   date      62 non-null     object\n",
            " 1   group     62 non-null     object\n",
            " 2   visitors  62 non-null     int64 \n",
            "dtypes: int64(1), object(2)\n",
            "memory usage: 1.6+ KB\n"
          ],
          "name": "stdout"
        }
      ]
    },
    {
      "cell_type": "markdown",
      "metadata": {
        "id": "vNO9kD-slVS3"
      },
      "source": [
        "Приведем столбцы с датами в нужный тип."
      ]
    },
    {
      "cell_type": "code",
      "metadata": {
        "id": "GIx-JyHylYu-"
      },
      "source": [
        "orders['date'] = pd.to_datetime(orders['date'])\r\n",
        "visitors['date'] = pd.to_datetime(visitors['date'])"
      ],
      "execution_count": null,
      "outputs": []
    },
    {
      "cell_type": "markdown",
      "metadata": {
        "id": "5se_X5xBlfjD"
      },
      "source": [
        "Проверим наличие пропусков и дубликатов в таблицах."
      ]
    },
    {
      "cell_type": "code",
      "metadata": {
        "colab": {
          "base_uri": "https://localhost:8080/"
        },
        "id": "jW-SnT-ulkO-",
        "outputId": "561e469d-bfff-449d-cc45-3fa31cdba0af"
      },
      "source": [
        "orders.isnull().sum()"
      ],
      "execution_count": null,
      "outputs": [
        {
          "output_type": "execute_result",
          "data": {
            "text/plain": [
              "transactionId    0\n",
              "visitorId        0\n",
              "date             0\n",
              "revenue          0\n",
              "group            0\n",
              "dtype: int64"
            ]
          },
          "metadata": {
            "tags": []
          },
          "execution_count": 19
        }
      ]
    },
    {
      "cell_type": "code",
      "metadata": {
        "colab": {
          "base_uri": "https://localhost:8080/"
        },
        "id": "QoQJcuQ5loDQ",
        "outputId": "1fad9067-ef8b-4f64-b8eb-fe92af44d136"
      },
      "source": [
        "orders.duplicated().sum()"
      ],
      "execution_count": null,
      "outputs": [
        {
          "output_type": "execute_result",
          "data": {
            "text/plain": [
              "0"
            ]
          },
          "metadata": {
            "tags": []
          },
          "execution_count": 20
        }
      ]
    },
    {
      "cell_type": "code",
      "metadata": {
        "colab": {
          "base_uri": "https://localhost:8080/"
        },
        "id": "Lgt-ECQOlrOU",
        "outputId": "f18b6c7f-a4e1-4be1-8158-898445b2523f"
      },
      "source": [
        "visitors.isnull().sum()"
      ],
      "execution_count": null,
      "outputs": [
        {
          "output_type": "execute_result",
          "data": {
            "text/plain": [
              "date        0\n",
              "group       0\n",
              "visitors    0\n",
              "dtype: int64"
            ]
          },
          "metadata": {
            "tags": []
          },
          "execution_count": 21
        }
      ]
    },
    {
      "cell_type": "code",
      "metadata": {
        "colab": {
          "base_uri": "https://localhost:8080/"
        },
        "id": "duY4E6bDlvE9",
        "outputId": "d24a11b7-73ae-4b3e-fbb4-68339082b67e"
      },
      "source": [
        "visitors.duplicated().sum()"
      ],
      "execution_count": null,
      "outputs": [
        {
          "output_type": "execute_result",
          "data": {
            "text/plain": [
              "0"
            ]
          },
          "metadata": {
            "tags": []
          },
          "execution_count": 22
        }
      ]
    },
    {
      "cell_type": "markdown",
      "metadata": {
        "id": "AiWxyNNHl0jX"
      },
      "source": [
        "Заменим названия столбцов в таблице с заказами."
      ]
    },
    {
      "cell_type": "code",
      "metadata": {
        "colab": {
          "base_uri": "https://localhost:8080/",
          "height": 80
        },
        "id": "81nUf6P8l4C3",
        "outputId": "a8ac9c19-ef95-4bab-e036-d31087442d9f"
      },
      "source": [
        "orders.columns = ['transaction_id', 'visitor_id', 'date', 'revenue', 'group']\r\n",
        "orders.head(1)"
      ],
      "execution_count": null,
      "outputs": [
        {
          "output_type": "execute_result",
          "data": {
            "text/html": [
              "<div>\n",
              "<style scoped>\n",
              "    .dataframe tbody tr th:only-of-type {\n",
              "        vertical-align: middle;\n",
              "    }\n",
              "\n",
              "    .dataframe tbody tr th {\n",
              "        vertical-align: top;\n",
              "    }\n",
              "\n",
              "    .dataframe thead th {\n",
              "        text-align: right;\n",
              "    }\n",
              "</style>\n",
              "<table border=\"1\" class=\"dataframe\">\n",
              "  <thead>\n",
              "    <tr style=\"text-align: right;\">\n",
              "      <th></th>\n",
              "      <th>transaction_id</th>\n",
              "      <th>visitor_id</th>\n",
              "      <th>date</th>\n",
              "      <th>revenue</th>\n",
              "      <th>group</th>\n",
              "    </tr>\n",
              "  </thead>\n",
              "  <tbody>\n",
              "    <tr>\n",
              "      <th>0</th>\n",
              "      <td>3667963787</td>\n",
              "      <td>3312258926</td>\n",
              "      <td>2019-08-15</td>\n",
              "      <td>1650</td>\n",
              "      <td>B</td>\n",
              "    </tr>\n",
              "  </tbody>\n",
              "</table>\n",
              "</div>"
            ],
            "text/plain": [
              "   transaction_id  visitor_id       date  revenue group\n",
              "0      3667963787  3312258926 2019-08-15     1650     B"
            ]
          },
          "metadata": {
            "tags": []
          },
          "execution_count": 23
        }
      ]
    },
    {
      "cell_type": "code",
      "metadata": {
        "colab": {
          "base_uri": "https://localhost:8080/"
        },
        "id": "cH09gnMPl7k2",
        "outputId": "83d4f178-f4b3-4a61-d73f-509ccb4a2c5b"
      },
      "source": [
        "orders['visitor_id'].nunique() # количество уникальных посетителей обеих групп суммарно"
      ],
      "execution_count": null,
      "outputs": [
        {
          "output_type": "execute_result",
          "data": {
            "text/plain": [
              "1031"
            ]
          },
          "metadata": {
            "tags": []
          },
          "execution_count": 24
        }
      ]
    },
    {
      "cell_type": "code",
      "metadata": {
        "colab": {
          "base_uri": "https://localhost:8080/"
        },
        "id": "xuCA87cQmE2t",
        "outputId": "e799bb26-e990-494e-fd74-11dc22c402ca"
      },
      "source": [
        "users_A = orders[orders['group'] == 'A']['visitor_id'].drop_duplicates() # срез по уникальным посетителям группы А\r\n",
        "users_A.count()"
      ],
      "execution_count": null,
      "outputs": [
        {
          "output_type": "execute_result",
          "data": {
            "text/plain": [
              "503"
            ]
          },
          "metadata": {
            "tags": []
          },
          "execution_count": 25
        }
      ]
    },
    {
      "cell_type": "code",
      "metadata": {
        "colab": {
          "base_uri": "https://localhost:8080/"
        },
        "id": "XljnELzJmIDk",
        "outputId": "968dd9df-947f-4835-d585-4c224d8313a6"
      },
      "source": [
        "users_B = orders[orders['group'] == 'B']['visitor_id'].drop_duplicates() # срез по уникальным посетителям группы В\r\n",
        "users_B.count()"
      ],
      "execution_count": null,
      "outputs": [
        {
          "output_type": "execute_result",
          "data": {
            "text/plain": [
              "586"
            ]
          },
          "metadata": {
            "tags": []
          },
          "execution_count": 26
        }
      ]
    },
    {
      "cell_type": "markdown",
      "metadata": {
        "id": "P3DWDevgmL36"
      },
      "source": [
        "Если суммируем уникальных посетителей группы А и группы В получим число отличное от 1031 (1089, следовательно 58 пользователей оказались сразу в двух группах)."
      ]
    },
    {
      "cell_type": "code",
      "metadata": {
        "colab": {
          "base_uri": "https://localhost:8080/"
        },
        "id": "gmrNHLjTmOrV",
        "outputId": "7beb80d0-6fa3-4f44-d69e-d197e7288621"
      },
      "source": [
        "users_AB = pd.merge(users_A, users_B, how='inner') # найдем пользователей, которые оказались сразу в обеих группах\r\n",
        "users_AB.count()"
      ],
      "execution_count": null,
      "outputs": [
        {
          "output_type": "execute_result",
          "data": {
            "text/plain": [
              "visitor_id    58\n",
              "dtype: int64"
            ]
          },
          "metadata": {
            "tags": []
          },
          "execution_count": 27
        }
      ]
    },
    {
      "cell_type": "code",
      "metadata": {
        "id": "afCWj_vxmSOn"
      },
      "source": [
        "orders=orders[~orders['visitor_id'].isin(users_AB['visitor_id'].array)] # удалим этих пользователей из таблицы orders"
      ],
      "execution_count": null,
      "outputs": []
    },
    {
      "cell_type": "code",
      "metadata": {
        "colab": {
          "base_uri": "https://localhost:8080/"
        },
        "id": "K1okikGDmU5o",
        "outputId": "80395446-8e54-4b54-89c9-42d493a09492"
      },
      "source": [
        "orders['visitor_id'].nunique()"
      ],
      "execution_count": null,
      "outputs": [
        {
          "output_type": "execute_result",
          "data": {
            "text/plain": [
              "973"
            ]
          },
          "metadata": {
            "tags": []
          },
          "execution_count": 29
        }
      ]
    },
    {
      "cell_type": "markdown",
      "metadata": {
        "id": "vCnw6otFmZ8V"
      },
      "source": [
        "При проведении теста 58 пользователей оказались сразу в обеих группах. Удалила их."
      ]
    },
    {
      "cell_type": "markdown",
      "metadata": {
        "id": "5xVK2qXrmfJi"
      },
      "source": [
        "Получим массив уникальных пар значений дат и групп теста."
      ]
    },
    {
      "cell_type": "code",
      "metadata": {
        "colab": {
          "base_uri": "https://localhost:8080/",
          "height": 204
        },
        "id": "QPya7JHFmib3",
        "outputId": "63a03587-2f75-4182-cd8f-77633e0962d8"
      },
      "source": [
        "datesGroups = orders[['date','group']].drop_duplicates() \r\n",
        "datesGroups.head()"
      ],
      "execution_count": null,
      "outputs": [
        {
          "output_type": "execute_result",
          "data": {
            "text/html": [
              "<div>\n",
              "<style scoped>\n",
              "    .dataframe tbody tr th:only-of-type {\n",
              "        vertical-align: middle;\n",
              "    }\n",
              "\n",
              "    .dataframe tbody tr th {\n",
              "        vertical-align: top;\n",
              "    }\n",
              "\n",
              "    .dataframe thead th {\n",
              "        text-align: right;\n",
              "    }\n",
              "</style>\n",
              "<table border=\"1\" class=\"dataframe\">\n",
              "  <thead>\n",
              "    <tr style=\"text-align: right;\">\n",
              "      <th></th>\n",
              "      <th>date</th>\n",
              "      <th>group</th>\n",
              "    </tr>\n",
              "  </thead>\n",
              "  <tbody>\n",
              "    <tr>\n",
              "      <th>0</th>\n",
              "      <td>2019-08-15</td>\n",
              "      <td>B</td>\n",
              "    </tr>\n",
              "    <tr>\n",
              "      <th>7</th>\n",
              "      <td>2019-08-15</td>\n",
              "      <td>A</td>\n",
              "    </tr>\n",
              "    <tr>\n",
              "      <th>45</th>\n",
              "      <td>2019-08-16</td>\n",
              "      <td>A</td>\n",
              "    </tr>\n",
              "    <tr>\n",
              "      <th>47</th>\n",
              "      <td>2019-08-16</td>\n",
              "      <td>B</td>\n",
              "    </tr>\n",
              "    <tr>\n",
              "      <th>55</th>\n",
              "      <td>2019-08-01</td>\n",
              "      <td>A</td>\n",
              "    </tr>\n",
              "  </tbody>\n",
              "</table>\n",
              "</div>"
            ],
            "text/plain": [
              "         date group\n",
              "0  2019-08-15     B\n",
              "7  2019-08-15     A\n",
              "45 2019-08-16     A\n",
              "47 2019-08-16     B\n",
              "55 2019-08-01     A"
            ]
          },
          "metadata": {
            "tags": []
          },
          "execution_count": 30
        }
      ]
    },
    {
      "cell_type": "markdown",
      "metadata": {
        "id": "x4cqtqK1mmWt"
      },
      "source": [
        "Агрегируем данные таблицы с заказами. Получаем кумулятивные данные по количеству покупок, уникальных пользователей и суммарной выручке."
      ]
    },
    {
      "cell_type": "code",
      "metadata": {
        "id": "7juN_PCRmpcI"
      },
      "source": [
        "ordersAggregated = datesGroups.apply(lambda x: orders[np.logical_and(orders['date'] <= x['date'], orders['group'] == x['group'])]\\\r\n",
        ".agg({'date' : 'max', 'group' : 'max', 'transaction_id' : pd.Series.nunique, 'visitor_id' : pd.Series.nunique, 'revenue' : 'sum'}), axis=1).sort_values(by=['date','group'])"
      ],
      "execution_count": null,
      "outputs": []
    },
    {
      "cell_type": "code",
      "metadata": {
        "colab": {
          "base_uri": "https://localhost:8080/",
          "height": 419
        },
        "id": "4R_eQmcBmtQc",
        "outputId": "ae4245df-4cb2-4f21-e4ef-4066bcf3bedb"
      },
      "source": [
        "ordersAggregated"
      ],
      "execution_count": null,
      "outputs": [
        {
          "output_type": "execute_result",
          "data": {
            "text/html": [
              "<div>\n",
              "<style scoped>\n",
              "    .dataframe tbody tr th:only-of-type {\n",
              "        vertical-align: middle;\n",
              "    }\n",
              "\n",
              "    .dataframe tbody tr th {\n",
              "        vertical-align: top;\n",
              "    }\n",
              "\n",
              "    .dataframe thead th {\n",
              "        text-align: right;\n",
              "    }\n",
              "</style>\n",
              "<table border=\"1\" class=\"dataframe\">\n",
              "  <thead>\n",
              "    <tr style=\"text-align: right;\">\n",
              "      <th></th>\n",
              "      <th>date</th>\n",
              "      <th>group</th>\n",
              "      <th>transaction_id</th>\n",
              "      <th>visitor_id</th>\n",
              "      <th>revenue</th>\n",
              "    </tr>\n",
              "  </thead>\n",
              "  <tbody>\n",
              "    <tr>\n",
              "      <th>55</th>\n",
              "      <td>2019-08-01</td>\n",
              "      <td>A</td>\n",
              "      <td>23</td>\n",
              "      <td>19</td>\n",
              "      <td>142779</td>\n",
              "    </tr>\n",
              "    <tr>\n",
              "      <th>66</th>\n",
              "      <td>2019-08-01</td>\n",
              "      <td>B</td>\n",
              "      <td>17</td>\n",
              "      <td>17</td>\n",
              "      <td>59758</td>\n",
              "    </tr>\n",
              "    <tr>\n",
              "      <th>175</th>\n",
              "      <td>2019-08-02</td>\n",
              "      <td>A</td>\n",
              "      <td>42</td>\n",
              "      <td>36</td>\n",
              "      <td>234381</td>\n",
              "    </tr>\n",
              "    <tr>\n",
              "      <th>173</th>\n",
              "      <td>2019-08-02</td>\n",
              "      <td>B</td>\n",
              "      <td>40</td>\n",
              "      <td>39</td>\n",
              "      <td>221801</td>\n",
              "    </tr>\n",
              "    <tr>\n",
              "      <th>291</th>\n",
              "      <td>2019-08-03</td>\n",
              "      <td>A</td>\n",
              "      <td>66</td>\n",
              "      <td>60</td>\n",
              "      <td>346854</td>\n",
              "    </tr>\n",
              "    <tr>\n",
              "      <th>...</th>\n",
              "      <td>...</td>\n",
              "      <td>...</td>\n",
              "      <td>...</td>\n",
              "      <td>...</td>\n",
              "      <td>...</td>\n",
              "    </tr>\n",
              "    <tr>\n",
              "      <th>533</th>\n",
              "      <td>2019-08-29</td>\n",
              "      <td>B</td>\n",
              "      <td>510</td>\n",
              "      <td>490</td>\n",
              "      <td>4746610</td>\n",
              "    </tr>\n",
              "    <tr>\n",
              "      <th>757</th>\n",
              "      <td>2019-08-30</td>\n",
              "      <td>A</td>\n",
              "      <td>460</td>\n",
              "      <td>437</td>\n",
              "      <td>3311413</td>\n",
              "    </tr>\n",
              "    <tr>\n",
              "      <th>690</th>\n",
              "      <td>2019-08-30</td>\n",
              "      <td>B</td>\n",
              "      <td>531</td>\n",
              "      <td>511</td>\n",
              "      <td>4955833</td>\n",
              "    </tr>\n",
              "    <tr>\n",
              "      <th>958</th>\n",
              "      <td>2019-08-31</td>\n",
              "      <td>A</td>\n",
              "      <td>468</td>\n",
              "      <td>445</td>\n",
              "      <td>3364656</td>\n",
              "    </tr>\n",
              "    <tr>\n",
              "      <th>930</th>\n",
              "      <td>2019-08-31</td>\n",
              "      <td>B</td>\n",
              "      <td>548</td>\n",
              "      <td>528</td>\n",
              "      <td>5068972</td>\n",
              "    </tr>\n",
              "  </tbody>\n",
              "</table>\n",
              "<p>62 rows × 5 columns</p>\n",
              "</div>"
            ],
            "text/plain": [
              "          date group  transaction_id  visitor_id  revenue\n",
              "55  2019-08-01     A              23          19   142779\n",
              "66  2019-08-01     B              17          17    59758\n",
              "175 2019-08-02     A              42          36   234381\n",
              "173 2019-08-02     B              40          39   221801\n",
              "291 2019-08-03     A              66          60   346854\n",
              "..         ...   ...             ...         ...      ...\n",
              "533 2019-08-29     B             510         490  4746610\n",
              "757 2019-08-30     A             460         437  3311413\n",
              "690 2019-08-30     B             531         511  4955833\n",
              "958 2019-08-31     A             468         445  3364656\n",
              "930 2019-08-31     B             548         528  5068972\n",
              "\n",
              "[62 rows x 5 columns]"
            ]
          },
          "metadata": {
            "tags": []
          },
          "execution_count": 32
        }
      ]
    },
    {
      "cell_type": "markdown",
      "metadata": {
        "id": "eg4Lw47jmxU2"
      },
      "source": [
        "Аналогично получаем агрегированные кумулятивные по дням данные о посетителях."
      ]
    },
    {
      "cell_type": "code",
      "metadata": {
        "colab": {
          "base_uri": "https://localhost:8080/",
          "height": 204
        },
        "id": "C7FY--3dm0fd",
        "outputId": "45b0efaf-6a5e-4326-ef6b-75e82980d7a6"
      },
      "source": [
        "visitorsAggregated = datesGroups.apply(lambda x: visitors[np.logical_and(visitors['date'] <= x['date'], visitors['group'] == x['group'])].agg({'date' : 'max', 'group' : 'max', 'visitors' : 'sum'}), axis=1).sort_values(by=['date','group'])\r\n",
        "visitorsAggregated.head()"
      ],
      "execution_count": null,
      "outputs": [
        {
          "output_type": "execute_result",
          "data": {
            "text/html": [
              "<div>\n",
              "<style scoped>\n",
              "    .dataframe tbody tr th:only-of-type {\n",
              "        vertical-align: middle;\n",
              "    }\n",
              "\n",
              "    .dataframe tbody tr th {\n",
              "        vertical-align: top;\n",
              "    }\n",
              "\n",
              "    .dataframe thead th {\n",
              "        text-align: right;\n",
              "    }\n",
              "</style>\n",
              "<table border=\"1\" class=\"dataframe\">\n",
              "  <thead>\n",
              "    <tr style=\"text-align: right;\">\n",
              "      <th></th>\n",
              "      <th>date</th>\n",
              "      <th>group</th>\n",
              "      <th>visitors</th>\n",
              "    </tr>\n",
              "  </thead>\n",
              "  <tbody>\n",
              "    <tr>\n",
              "      <th>55</th>\n",
              "      <td>2019-08-01</td>\n",
              "      <td>A</td>\n",
              "      <td>719</td>\n",
              "    </tr>\n",
              "    <tr>\n",
              "      <th>66</th>\n",
              "      <td>2019-08-01</td>\n",
              "      <td>B</td>\n",
              "      <td>713</td>\n",
              "    </tr>\n",
              "    <tr>\n",
              "      <th>175</th>\n",
              "      <td>2019-08-02</td>\n",
              "      <td>A</td>\n",
              "      <td>1338</td>\n",
              "    </tr>\n",
              "    <tr>\n",
              "      <th>173</th>\n",
              "      <td>2019-08-02</td>\n",
              "      <td>B</td>\n",
              "      <td>1294</td>\n",
              "    </tr>\n",
              "    <tr>\n",
              "      <th>291</th>\n",
              "      <td>2019-08-03</td>\n",
              "      <td>A</td>\n",
              "      <td>1845</td>\n",
              "    </tr>\n",
              "  </tbody>\n",
              "</table>\n",
              "</div>"
            ],
            "text/plain": [
              "          date group  visitors\n",
              "55  2019-08-01     A       719\n",
              "66  2019-08-01     B       713\n",
              "175 2019-08-02     A      1338\n",
              "173 2019-08-02     B      1294\n",
              "291 2019-08-03     A      1845"
            ]
          },
          "metadata": {
            "tags": []
          },
          "execution_count": 33
        }
      ]
    },
    {
      "cell_type": "markdown",
      "metadata": {
        "id": "_4ywrpx1m5-D"
      },
      "source": [
        "Чтобы построить графики, соберем кумулятивные данные. Создадим датафрейм со столбцами: \r\n",
        "- дата, \r\n",
        "- группа А/В теста, \r\n",
        "- количество заказов в указанную дату в указанной группе, \r\n",
        "- количество пользователей, совершивших хотя бы один заказ в указанную дату в указанной группе,\r\n",
        "- выручка в указанную дату в указанной группе(средний чек), \r\n",
        "- количество посетителей интернет-магазина в указанную дату в указанной группе.\r\n",
        "\r\n",
        "Объединим кумулятивные данные в одной таблице."
      ]
    },
    {
      "cell_type": "code",
      "metadata": {
        "id": "JqoSnQuTm96A"
      },
      "source": [
        "cumulativeData = ordersAggregated.merge(visitorsAggregated, left_on=['date', 'group'], right_on=['date', 'group'])\r\n",
        "cumulativeData.columns = ['date', 'group', 'orders', 'buyers', 'revenue', 'visitors']"
      ],
      "execution_count": null,
      "outputs": []
    },
    {
      "cell_type": "code",
      "metadata": {
        "colab": {
          "base_uri": "https://localhost:8080/",
          "height": 419
        },
        "id": "ZAh1IhgynBTA",
        "outputId": "3c96c5d1-0297-4142-f9a8-9cfbbd1f7aac"
      },
      "source": [
        "cumulativeData"
      ],
      "execution_count": null,
      "outputs": [
        {
          "output_type": "execute_result",
          "data": {
            "text/html": [
              "<div>\n",
              "<style scoped>\n",
              "    .dataframe tbody tr th:only-of-type {\n",
              "        vertical-align: middle;\n",
              "    }\n",
              "\n",
              "    .dataframe tbody tr th {\n",
              "        vertical-align: top;\n",
              "    }\n",
              "\n",
              "    .dataframe thead th {\n",
              "        text-align: right;\n",
              "    }\n",
              "</style>\n",
              "<table border=\"1\" class=\"dataframe\">\n",
              "  <thead>\n",
              "    <tr style=\"text-align: right;\">\n",
              "      <th></th>\n",
              "      <th>date</th>\n",
              "      <th>group</th>\n",
              "      <th>orders</th>\n",
              "      <th>buyers</th>\n",
              "      <th>revenue</th>\n",
              "      <th>visitors</th>\n",
              "    </tr>\n",
              "  </thead>\n",
              "  <tbody>\n",
              "    <tr>\n",
              "      <th>0</th>\n",
              "      <td>2019-08-01</td>\n",
              "      <td>A</td>\n",
              "      <td>23</td>\n",
              "      <td>19</td>\n",
              "      <td>142779</td>\n",
              "      <td>719</td>\n",
              "    </tr>\n",
              "    <tr>\n",
              "      <th>1</th>\n",
              "      <td>2019-08-01</td>\n",
              "      <td>B</td>\n",
              "      <td>17</td>\n",
              "      <td>17</td>\n",
              "      <td>59758</td>\n",
              "      <td>713</td>\n",
              "    </tr>\n",
              "    <tr>\n",
              "      <th>2</th>\n",
              "      <td>2019-08-02</td>\n",
              "      <td>A</td>\n",
              "      <td>42</td>\n",
              "      <td>36</td>\n",
              "      <td>234381</td>\n",
              "      <td>1338</td>\n",
              "    </tr>\n",
              "    <tr>\n",
              "      <th>3</th>\n",
              "      <td>2019-08-02</td>\n",
              "      <td>B</td>\n",
              "      <td>40</td>\n",
              "      <td>39</td>\n",
              "      <td>221801</td>\n",
              "      <td>1294</td>\n",
              "    </tr>\n",
              "    <tr>\n",
              "      <th>4</th>\n",
              "      <td>2019-08-03</td>\n",
              "      <td>A</td>\n",
              "      <td>66</td>\n",
              "      <td>60</td>\n",
              "      <td>346854</td>\n",
              "      <td>1845</td>\n",
              "    </tr>\n",
              "    <tr>\n",
              "      <th>...</th>\n",
              "      <td>...</td>\n",
              "      <td>...</td>\n",
              "      <td>...</td>\n",
              "      <td>...</td>\n",
              "      <td>...</td>\n",
              "      <td>...</td>\n",
              "    </tr>\n",
              "    <tr>\n",
              "      <th>57</th>\n",
              "      <td>2019-08-29</td>\n",
              "      <td>B</td>\n",
              "      <td>510</td>\n",
              "      <td>490</td>\n",
              "      <td>4746610</td>\n",
              "      <td>17708</td>\n",
              "    </tr>\n",
              "    <tr>\n",
              "      <th>58</th>\n",
              "      <td>2019-08-30</td>\n",
              "      <td>A</td>\n",
              "      <td>460</td>\n",
              "      <td>437</td>\n",
              "      <td>3311413</td>\n",
              "      <td>18037</td>\n",
              "    </tr>\n",
              "    <tr>\n",
              "      <th>59</th>\n",
              "      <td>2019-08-30</td>\n",
              "      <td>B</td>\n",
              "      <td>531</td>\n",
              "      <td>511</td>\n",
              "      <td>4955833</td>\n",
              "      <td>18198</td>\n",
              "    </tr>\n",
              "    <tr>\n",
              "      <th>60</th>\n",
              "      <td>2019-08-31</td>\n",
              "      <td>A</td>\n",
              "      <td>468</td>\n",
              "      <td>445</td>\n",
              "      <td>3364656</td>\n",
              "      <td>18736</td>\n",
              "    </tr>\n",
              "    <tr>\n",
              "      <th>61</th>\n",
              "      <td>2019-08-31</td>\n",
              "      <td>B</td>\n",
              "      <td>548</td>\n",
              "      <td>528</td>\n",
              "      <td>5068972</td>\n",
              "      <td>18916</td>\n",
              "    </tr>\n",
              "  </tbody>\n",
              "</table>\n",
              "<p>62 rows × 6 columns</p>\n",
              "</div>"
            ],
            "text/plain": [
              "         date group  orders  buyers  revenue  visitors\n",
              "0  2019-08-01     A      23      19   142779       719\n",
              "1  2019-08-01     B      17      17    59758       713\n",
              "2  2019-08-02     A      42      36   234381      1338\n",
              "3  2019-08-02     B      40      39   221801      1294\n",
              "4  2019-08-03     A      66      60   346854      1845\n",
              "..        ...   ...     ...     ...      ...       ...\n",
              "57 2019-08-29     B     510     490  4746610     17708\n",
              "58 2019-08-30     A     460     437  3311413     18037\n",
              "59 2019-08-30     B     531     511  4955833     18198\n",
              "60 2019-08-31     A     468     445  3364656     18736\n",
              "61 2019-08-31     B     548     528  5068972     18916\n",
              "\n",
              "[62 rows x 6 columns]"
            ]
          },
          "metadata": {
            "tags": []
          },
          "execution_count": 35
        }
      ]
    },
    {
      "cell_type": "markdown",
      "metadata": {
        "id": "7i0FdsjCor6n"
      },
      "source": [
        "### 1. Постройте график кумулятивной выручки по группам. Сделайте выводы и предположения.\r\n",
        "<a id=\"item_1\"></a>"
      ]
    },
    {
      "cell_type": "markdown",
      "metadata": {
        "id": "WZPj6NWlo3Pv"
      },
      "source": [
        "Построим графики кумулятивной выручки по дням и группам A/B-тестирования:"
      ]
    },
    {
      "cell_type": "code",
      "metadata": {
        "colab": {
          "base_uri": "https://localhost:8080/",
          "height": 204
        },
        "id": "5DI8B1mAowb3",
        "outputId": "95a930a6-f7f7-45c2-f444-7dfd61f5adfd"
      },
      "source": [
        "cumulativeRevenueA = cumulativeData[cumulativeData['group']=='A'][['date','revenue', 'orders']]\r\n",
        "# датафрейм с кумулятивным количеством заказов и кумулятивной выручкой по дням в группе А\r\n",
        "cumulativeRevenueA.head()"
      ],
      "execution_count": null,
      "outputs": [
        {
          "output_type": "execute_result",
          "data": {
            "text/html": [
              "<div>\n",
              "<style scoped>\n",
              "    .dataframe tbody tr th:only-of-type {\n",
              "        vertical-align: middle;\n",
              "    }\n",
              "\n",
              "    .dataframe tbody tr th {\n",
              "        vertical-align: top;\n",
              "    }\n",
              "\n",
              "    .dataframe thead th {\n",
              "        text-align: right;\n",
              "    }\n",
              "</style>\n",
              "<table border=\"1\" class=\"dataframe\">\n",
              "  <thead>\n",
              "    <tr style=\"text-align: right;\">\n",
              "      <th></th>\n",
              "      <th>date</th>\n",
              "      <th>revenue</th>\n",
              "      <th>orders</th>\n",
              "    </tr>\n",
              "  </thead>\n",
              "  <tbody>\n",
              "    <tr>\n",
              "      <th>0</th>\n",
              "      <td>2019-08-01</td>\n",
              "      <td>142779</td>\n",
              "      <td>23</td>\n",
              "    </tr>\n",
              "    <tr>\n",
              "      <th>2</th>\n",
              "      <td>2019-08-02</td>\n",
              "      <td>234381</td>\n",
              "      <td>42</td>\n",
              "    </tr>\n",
              "    <tr>\n",
              "      <th>4</th>\n",
              "      <td>2019-08-03</td>\n",
              "      <td>346854</td>\n",
              "      <td>66</td>\n",
              "    </tr>\n",
              "    <tr>\n",
              "      <th>6</th>\n",
              "      <td>2019-08-04</td>\n",
              "      <td>388030</td>\n",
              "      <td>77</td>\n",
              "    </tr>\n",
              "    <tr>\n",
              "      <th>8</th>\n",
              "      <td>2019-08-05</td>\n",
              "      <td>474413</td>\n",
              "      <td>99</td>\n",
              "    </tr>\n",
              "  </tbody>\n",
              "</table>\n",
              "</div>"
            ],
            "text/plain": [
              "        date  revenue  orders\n",
              "0 2019-08-01   142779      23\n",
              "2 2019-08-02   234381      42\n",
              "4 2019-08-03   346854      66\n",
              "6 2019-08-04   388030      77\n",
              "8 2019-08-05   474413      99"
            ]
          },
          "metadata": {
            "tags": []
          },
          "execution_count": 36
        }
      ]
    },
    {
      "cell_type": "code",
      "metadata": {
        "colab": {
          "base_uri": "https://localhost:8080/",
          "height": 204
        },
        "id": "Ti5xKK9ao9cK",
        "outputId": "e9f88c58-b96a-449b-ef9a-4a408775b48a"
      },
      "source": [
        "cumulativeRevenueB = cumulativeData[cumulativeData['group']=='B'][['date','revenue', 'orders']]\r\n",
        "# датафрейм с кумулятивным количеством заказов и кумулятивной выручкой по дням в группе B\r\n",
        "cumulativeRevenueB.head()"
      ],
      "execution_count": null,
      "outputs": [
        {
          "output_type": "execute_result",
          "data": {
            "text/html": [
              "<div>\n",
              "<style scoped>\n",
              "    .dataframe tbody tr th:only-of-type {\n",
              "        vertical-align: middle;\n",
              "    }\n",
              "\n",
              "    .dataframe tbody tr th {\n",
              "        vertical-align: top;\n",
              "    }\n",
              "\n",
              "    .dataframe thead th {\n",
              "        text-align: right;\n",
              "    }\n",
              "</style>\n",
              "<table border=\"1\" class=\"dataframe\">\n",
              "  <thead>\n",
              "    <tr style=\"text-align: right;\">\n",
              "      <th></th>\n",
              "      <th>date</th>\n",
              "      <th>revenue</th>\n",
              "      <th>orders</th>\n",
              "    </tr>\n",
              "  </thead>\n",
              "  <tbody>\n",
              "    <tr>\n",
              "      <th>1</th>\n",
              "      <td>2019-08-01</td>\n",
              "      <td>59758</td>\n",
              "      <td>17</td>\n",
              "    </tr>\n",
              "    <tr>\n",
              "      <th>3</th>\n",
              "      <td>2019-08-02</td>\n",
              "      <td>221801</td>\n",
              "      <td>40</td>\n",
              "    </tr>\n",
              "    <tr>\n",
              "      <th>5</th>\n",
              "      <td>2019-08-03</td>\n",
              "      <td>288850</td>\n",
              "      <td>54</td>\n",
              "    </tr>\n",
              "    <tr>\n",
              "      <th>7</th>\n",
              "      <td>2019-08-04</td>\n",
              "      <td>385740</td>\n",
              "      <td>68</td>\n",
              "    </tr>\n",
              "    <tr>\n",
              "      <th>9</th>\n",
              "      <td>2019-08-05</td>\n",
              "      <td>475648</td>\n",
              "      <td>89</td>\n",
              "    </tr>\n",
              "  </tbody>\n",
              "</table>\n",
              "</div>"
            ],
            "text/plain": [
              "        date  revenue  orders\n",
              "1 2019-08-01    59758      17\n",
              "3 2019-08-02   221801      40\n",
              "5 2019-08-03   288850      54\n",
              "7 2019-08-04   385740      68\n",
              "9 2019-08-05   475648      89"
            ]
          },
          "metadata": {
            "tags": []
          },
          "execution_count": 37
        }
      ]
    },
    {
      "cell_type": "code",
      "metadata": {
        "colab": {
          "base_uri": "https://localhost:8080/",
          "height": 404
        },
        "id": "q-kUzqvjpH2i",
        "outputId": "8d3bddbd-d911-48ae-b0fe-8c81954ded4b"
      },
      "source": [
        "fig, ax = plt.subplots(figsize=(12,5))\r\n",
        "# Строим график выручки группы А\r\n",
        "plt.plot(cumulativeRevenueA['date'], cumulativeRevenueA['revenue'], label='A')\r\n",
        "# Строим график выручки группы B\r\n",
        "plt.plot(cumulativeRevenueB['date'], cumulativeRevenueB['revenue'], label='B')\r\n",
        "plt.xticks(np.arange(cumulativeRevenueA['date'].min(), \r\n",
        "                     cumulativeRevenueA['date'].max() + pd.to_timedelta('1 day'), \r\n",
        "                     pd.to_timedelta('2 day')), rotation=45)\r\n",
        "plt.title('График кумулятивной выручки по группам, руб.', fontsize=17, pad=15)\r\n",
        "plt.legend()\r\n",
        "plt.xlabel('дата')\r\n",
        "plt.ylabel('выручка, руб.')\r\n",
        "plt.grid()\r\n",
        "plt.show()"
      ],
      "execution_count": null,
      "outputs": [
        {
          "output_type": "display_data",
          "data": {
            "image/png": "[encoded data removed]",
            "text/plain": [
              "<Figure size 864x360 with 1 Axes>"
            ]
          },
          "metadata": {
            "tags": [],
            "needs_background": "light"
          }
        }
      ]
    },
    {
      "cell_type": "code",
      "metadata": {
        "colab": {
          "base_uri": "https://localhost:8080/"
        },
        "id": "qwShDPoJpTBD",
        "outputId": "7e9f27cc-92d0-4f1a-fd8c-b3fdca6d320f"
      },
      "source": [
        "cumulativeRevenueA.info()"
      ],
      "execution_count": null,
      "outputs": [
        {
          "output_type": "stream",
          "text": [
            "<class 'pandas.core.frame.DataFrame'>\n",
            "Int64Index: 31 entries, 0 to 60\n",
            "Data columns (total 3 columns):\n",
            " #   Column   Non-Null Count  Dtype         \n",
            "---  ------   --------------  -----         \n",
            " 0   date     31 non-null     datetime64[ns]\n",
            " 1   revenue  31 non-null     int64         \n",
            " 2   orders   31 non-null     int64         \n",
            "dtypes: datetime64[ns](1), int64(2)\n",
            "memory usage: 992.0 bytes\n"
          ],
          "name": "stdout"
        }
      ]
    },
    {
      "cell_type": "markdown",
      "metadata": {
        "id": "z_Ww6a00pYNu"
      },
      "source": [
        "Выручка увеличивается в течение всего теста в обеих группах. Но в группе В в определенный день (19 августа) наблюдается резкий рост выручки. Это может говорить о всплесках числа заказов, либо о появлении очень дорогих заказов в выборке."
      ]
    },
    {
      "cell_type": "markdown",
      "metadata": {
        "id": "Z-sOWTrYpfuo"
      },
      "source": [
        "### 2. Постройте график кумулятивного среднего чека по группам. Сделайте выводы и предположения.\r\n",
        "<a id=\"item_2\"></a>"
      ]
    },
    {
      "cell_type": "markdown",
      "metadata": {
        "id": "ArRfKLsrplPh"
      },
      "source": [
        "Построим графики среднего чека по группам — разделим кумулятивную выручку на кумулятивное число заказов:"
      ]
    },
    {
      "cell_type": "code",
      "metadata": {
        "colab": {
          "base_uri": "https://localhost:8080/",
          "height": 404
        },
        "id": "Bp8bJEIqp2VK",
        "outputId": "c9862f73-c358-4245-ed79-a157ffaba1d6"
      },
      "source": [
        "fig, ax = plt.subplots(figsize=(12,5)) \r\n",
        "plt.plot(cumulativeRevenueA['date'], cumulativeRevenueA['revenue']/cumulativeRevenueA['orders'], label='A')\r\n",
        "plt.plot(cumulativeRevenueB['date'], cumulativeRevenueB['revenue']/cumulativeRevenueB['orders'], label='B')\r\n",
        "plt.xticks(np.arange(cumulativeRevenueA['date'].min(), \r\n",
        "                     cumulativeRevenueA['date'].max() + pd.to_timedelta('1 day'), \r\n",
        "                     pd.to_timedelta('2 day')), rotation=45)\r\n",
        "plt.title('График кумулятивного среднего чека по группам, руб.', fontsize=17, pad=15)\r\n",
        "plt.legend()\r\n",
        "plt.grid()\r\n",
        "plt.xlabel('дата')\r\n",
        "plt.ylabel('средний чек, руб.')\r\n",
        "plt.show()"
      ],
      "execution_count": null,
      "outputs": [
        {
          "output_type": "display_data",
          "data": {
            "image/png": "[encoded data removed]",
            "text/plain": [
              "<Figure size 864x360 with 1 Axes>"
            ]
          },
          "metadata": {
            "tags": [],
            "needs_background": "light"
          }
        }
      ]
    },
    {
      "cell_type": "markdown",
      "metadata": {
        "id": "kCdCT9hvp-eI"
      },
      "source": [
        "19 августа, в тот день, когда в группе В наблюдался резкий рост выручки, на графике кумулятивного среднего чека так же можем отметить возрастание. Делаем вывод, что такой подъем связан с крупным заказом в этот день, а не с увеличением их количества."
      ]
    },
    {
      "cell_type": "code",
      "metadata": {
        "colab": {
          "base_uri": "https://localhost:8080/",
          "height": 359
        },
        "id": "f-xlG7FZqB9l",
        "outputId": "8baf065a-657e-4107-d856-7d33bd7da1ac"
      },
      "source": [
        "cumulativeRevenueB.query('date > \"2019-08-15\"').head(10)"
      ],
      "execution_count": null,
      "outputs": [
        {
          "output_type": "execute_result",
          "data": {
            "text/html": [
              "<div>\n",
              "<style scoped>\n",
              "    .dataframe tbody tr th:only-of-type {\n",
              "        vertical-align: middle;\n",
              "    }\n",
              "\n",
              "    .dataframe tbody tr th {\n",
              "        vertical-align: top;\n",
              "    }\n",
              "\n",
              "    .dataframe thead th {\n",
              "        text-align: right;\n",
              "    }\n",
              "</style>\n",
              "<table border=\"1\" class=\"dataframe\">\n",
              "  <thead>\n",
              "    <tr style=\"text-align: right;\">\n",
              "      <th></th>\n",
              "      <th>date</th>\n",
              "      <th>revenue</th>\n",
              "      <th>orders</th>\n",
              "    </tr>\n",
              "  </thead>\n",
              "  <tbody>\n",
              "    <tr>\n",
              "      <th>31</th>\n",
              "      <td>2019-08-16</td>\n",
              "      <td>2074677</td>\n",
              "      <td>307</td>\n",
              "    </tr>\n",
              "    <tr>\n",
              "      <th>33</th>\n",
              "      <td>2019-08-17</td>\n",
              "      <td>2155542</td>\n",
              "      <td>320</td>\n",
              "    </tr>\n",
              "    <tr>\n",
              "      <th>35</th>\n",
              "      <td>2019-08-18</td>\n",
              "      <td>2190865</td>\n",
              "      <td>327</td>\n",
              "    </tr>\n",
              "    <tr>\n",
              "      <th>37</th>\n",
              "      <td>2019-08-19</td>\n",
              "      <td>3620785</td>\n",
              "      <td>348</td>\n",
              "    </tr>\n",
              "    <tr>\n",
              "      <th>39</th>\n",
              "      <td>2019-08-20</td>\n",
              "      <td>3768059</td>\n",
              "      <td>368</td>\n",
              "    </tr>\n",
              "    <tr>\n",
              "      <th>41</th>\n",
              "      <td>2019-08-21</td>\n",
              "      <td>3908406</td>\n",
              "      <td>380</td>\n",
              "    </tr>\n",
              "    <tr>\n",
              "      <th>43</th>\n",
              "      <td>2019-08-22</td>\n",
              "      <td>4050134</td>\n",
              "      <td>401</td>\n",
              "    </tr>\n",
              "    <tr>\n",
              "      <th>45</th>\n",
              "      <td>2019-08-23</td>\n",
              "      <td>4127403</td>\n",
              "      <td>414</td>\n",
              "    </tr>\n",
              "    <tr>\n",
              "      <th>47</th>\n",
              "      <td>2019-08-24</td>\n",
              "      <td>4215269</td>\n",
              "      <td>428</td>\n",
              "    </tr>\n",
              "    <tr>\n",
              "      <th>49</th>\n",
              "      <td>2019-08-25</td>\n",
              "      <td>4294526</td>\n",
              "      <td>440</td>\n",
              "    </tr>\n",
              "  </tbody>\n",
              "</table>\n",
              "</div>"
            ],
            "text/plain": [
              "         date  revenue  orders\n",
              "31 2019-08-16  2074677     307\n",
              "33 2019-08-17  2155542     320\n",
              "35 2019-08-18  2190865     327\n",
              "37 2019-08-19  3620785     348\n",
              "39 2019-08-20  3768059     368\n",
              "41 2019-08-21  3908406     380\n",
              "43 2019-08-22  4050134     401\n",
              "45 2019-08-23  4127403     414\n",
              "47 2019-08-24  4215269     428\n",
              "49 2019-08-25  4294526     440"
            ]
          },
          "metadata": {
            "tags": []
          },
          "execution_count": 41
        }
      ]
    },
    {
      "cell_type": "markdown",
      "metadata": {
        "id": "j1AzSYPzqIVm"
      },
      "source": [
        "Посмотрев на таблицу кумулятивных данных группы В и правда замечаем, что 19 августа рост выручки составил почти 1,5 миллиона, хотя в другие дни колеблется в районе 100-200 тысяч. А вот количество заказов в целом не изменилось."
      ]
    },
    {
      "cell_type": "markdown",
      "metadata": {
        "id": "SDsAnfa4qPS_"
      },
      "source": [
        "### 3. Постройте график относительного изменения кумулятивного среднего чека группы B к группе A. Сделайте выводы и предположения.\r\n",
        "<a id=\"item_3\"></a>"
      ]
    },
    {
      "cell_type": "code",
      "metadata": {
        "colab": {
          "base_uri": "https://localhost:8080/",
          "height": 402
        },
        "id": "IYd459j_qTk7",
        "outputId": "586227d6-d179-441a-8e5f-6db55f160cc9"
      },
      "source": [
        "# собираем данные в одном датафрейме\r\n",
        "mergedCumulativeRevenue = cumulativeRevenueA.merge(cumulativeRevenueB, left_on='date', right_on='date', how='left', suffixes=['A', 'B'])\r\n",
        "fig, ax = plt.subplots(figsize=(12,5))\r\n",
        "# cтроим отношение средних чеков\r\n",
        "plt.plot(mergedCumulativeRevenue['date'], (mergedCumulativeRevenue['revenueB']/mergedCumulativeRevenue['ordersB'])/(mergedCumulativeRevenue['revenueA']/mergedCumulativeRevenue['ordersA'])-1)\r\n",
        "\r\n",
        "# добавляем ось X\r\n",
        "\r\n",
        "plt.axhline(y=0, color='black', linestyle='--')\r\n",
        "plt.xticks(np.arange(mergedCumulativeRevenue['date'].min(), \r\n",
        "                     mergedCumulativeRevenue['date'].max() + pd.to_timedelta('1 day'), \r\n",
        "                     pd.to_timedelta('2 day')),rotation=45)\r\n",
        "plt.title('График относительного изменения кумулятивного среднего чека группы В к группе А', fontsize=15, pad=15)\r\n",
        "plt.grid()\r\n",
        "plt.xlabel('дата')\r\n",
        "plt.ylabel('отношение средних чеков')\r\n",
        "plt.show()"
      ],
      "execution_count": null,
      "outputs": [
        {
          "output_type": "display_data",
          "data": {
            "image/png": "[encoded data removed]",
            "text/plain": [
              "<Figure size 864x360 with 1 Axes>"
            ]
          },
          "metadata": {
            "tags": [],
            "needs_background": "light"
          }
        }
      ]
    },
    {
      "cell_type": "markdown",
      "metadata": {
        "id": "rxhdE6UHqflY"
      },
      "source": [
        "Замечаем, что в нескольких точках график сильно скачет. Что подтверждает наличие крупных заказов и выбросов в одной из групп. 13 августа наблюдаем провал графика, что говорит о том, что в группе А были крупные заказы, затем график растет и максимум видим 19 августа, когда в группе В был сделан большой заказ."
      ]
    },
    {
      "cell_type": "markdown",
      "metadata": {
        "id": "grucS-sQqj5k"
      },
      "source": [
        "### 4. Постройте график кумулятивной конверсии по группам. Сделайте выводы и предположения.\r\n",
        "<a id=\"item_4\"></a>"
      ]
    },
    {
      "cell_type": "markdown",
      "metadata": {
        "id": "ujNiD0UXqpOK"
      },
      "source": [
        "Аналогично проанализируем график кумулятивной конверсии."
      ]
    },
    {
      "cell_type": "code",
      "metadata": {
        "colab": {
          "base_uri": "https://localhost:8080/",
          "height": 404
        },
        "id": "w_LNOWsMqvLy",
        "outputId": "44cd196e-4e77-471d-95c0-c8fe9bafdde3"
      },
      "source": [
        "fig, ax=plt.subplots(figsize=(12,5))\r\n",
        "# считаем кумулятивную конверсию\r\n",
        "cumulativeData['conversion'] = cumulativeData['orders']/cumulativeData['visitors']\r\n",
        "\r\n",
        "# отделяем данные по группе A\r\n",
        "cumulativeDataA = cumulativeData[cumulativeData['group']=='A']\r\n",
        "\r\n",
        "# отделяем данные по группе B\r\n",
        "cumulativeDataB = cumulativeData[cumulativeData['group']=='B']\r\n",
        "\r\n",
        "# строим графики\r\n",
        "plt.plot(cumulativeDataA['date'], cumulativeDataA['conversion'], label='A')\r\n",
        "plt.plot(cumulativeDataB['date'], cumulativeDataB['conversion'], label='B')\r\n",
        "plt.xticks(np.arange(cumulativeDataA['date'].min(), \r\n",
        "                     cumulativeDataA['date'].max() + pd.to_timedelta('1 day'), \r\n",
        "                     pd.to_timedelta('2 day')), rotation=45)\r\n",
        "plt.title('График кумулятивной конверсии по группам', fontsize=17, pad=15)\r\n",
        "plt.legend()\r\n",
        "plt.xlabel('дата')\r\n",
        "plt.ylabel('конверсия')\r\n",
        "plt.grid()\r\n",
        "plt.show()\r\n"
      ],
      "execution_count": null,
      "outputs": [
        {
          "output_type": "display_data",
          "data": {
            "image/png": "[encoded data removed]",
            "text/plain": [
              "<Figure size 864x360 with 1 Axes>"
            ]
          },
          "metadata": {
            "tags": [],
            "needs_background": "light"
          }
        }
      ]
    },
    {
      "cell_type": "markdown",
      "metadata": {
        "id": "TgtApZ5TrWG2"
      },
      "source": [
        "После изначально высокого значения группы А, резко просела, а конверсия группы В вырвалась вперед. Значения обеих групп в течение почти всего теста держатся примерно около своих значений, постоянно колеблясь, то чуть опускаясь, то поднимаясь. Но группа В здесь явно лидирует, однако к концу наблюдается небольшое снижение."
      ]
    },
    {
      "cell_type": "markdown",
      "metadata": {
        "id": "evTtlhSXrZ8N"
      },
      "source": [
        "### 5. Постройте график относительного изменения кумулятивной конверсии группы B к группе A. Сделайте выводы и предположения.\r\n",
        "<a id=\"item_5\"></a>"
      ]
    },
    {
      "cell_type": "code",
      "metadata": {
        "colab": {
          "base_uri": "https://localhost:8080/",
          "height": 402
        },
        "id": "i1Ym0-inrefE",
        "outputId": "17d8de24-2755-4895-97aa-10623c81ee67"
      },
      "source": [
        "mergedCumulativeConversions = cumulativeDataA[['date','conversion']].merge(cumulativeDataB[['date','conversion']], left_on='date', right_on='date', how='left', suffixes=['A', 'B'])\r\n",
        "\r\n",
        "fig, ax = plt.subplots(figsize=(12,5))\r\n",
        "plt.plot(mergedCumulativeConversions['date'], mergedCumulativeConversions['conversionB']/mergedCumulativeConversions['conversionA']-1)\r\n",
        "plt.title('Относительный прирост конверсии группы В относительно группы А', fontsize=15, pad=15)\r\n",
        "plt.axhline(y=0, color='black', linestyle='--')\r\n",
        "plt.xticks(np.arange(mergedCumulativeConversions['date'].min(), \r\n",
        "                     mergedCumulativeConversions['date'].max() + pd.to_timedelta('1 day'), \r\n",
        "                     pd.to_timedelta('2 day')), rotation=45)\r\n",
        "plt.grid()\r\n",
        "plt.xlabel('дата')\r\n",
        "plt.ylabel('отношение конверсии группы В к группе А')\r\n",
        "plt.show()"
      ],
      "execution_count": null,
      "outputs": [
        {
          "output_type": "display_data",
          "data": {
            "image/png": "[encoded data removed]",
            "text/plain": [
              "<Figure size 864x360 with 1 Axes>"
            ]
          },
          "metadata": {
            "tags": [],
            "needs_background": "light"
          }
        }
      ]
    },
    {
      "cell_type": "markdown",
      "metadata": {
        "id": "JTK19XJmr2ev"
      },
      "source": [
        "Вначале группа В уступала группе А, но затем вырвалась вперед и вцелом держится на достаточно высоком уровне, но постоянно колеблется в небольшом диапазоне, а во второй половине наблюдается снижение конверсии группы В по отношению к группе А."
      ]
    },
    {
      "cell_type": "markdown",
      "metadata": {
        "id": "IkLBwVrPr9sS"
      },
      "source": [
        "### 6. Постройте точечный график количества заказов по пользователям. Сделайте выводы и предположения.\r\n",
        "<a id=\"item_6\"></a>"
      ]
    },
    {
      "cell_type": "code",
      "metadata": {
        "colab": {
          "base_uri": "https://localhost:8080/",
          "height": 204
        },
        "id": "ZZxqan0wsBGZ",
        "outputId": "e52795ea-a1d0-49cd-a2ef-828ede04ea4b"
      },
      "source": [
        "orders.head()"
      ],
      "execution_count": null,
      "outputs": [
        {
          "output_type": "execute_result",
          "data": {
            "text/html": [
              "<div>\n",
              "<style scoped>\n",
              "    .dataframe tbody tr th:only-of-type {\n",
              "        vertical-align: middle;\n",
              "    }\n",
              "\n",
              "    .dataframe tbody tr th {\n",
              "        vertical-align: top;\n",
              "    }\n",
              "\n",
              "    .dataframe thead th {\n",
              "        text-align: right;\n",
              "    }\n",
              "</style>\n",
              "<table border=\"1\" class=\"dataframe\">\n",
              "  <thead>\n",
              "    <tr style=\"text-align: right;\">\n",
              "      <th></th>\n",
              "      <th>transaction_id</th>\n",
              "      <th>visitor_id</th>\n",
              "      <th>date</th>\n",
              "      <th>revenue</th>\n",
              "      <th>group</th>\n",
              "    </tr>\n",
              "  </thead>\n",
              "  <tbody>\n",
              "    <tr>\n",
              "      <th>0</th>\n",
              "      <td>3667963787</td>\n",
              "      <td>3312258926</td>\n",
              "      <td>2019-08-15</td>\n",
              "      <td>1650</td>\n",
              "      <td>B</td>\n",
              "    </tr>\n",
              "    <tr>\n",
              "      <th>1</th>\n",
              "      <td>2804400009</td>\n",
              "      <td>3642806036</td>\n",
              "      <td>2019-08-15</td>\n",
              "      <td>730</td>\n",
              "      <td>B</td>\n",
              "    </tr>\n",
              "    <tr>\n",
              "      <th>3</th>\n",
              "      <td>3797467345</td>\n",
              "      <td>1196621759</td>\n",
              "      <td>2019-08-15</td>\n",
              "      <td>9759</td>\n",
              "      <td>B</td>\n",
              "    </tr>\n",
              "    <tr>\n",
              "      <th>4</th>\n",
              "      <td>2282983706</td>\n",
              "      <td>2322279887</td>\n",
              "      <td>2019-08-15</td>\n",
              "      <td>2308</td>\n",
              "      <td>B</td>\n",
              "    </tr>\n",
              "    <tr>\n",
              "      <th>5</th>\n",
              "      <td>182168103</td>\n",
              "      <td>935554773</td>\n",
              "      <td>2019-08-15</td>\n",
              "      <td>2210</td>\n",
              "      <td>B</td>\n",
              "    </tr>\n",
              "  </tbody>\n",
              "</table>\n",
              "</div>"
            ],
            "text/plain": [
              "   transaction_id  visitor_id       date  revenue group\n",
              "0      3667963787  3312258926 2019-08-15     1650     B\n",
              "1      2804400009  3642806036 2019-08-15      730     B\n",
              "3      3797467345  1196621759 2019-08-15     9759     B\n",
              "4      2282983706  2322279887 2019-08-15     2308     B\n",
              "5       182168103   935554773 2019-08-15     2210     B"
            ]
          },
          "metadata": {
            "tags": []
          },
          "execution_count": 45
        }
      ]
    },
    {
      "cell_type": "markdown",
      "metadata": {
        "id": "9GYBRrm8sKCN"
      },
      "source": [
        "Посчитаем количество заказов по пользователям и посмотрим на результат:"
      ]
    },
    {
      "cell_type": "code",
      "metadata": {
        "id": "pPKvgvVLsNOj"
      },
      "source": [
        "ordersByUsers = orders.drop(['group', 'revenue', 'date'], axis=1).groupby('visitor_id', as_index=False).agg({'transaction_id' : pd.Series.nunique})\r\n",
        "ordersByUsers.columns = ['visitor_id','orders']"
      ],
      "execution_count": null,
      "outputs": []
    },
    {
      "cell_type": "code",
      "metadata": {
        "colab": {
          "base_uri": "https://localhost:8080/",
          "height": 359
        },
        "id": "wNGVuVxdvFJy",
        "outputId": "4b0c1069-c704-4944-eab0-6ce37528cfe7"
      },
      "source": [
        "ordersByUsers.sort_values(by='orders',ascending=False).head(10)"
      ],
      "execution_count": null,
      "outputs": [
        {
          "output_type": "execute_result",
          "data": {
            "text/html": [
              "<div>\n",
              "<style scoped>\n",
              "    .dataframe tbody tr th:only-of-type {\n",
              "        vertical-align: middle;\n",
              "    }\n",
              "\n",
              "    .dataframe tbody tr th {\n",
              "        vertical-align: top;\n",
              "    }\n",
              "\n",
              "    .dataframe thead th {\n",
              "        text-align: right;\n",
              "    }\n",
              "</style>\n",
              "<table border=\"1\" class=\"dataframe\">\n",
              "  <thead>\n",
              "    <tr style=\"text-align: right;\">\n",
              "      <th></th>\n",
              "      <th>visitor_id</th>\n",
              "      <th>orders</th>\n",
              "    </tr>\n",
              "  </thead>\n",
              "  <tbody>\n",
              "    <tr>\n",
              "      <th>908</th>\n",
              "      <td>3967698036</td>\n",
              "      <td>3</td>\n",
              "    </tr>\n",
              "    <tr>\n",
              "      <th>55</th>\n",
              "      <td>249864742</td>\n",
              "      <td>3</td>\n",
              "    </tr>\n",
              "    <tr>\n",
              "      <th>478</th>\n",
              "      <td>2108163459</td>\n",
              "      <td>3</td>\n",
              "    </tr>\n",
              "    <tr>\n",
              "      <th>687</th>\n",
              "      <td>2988190573</td>\n",
              "      <td>3</td>\n",
              "    </tr>\n",
              "    <tr>\n",
              "      <th>890</th>\n",
              "      <td>3908431265</td>\n",
              "      <td>3</td>\n",
              "    </tr>\n",
              "    <tr>\n",
              "      <th>138</th>\n",
              "      <td>611059232</td>\n",
              "      <td>3</td>\n",
              "    </tr>\n",
              "    <tr>\n",
              "      <th>632</th>\n",
              "      <td>2742574263</td>\n",
              "      <td>3</td>\n",
              "    </tr>\n",
              "    <tr>\n",
              "      <th>157</th>\n",
              "      <td>678354126</td>\n",
              "      <td>2</td>\n",
              "    </tr>\n",
              "    <tr>\n",
              "      <th>323</th>\n",
              "      <td>1404560065</td>\n",
              "      <td>2</td>\n",
              "    </tr>\n",
              "    <tr>\n",
              "      <th>452</th>\n",
              "      <td>1985475298</td>\n",
              "      <td>2</td>\n",
              "    </tr>\n",
              "  </tbody>\n",
              "</table>\n",
              "</div>"
            ],
            "text/plain": [
              "     visitor_id  orders\n",
              "908  3967698036       3\n",
              "55    249864742       3\n",
              "478  2108163459       3\n",
              "687  2988190573       3\n",
              "890  3908431265       3\n",
              "138   611059232       3\n",
              "632  2742574263       3\n",
              "157   678354126       2\n",
              "323  1404560065       2\n",
              "452  1985475298       2"
            ]
          },
          "metadata": {
            "tags": []
          },
          "execution_count": 47
        }
      ]
    },
    {
      "cell_type": "markdown",
      "metadata": {
        "id": "diTWAxzpvJfE"
      },
      "source": [
        "Максимальное значение покупок на одного пользователя - 3. Построим гистограмму распределения количество заказов на одного пользователя. После того как убрали пользователей, попавших в обе группы, количество покупок на одного пользователя сразу снизилось. Теперь максимальное количество заказов на пользователя не более трех."
      ]
    },
    {
      "cell_type": "code",
      "metadata": {
        "colab": {
          "base_uri": "https://localhost:8080/",
          "height": 309
        },
        "id": "zeEZ8GGovTqt",
        "outputId": "5f5aca3e-64d5-4438-9bd0-555a324317d5"
      },
      "source": [
        "plt.hist(ordersByUsers['orders'])\r\n",
        "plt.title('Гистограмма распределения количества заказов на одного пользователя', fontsize=15, pad=15)\r\n",
        "plt.xlabel('количество заказов')\r\n",
        "plt.ylabel('количество пользователей')\r\n",
        "plt.show()"
      ],
      "execution_count": null,
      "outputs": [
        {
          "output_type": "display_data",
          "data": {
            "image/png": "[encoded data removed]",
            "text/plain": [
              "<Figure size 432x288 with 1 Axes>"
            ]
          },
          "metadata": {
            "tags": [],
            "needs_background": "light"
          }
        }
      ]
    },
    {
      "cell_type": "markdown",
      "metadata": {
        "id": "zwgn6fsJvekq"
      },
      "source": [
        "Больше всего пользователей, совершающий 1 заказ. Но доля пользователей с 2-3 тоже значительна. Построим точечную диаграмму числа заказов на одного пользователя:"
      ]
    },
    {
      "cell_type": "code",
      "metadata": {
        "colab": {
          "base_uri": "https://localhost:8080/",
          "height": 309
        },
        "id": "RTFwKdVtvj7t",
        "outputId": "b11bdef3-3f27-4ed0-aa29-c130378639aa"
      },
      "source": [
        "x_values = pd.Series(range(0,len(ordersByUsers))) # серия из чисел от 0 до количества наблюдений в ordersByUsers\r\n",
        "plt.scatter(x_values, ordersByUsers['orders'], color='green')\r\n",
        "plt.title('Диаграмма числа заказов на одного пользователя', fontsize=15, pad=15)\r\n",
        "plt.xlabel('пользователи')\r\n",
        "plt.ylabel('количество заказов, шт.')\r\n",
        "plt.show()"
      ],
      "execution_count": null,
      "outputs": [
        {
          "output_type": "display_data",
          "data": {
            "image/png": "[encoded data removed]",
            "text/plain": [
              "<Figure size 432x288 with 1 Axes>"
            ]
          },
          "metadata": {
            "tags": [],
            "needs_background": "light"
          }
        }
      ]
    },
    {
      "cell_type": "markdown",
      "metadata": {
        "id": "x5FXM--uv2Q-"
      },
      "source": [
        "На грфике хорошо заметно, что больше всего пользователй, совершивших один заказ. Но так же есть пользователи с 2-3 заказами."
      ]
    },
    {
      "cell_type": "markdown",
      "metadata": {
        "id": "EXnT6pWOv6XN"
      },
      "source": [
        "### 7. Посчитайте 95-й и 99-й перцентили количества заказов на пользователя. Выберите границу для определения аномальных пользователей.\r\n",
        "<a id=\"item_7\"></a>"
      ]
    },
    {
      "cell_type": "code",
      "metadata": {
        "colab": {
          "base_uri": "https://localhost:8080/"
        },
        "id": "az4pptLUv__B",
        "outputId": "6a2e0e2e-e9ca-4933-b7f8-db14411fcaca"
      },
      "source": [
        "np.percentile(ordersByUsers['orders'], [90, 95, 99])"
      ],
      "execution_count": null,
      "outputs": [
        {
          "output_type": "execute_result",
          "data": {
            "text/plain": [
              "array([1., 1., 2.])"
            ]
          },
          "metadata": {
            "tags": []
          },
          "execution_count": 50
        }
      ]
    },
    {
      "cell_type": "markdown",
      "metadata": {
        "id": "Ii-etDr2wFSQ"
      },
      "source": [
        "Не более 5% пользователей оформляли более 1 заказов. И всего не более 1% оформаляли более 2 заказов."
      ]
    },
    {
      "cell_type": "markdown",
      "metadata": {
        "id": "I7O7O_eGwJ3x"
      },
      "source": [
        "### 8. Постройте точечный график стоимостей заказов. Сделайте выводы и предположения.\r\n",
        "<a id=\"item_8\"></a>"
      ]
    },
    {
      "cell_type": "markdown",
      "metadata": {
        "id": "E7itn-OCwNax"
      },
      "source": [
        "Если дорогой заказ попадёт в одну из групп теста, он сразу же исказит результаты и сделает победителем ту группу, где оказался. При этом такие покупки — редкость, исключение, которое проявилось не из-за тестирования гипотезы, а случайно. Изучим гистограмму распределения стоимостей заказов:"
      ]
    },
    {
      "cell_type": "code",
      "metadata": {
        "colab": {
          "base_uri": "https://localhost:8080/",
          "height": 311
        },
        "id": "Mqm62P7ywQ9r",
        "outputId": "b080fa83-a54a-4425-87b9-2e208777cf61"
      },
      "source": [
        "plt.hist(orders['revenue'])\r\n",
        "plt.title('Гистограмма распределения стоимостей заказов, руб.', fontsize=15, pad=15)\r\n",
        "plt.xlabel('стоимость заказа, руб.')\r\n",
        "plt.ylabel('количество покупателей')\r\n",
        "plt.show()"
      ],
      "execution_count": null,
      "outputs": [
        {
          "output_type": "display_data",
          "data": {
            "image/png": "[encoded data removed]",
            "text/plain": [
              "<Figure size 432x288 with 1 Axes>"
            ]
          },
          "metadata": {
            "tags": [],
            "needs_background": "light"
          }
        }
      ]
    },
    {
      "cell_type": "code",
      "metadata": {
        "colab": {
          "base_uri": "https://localhost:8080/",
          "height": 359
        },
        "id": "WmgjUkRdwcSB",
        "outputId": "58a243f2-3457-4d92-ba7a-27bc11fbab1c"
      },
      "source": [
        "orders.sort_values('revenue', ascending=False).head(10)"
      ],
      "execution_count": null,
      "outputs": [
        {
          "output_type": "execute_result",
          "data": {
            "text/html": [
              "<div>\n",
              "<style scoped>\n",
              "    .dataframe tbody tr th:only-of-type {\n",
              "        vertical-align: middle;\n",
              "    }\n",
              "\n",
              "    .dataframe tbody tr th {\n",
              "        vertical-align: top;\n",
              "    }\n",
              "\n",
              "    .dataframe thead th {\n",
              "        text-align: right;\n",
              "    }\n",
              "</style>\n",
              "<table border=\"1\" class=\"dataframe\">\n",
              "  <thead>\n",
              "    <tr style=\"text-align: right;\">\n",
              "      <th></th>\n",
              "      <th>transaction_id</th>\n",
              "      <th>visitor_id</th>\n",
              "      <th>date</th>\n",
              "      <th>revenue</th>\n",
              "      <th>group</th>\n",
              "    </tr>\n",
              "  </thead>\n",
              "  <tbody>\n",
              "    <tr>\n",
              "      <th>425</th>\n",
              "      <td>590470918</td>\n",
              "      <td>1920142716</td>\n",
              "      <td>2019-08-19</td>\n",
              "      <td>1294500</td>\n",
              "      <td>B</td>\n",
              "    </tr>\n",
              "    <tr>\n",
              "      <th>1196</th>\n",
              "      <td>3936777065</td>\n",
              "      <td>2108080724</td>\n",
              "      <td>2019-08-15</td>\n",
              "      <td>202740</td>\n",
              "      <td>B</td>\n",
              "    </tr>\n",
              "    <tr>\n",
              "      <th>1136</th>\n",
              "      <td>666610489</td>\n",
              "      <td>1307669133</td>\n",
              "      <td>2019-08-13</td>\n",
              "      <td>92550</td>\n",
              "      <td>A</td>\n",
              "    </tr>\n",
              "    <tr>\n",
              "      <th>744</th>\n",
              "      <td>3668308183</td>\n",
              "      <td>888512513</td>\n",
              "      <td>2019-08-27</td>\n",
              "      <td>86620</td>\n",
              "      <td>B</td>\n",
              "    </tr>\n",
              "    <tr>\n",
              "      <th>743</th>\n",
              "      <td>3603576309</td>\n",
              "      <td>4133034833</td>\n",
              "      <td>2019-08-09</td>\n",
              "      <td>67990</td>\n",
              "      <td>A</td>\n",
              "    </tr>\n",
              "    <tr>\n",
              "      <th>1103</th>\n",
              "      <td>1348774318</td>\n",
              "      <td>1164614297</td>\n",
              "      <td>2019-08-12</td>\n",
              "      <td>66350</td>\n",
              "      <td>A</td>\n",
              "    </tr>\n",
              "    <tr>\n",
              "      <th>1099</th>\n",
              "      <td>316924019</td>\n",
              "      <td>148427295</td>\n",
              "      <td>2019-08-12</td>\n",
              "      <td>65710</td>\n",
              "      <td>A</td>\n",
              "    </tr>\n",
              "    <tr>\n",
              "      <th>949</th>\n",
              "      <td>1347999392</td>\n",
              "      <td>887908475</td>\n",
              "      <td>2019-08-21</td>\n",
              "      <td>60450</td>\n",
              "      <td>A</td>\n",
              "    </tr>\n",
              "    <tr>\n",
              "      <th>940</th>\n",
              "      <td>2420050534</td>\n",
              "      <td>4003628586</td>\n",
              "      <td>2019-08-08</td>\n",
              "      <td>58550</td>\n",
              "      <td>B</td>\n",
              "    </tr>\n",
              "    <tr>\n",
              "      <th>131</th>\n",
              "      <td>3163614039</td>\n",
              "      <td>2254586615</td>\n",
              "      <td>2019-08-22</td>\n",
              "      <td>53904</td>\n",
              "      <td>A</td>\n",
              "    </tr>\n",
              "  </tbody>\n",
              "</table>\n",
              "</div>"
            ],
            "text/plain": [
              "      transaction_id  visitor_id       date  revenue group\n",
              "425        590470918  1920142716 2019-08-19  1294500     B\n",
              "1196      3936777065  2108080724 2019-08-15   202740     B\n",
              "1136       666610489  1307669133 2019-08-13    92550     A\n",
              "744       3668308183   888512513 2019-08-27    86620     B\n",
              "743       3603576309  4133034833 2019-08-09    67990     A\n",
              "1103      1348774318  1164614297 2019-08-12    66350     A\n",
              "1099       316924019   148427295 2019-08-12    65710     A\n",
              "949       1347999392   887908475 2019-08-21    60450     A\n",
              "940       2420050534  4003628586 2019-08-08    58550     B\n",
              "131       3163614039  2254586615 2019-08-22    53904     A"
            ]
          },
          "metadata": {
            "tags": []
          },
          "execution_count": 52
        }
      ]
    },
    {
      "cell_type": "markdown",
      "metadata": {
        "id": "t1y8Tr8_wwi9"
      },
      "source": [
        "Замечаем, что основная часть заказов не превышает 100 тысяч, но есть и заказы дороже 1 миллиона. Посмотрев на десятку самых дорогих заказов, видим, что всего два заказа выделяюся: 200 тысяч и 1,2 миллиона. Эти заказы оба принадлежат покупателям из группы В и могут дать ложное представление об успешности группы."
      ]
    },
    {
      "cell_type": "code",
      "metadata": {
        "colab": {
          "base_uri": "https://localhost:8080/",
          "height": 299
        },
        "id": "uRDf8J7dwz_z",
        "outputId": "c360b986-94ec-4dbc-81a3-5d4d3d62e880"
      },
      "source": [
        "x_values = pd.Series(range(0,len(orders['revenue'])))\r\n",
        "\r\n",
        "plt.scatter(x_values, orders['revenue']) \r\n",
        "plt.title('Диаграмма стоимостей заказов, руб.')\r\n",
        "plt.xlabel('пользователи')\r\n",
        "plt.ylabel('стоимость заказа, руб.')\r\n",
        "plt.show()"
      ],
      "execution_count": null,
      "outputs": [
        {
          "output_type": "display_data",
          "data": {
            "image/png": "[encoded data removed]",
            "text/plain": [
              "<Figure size 432x288 with 1 Axes>"
            ]
          },
          "metadata": {
            "tags": [],
            "needs_background": "light"
          }
        }
      ]
    },
    {
      "cell_type": "markdown",
      "metadata": {
        "id": "Tg-kUpE8w5FI"
      },
      "source": [
        "Как и говорили ранее всего два заказа выделяются из общей массы."
      ]
    },
    {
      "cell_type": "markdown",
      "metadata": {
        "id": "VhuAu6utw9M9"
      },
      "source": [
        "### 9. Посчитайте 95-й и 99-й перцентили стоимости заказов. Выберите границу для определения аномальных заказов.\r\n",
        "<a id=\"item_9\"></a>"
      ]
    },
    {
      "cell_type": "code",
      "metadata": {
        "colab": {
          "base_uri": "https://localhost:8080/"
        },
        "id": "3FrscrBlxAjA",
        "outputId": "c6a8f76a-85c4-4909-91f5-bc28de26461a"
      },
      "source": [
        "np.percentile(orders['revenue'], [90, 95, 99])"
      ],
      "execution_count": null,
      "outputs": [
        {
          "output_type": "execute_result",
          "data": {
            "text/plain": [
              "array([17990., 26785., 53904.])"
            ]
          },
          "metadata": {
            "tags": []
          },
          "execution_count": 54
        }
      ]
    },
    {
      "cell_type": "markdown",
      "metadata": {
        "id": "DO5B1NJPxE6z"
      },
      "source": [
        "Менее 1% совершали заказ на сумму более 54 тысяч."
      ]
    },
    {
      "cell_type": "markdown",
      "metadata": {
        "id": "LeAxG6jOxMht"
      },
      "source": [
        "### 10. Посчитайте статистическую значимость различий в конверсии между группами по «сырым» данным. Сделайте выводы и предположения.\r\n",
        "<a id=\"item_10\"></a>"
      ]
    },
    {
      "cell_type": "code",
      "metadata": {
        "colab": {
          "base_uri": "https://localhost:8080/",
          "height": 204
        },
        "id": "vQS3acyCxPeU",
        "outputId": "c579034e-99b3-47c9-a90c-1748a8b472f2"
      },
      "source": [
        "visitors.head()"
      ],
      "execution_count": null,
      "outputs": [
        {
          "output_type": "execute_result",
          "data": {
            "text/html": [
              "<div>\n",
              "<style scoped>\n",
              "    .dataframe tbody tr th:only-of-type {\n",
              "        vertical-align: middle;\n",
              "    }\n",
              "\n",
              "    .dataframe tbody tr th {\n",
              "        vertical-align: top;\n",
              "    }\n",
              "\n",
              "    .dataframe thead th {\n",
              "        text-align: right;\n",
              "    }\n",
              "</style>\n",
              "<table border=\"1\" class=\"dataframe\">\n",
              "  <thead>\n",
              "    <tr style=\"text-align: right;\">\n",
              "      <th></th>\n",
              "      <th>date</th>\n",
              "      <th>group</th>\n",
              "      <th>visitors</th>\n",
              "    </tr>\n",
              "  </thead>\n",
              "  <tbody>\n",
              "    <tr>\n",
              "      <th>0</th>\n",
              "      <td>2019-08-01</td>\n",
              "      <td>A</td>\n",
              "      <td>719</td>\n",
              "    </tr>\n",
              "    <tr>\n",
              "      <th>1</th>\n",
              "      <td>2019-08-02</td>\n",
              "      <td>A</td>\n",
              "      <td>619</td>\n",
              "    </tr>\n",
              "    <tr>\n",
              "      <th>2</th>\n",
              "      <td>2019-08-03</td>\n",
              "      <td>A</td>\n",
              "      <td>507</td>\n",
              "    </tr>\n",
              "    <tr>\n",
              "      <th>3</th>\n",
              "      <td>2019-08-04</td>\n",
              "      <td>A</td>\n",
              "      <td>717</td>\n",
              "    </tr>\n",
              "    <tr>\n",
              "      <th>4</th>\n",
              "      <td>2019-08-05</td>\n",
              "      <td>A</td>\n",
              "      <td>756</td>\n",
              "    </tr>\n",
              "  </tbody>\n",
              "</table>\n",
              "</div>"
            ],
            "text/plain": [
              "        date group  visitors\n",
              "0 2019-08-01     A       719\n",
              "1 2019-08-02     A       619\n",
              "2 2019-08-03     A       507\n",
              "3 2019-08-04     A       717\n",
              "4 2019-08-05     A       756"
            ]
          },
          "metadata": {
            "tags": []
          },
          "execution_count": 55
        }
      ]
    },
    {
      "cell_type": "code",
      "metadata": {
        "id": "q4MTpIBDxbrm"
      },
      "source": [
        "visitorsADaily = visitors[visitors['group']=='A'][['date', 'visitors']]\r\n",
        "visitorsADaily.columns = ['date', 'visitorsPerDateA']\r\n",
        "\r\n",
        "visitorsACummulative = visitorsADaily.apply(lambda x: visitorsADaily[visitorsADaily['date'] <= x['date']].agg({'date' : 'max', 'visitorsPerDateA' : 'sum'}), axis=1)\r\n",
        "visitorsACummulative.columns = ['date', 'visitorsCummulativeA']\r\n",
        "\r\n",
        "visitorsBDaily = visitors[visitors['group']=='B'][['date', 'visitors']]\r\n",
        "visitorsBDaily.columns = ['date', 'visitorsPerDateB']\r\n",
        "\r\n",
        "visitorsBCummulative = visitorsBDaily.apply(lambda x: visitorsBDaily[visitorsBDaily['date'] <= x['date']].agg({'date' : 'max', 'visitorsPerDateB' : 'sum'}), axis=1)\r\n",
        "visitorsBCummulative.columns = ['date', 'visitorsCummulativeB']\r\n",
        "\r\n",
        "ordersADaily = orders[orders['group']=='A'][['date', 'transaction_id', 'visitor_id', 'revenue']]\\\r\n",
        "    .groupby('date', as_index=False)\\\r\n",
        "    .agg({'transaction_id' : pd.Series.nunique, 'revenue' : 'sum'})\r\n",
        "ordersADaily.columns = ['date', 'ordersPerDateA', 'revenuePerDateA']\r\n",
        "\r\n",
        "ordersACummulative = ordersADaily.apply(\r\n",
        "    lambda x: \\\r\n",
        "        ordersADaily[ordersADaily['date'] <= x['date']]\\\r\n",
        "            .agg({\r\n",
        "                'date' : 'max',\r\n",
        "                'ordersPerDateA' : 'sum',\r\n",
        "                'revenuePerDateA' : 'sum'}), axis=1).sort_values(by=['date'])\r\n",
        "ordersACummulative.columns = ['date', 'ordersCummulativeA', 'revenueCummulativeA']\r\n",
        "\r\n",
        "ordersBDaily = orders[orders['group']=='B'][['date', 'transaction_id', 'visitor_id', 'revenue']]\\\r\n",
        "    .groupby('date', as_index=False)\\\r\n",
        "    .agg({'transaction_id' : pd.Series.nunique, 'revenue' : 'sum'})\r\n",
        "ordersBDaily.columns = ['date', 'ordersPerDateB', 'revenuePerDateB']\r\n",
        "\r\n",
        "ordersBCummulative = ordersBDaily.apply(\r\n",
        "    lambda x: \\\r\n",
        "        ordersBDaily[ordersBDaily['date'] <= x['date']]\\\r\n",
        "            .agg({\r\n",
        "                'date' : 'max',\r\n",
        "                'ordersPerDateB' : 'sum',\r\n",
        "                'revenuePerDateB' : 'sum'}), axis=1).sort_values(by=['date'])\r\n",
        "ordersBCummulative.columns = ['date', 'ordersCummulativeB', 'revenueCummulativeB']\r\n",
        "\r\n",
        "data = ordersADaily.merge(ordersBDaily, left_on='date', right_on='date', how='left')\\\r\n",
        "    .merge(ordersACummulative, left_on='date', right_on='date', how='left')\\\r\n",
        "    .merge(ordersBCummulative, left_on='date', right_on='date', how='left')\\\r\n",
        "    .merge(visitorsADaily, left_on='date', right_on='date', how='left')\\\r\n",
        "    .merge(visitorsBDaily, left_on='date', right_on='date', how='left')\\\r\n",
        "    .merge(visitorsACummulative, left_on='date', right_on='date', how='left')\\\r\n",
        "    .merge(visitorsBCummulative, left_on='date', right_on='date', how='left')"
      ],
      "execution_count": null,
      "outputs": []
    },
    {
      "cell_type": "code",
      "metadata": {
        "colab": {
          "base_uri": "https://localhost:8080/",
          "height": 309
        },
        "id": "_ECd4NnexqaN",
        "outputId": "3054e949-f5d2-4f59-9bd6-2e6825da4af6"
      },
      "source": [
        "data.head()"
      ],
      "execution_count": null,
      "outputs": [
        {
          "output_type": "execute_result",
          "data": {
            "text/html": [
              "<div>\n",
              "<style scoped>\n",
              "    .dataframe tbody tr th:only-of-type {\n",
              "        vertical-align: middle;\n",
              "    }\n",
              "\n",
              "    .dataframe tbody tr th {\n",
              "        vertical-align: top;\n",
              "    }\n",
              "\n",
              "    .dataframe thead th {\n",
              "        text-align: right;\n",
              "    }\n",
              "</style>\n",
              "<table border=\"1\" class=\"dataframe\">\n",
              "  <thead>\n",
              "    <tr style=\"text-align: right;\">\n",
              "      <th></th>\n",
              "      <th>date</th>\n",
              "      <th>ordersPerDateA</th>\n",
              "      <th>revenuePerDateA</th>\n",
              "      <th>ordersPerDateB</th>\n",
              "      <th>revenuePerDateB</th>\n",
              "      <th>ordersCummulativeA</th>\n",
              "      <th>revenueCummulativeA</th>\n",
              "      <th>ordersCummulativeB</th>\n",
              "      <th>revenueCummulativeB</th>\n",
              "      <th>visitorsPerDateA</th>\n",
              "      <th>visitorsPerDateB</th>\n",
              "      <th>visitorsCummulativeA</th>\n",
              "      <th>visitorsCummulativeB</th>\n",
              "    </tr>\n",
              "  </thead>\n",
              "  <tbody>\n",
              "    <tr>\n",
              "      <th>0</th>\n",
              "      <td>2019-08-01</td>\n",
              "      <td>23</td>\n",
              "      <td>142779</td>\n",
              "      <td>17</td>\n",
              "      <td>59758</td>\n",
              "      <td>23</td>\n",
              "      <td>142779</td>\n",
              "      <td>17</td>\n",
              "      <td>59758</td>\n",
              "      <td>719</td>\n",
              "      <td>713</td>\n",
              "      <td>719</td>\n",
              "      <td>713</td>\n",
              "    </tr>\n",
              "    <tr>\n",
              "      <th>1</th>\n",
              "      <td>2019-08-02</td>\n",
              "      <td>19</td>\n",
              "      <td>91602</td>\n",
              "      <td>23</td>\n",
              "      <td>162043</td>\n",
              "      <td>42</td>\n",
              "      <td>234381</td>\n",
              "      <td>40</td>\n",
              "      <td>221801</td>\n",
              "      <td>619</td>\n",
              "      <td>581</td>\n",
              "      <td>1338</td>\n",
              "      <td>1294</td>\n",
              "    </tr>\n",
              "    <tr>\n",
              "      <th>2</th>\n",
              "      <td>2019-08-03</td>\n",
              "      <td>24</td>\n",
              "      <td>112473</td>\n",
              "      <td>14</td>\n",
              "      <td>67049</td>\n",
              "      <td>66</td>\n",
              "      <td>346854</td>\n",
              "      <td>54</td>\n",
              "      <td>288850</td>\n",
              "      <td>507</td>\n",
              "      <td>509</td>\n",
              "      <td>1845</td>\n",
              "      <td>1803</td>\n",
              "    </tr>\n",
              "    <tr>\n",
              "      <th>3</th>\n",
              "      <td>2019-08-04</td>\n",
              "      <td>11</td>\n",
              "      <td>41176</td>\n",
              "      <td>14</td>\n",
              "      <td>96890</td>\n",
              "      <td>77</td>\n",
              "      <td>388030</td>\n",
              "      <td>68</td>\n",
              "      <td>385740</td>\n",
              "      <td>717</td>\n",
              "      <td>770</td>\n",
              "      <td>2562</td>\n",
              "      <td>2573</td>\n",
              "    </tr>\n",
              "    <tr>\n",
              "      <th>4</th>\n",
              "      <td>2019-08-05</td>\n",
              "      <td>22</td>\n",
              "      <td>86383</td>\n",
              "      <td>21</td>\n",
              "      <td>89908</td>\n",
              "      <td>99</td>\n",
              "      <td>474413</td>\n",
              "      <td>89</td>\n",
              "      <td>475648</td>\n",
              "      <td>756</td>\n",
              "      <td>707</td>\n",
              "      <td>3318</td>\n",
              "      <td>3280</td>\n",
              "    </tr>\n",
              "  </tbody>\n",
              "</table>\n",
              "</div>"
            ],
            "text/plain": [
              "        date  ordersPerDateA  revenuePerDateA  ordersPerDateB  \\\n",
              "0 2019-08-01              23           142779              17   \n",
              "1 2019-08-02              19            91602              23   \n",
              "2 2019-08-03              24           112473              14   \n",
              "3 2019-08-04              11            41176              14   \n",
              "4 2019-08-05              22            86383              21   \n",
              "\n",
              "   revenuePerDateB  ordersCummulativeA  revenueCummulativeA  \\\n",
              "0            59758                  23               142779   \n",
              "1           162043                  42               234381   \n",
              "2            67049                  66               346854   \n",
              "3            96890                  77               388030   \n",
              "4            89908                  99               474413   \n",
              "\n",
              "   ordersCummulativeB  revenueCummulativeB  visitorsPerDateA  \\\n",
              "0                  17                59758               719   \n",
              "1                  40               221801               619   \n",
              "2                  54               288850               507   \n",
              "3                  68               385740               717   \n",
              "4                  89               475648               756   \n",
              "\n",
              "   visitorsPerDateB  visitorsCummulativeA  visitorsCummulativeB  \n",
              "0               713                   719                   713  \n",
              "1               581                  1338                  1294  \n",
              "2               509                  1845                  1803  \n",
              "3               770                  2562                  2573  \n",
              "4               707                  3318                  3280  "
            ]
          },
          "metadata": {
            "tags": []
          },
          "execution_count": 57
        }
      ]
    },
    {
      "cell_type": "markdown",
      "metadata": {
        "id": "_fLPU0Afxv6L"
      },
      "source": [
        "Создадим переменные ordersByUsersA и ordersByUsersB со столбцами ['userId', 'orders']. В них для пользователей, которые заказывали хотя бы 1 раз, укажем число совершённых заказов."
      ]
    },
    {
      "cell_type": "code",
      "metadata": {
        "id": "4le27Dglx0aD"
      },
      "source": [
        "ordersByUsersA = orders[orders['group']=='A'].groupby('visitor_id', as_index=False).agg({'transaction_id' : pd.Series.nunique})\r\n",
        "ordersByUsersA.columns = ['visitor_id', 'orders']\r\n",
        "\r\n",
        "ordersByUsersB = orders[orders['group']=='B'].groupby('visitor_id', as_index=False).agg({'transaction_id' : pd.Series.nunique})\r\n",
        "ordersByUsersB.columns = ['visitor_id', 'orders']"
      ],
      "execution_count": null,
      "outputs": []
    },
    {
      "cell_type": "markdown",
      "metadata": {
        "id": "iODgHNQOx4kc"
      },
      "source": [
        "Объявим переменные sampleA и sampleB, в которых пользователям из разных групп будет соответствовать количество заказов. Тем, кто ничего не заказал, будут соответствовать нули. Это нужно, чтобы подготовить выборки к проверке критерием Манна-Уитни."
      ]
    },
    {
      "cell_type": "markdown",
      "metadata": {
        "id": "XR5_fXS2x8k9"
      },
      "source": [
        "##### - Зададим уровень статистической значимости примем alpha = 0.05\r\n",
        "##### - Сформулируем нулевую гипотезу H0: Между группами А и В нет различий или они незначительны.\r\n",
        "##### - Соответственно альтернативная гипотеза: Различия между группами А и В есть."
      ]
    },
    {
      "cell_type": "code",
      "metadata": {
        "id": "u-zz0vIjyCEV"
      },
      "source": [
        "sampleA = pd.concat([ordersByUsersA['orders'],pd.Series(0, index=np.arange(data['visitorsPerDateA'].sum() - len(ordersByUsersA['orders'])), name='orders')],axis=0)\r\n",
        "\r\n",
        "sampleB = pd.concat([ordersByUsersB['orders'],pd.Series(0, index=np.arange(data['visitorsPerDateB'].sum() - len(ordersByUsersB['orders'])), name='orders')],axis=0) "
      ],
      "execution_count": null,
      "outputs": []
    },
    {
      "cell_type": "code",
      "metadata": {
        "colab": {
          "base_uri": "https://localhost:8080/"
        },
        "id": "I5EwMoOgyGxc",
        "outputId": "9a42d302-7632-4ab9-da4b-0a8ffae1db0a"
      },
      "source": [
        "print(\"{0:.3f}\".format(stats.mannwhitneyu(sampleA, sampleB)[1]))\r\n",
        "\r\n",
        "print(\"{0:.3f}\".format(sampleB.mean()/sampleA.mean()-1))"
      ],
      "execution_count": null,
      "outputs": [
        {
          "output_type": "stream",
          "text": [
            "0.006\n",
            "0.160\n"
          ],
          "name": "stdout"
        }
      ]
    },
    {
      "cell_type": "markdown",
      "metadata": {
        "id": "aB2QYkjCyNTc"
      },
      "source": [
        "По \"сырым\" данным p-value равен 0.006, что меньше 0.05, следовательно различия между группами А и В есть.\r\n",
        "Отвергаем нулевую гипотезу!!!"
      ]
    },
    {
      "cell_type": "markdown",
      "metadata": {
        "id": "R13t9T7jyVyZ"
      },
      "source": [
        "### 11. Посчитайте статистическую значимость различий в среднем чеке заказа между группами по «сырым» данным. Сделайте выводы и предположения.\r\n",
        "<a id=\"item_11\"></a>"
      ]
    },
    {
      "cell_type": "markdown",
      "metadata": {
        "id": "Ab8AI23_yaQS"
      },
      "source": [
        "Нулевая гипотеза Н0: Различий между группами А и В в среднем чеке заказа нет.\r\n",
        "Альтернативная гипотеза: Различия между группами в среднем чеке есть.\r\n",
        "Чтобы рассчитать статистическую значимость различий в среднем чеке между сегментами, передадим критерию mannwhitneyu() данные о выручке с заказов."
      ]
    },
    {
      "cell_type": "code",
      "metadata": {
        "colab": {
          "base_uri": "https://localhost:8080/",
          "height": 35
        },
        "id": "dkddcnpnyjf7",
        "outputId": "8015ba7a-7851-4b77-b0a0-5f37f13c9e07"
      },
      "source": [
        "\"{0:.3f}\".format(stats.mannwhitneyu(orders[orders['group']=='A']['revenue'], orders[orders['group']=='B']['revenue'])[1])"
      ],
      "execution_count": null,
      "outputs": [
        {
          "output_type": "execute_result",
          "data": {
            "application/vnd.google.colaboratory.intrinsic+json": {
              "type": "string"
            },
            "text/plain": [
              "'0.415'"
            ]
          },
          "metadata": {
            "tags": []
          },
          "execution_count": 61
        }
      ]
    },
    {
      "cell_type": "markdown",
      "metadata": {
        "id": "-eOgaK47yrbR"
      },
      "source": [
        "p-value значительно больше 0.05. Следовательно в среднем чеке нет различий.\r\n",
        "Принимаем нулевую гипотезу!\r\n",
        "А теперь найдём относительные различия в среднем чеке между группами:"
      ]
    },
    {
      "cell_type": "code",
      "metadata": {
        "colab": {
          "base_uri": "https://localhost:8080/",
          "height": 35
        },
        "id": "5azRNWCMy1ez",
        "outputId": "6fcea69c-f4ef-4f4b-a443-aa037ee5ed99"
      },
      "source": [
        "\"{0:.3f}\".format(orders[orders['group']=='B']['revenue'].mean()/orders[orders['group']=='A']['revenue'].mean()-1)"
      ],
      "execution_count": null,
      "outputs": [
        {
          "output_type": "execute_result",
          "data": {
            "application/vnd.google.colaboratory.intrinsic+json": {
              "type": "string"
            },
            "text/plain": [
              "'0.287'"
            ]
          },
          "metadata": {
            "tags": []
          },
          "execution_count": 62
        }
      ]
    },
    {
      "cell_type": "markdown",
      "metadata": {
        "id": "mR7dw0wgy41a"
      },
      "source": [
        "Разница между группами достаточно большая. Значение группы В на 28% больше группы А."
      ]
    },
    {
      "cell_type": "markdown",
      "metadata": {
        "id": "1T-Vp0Q3y85t"
      },
      "source": [
        "### 12. Посчитайте статистическую значимость различий в конверсии между группами по «очищенным» данным. Сделайте выводы и предположения.\r\n",
        "<a id=\"item_12\"></a>"
      ]
    },
    {
      "cell_type": "markdown",
      "metadata": {
        "id": "whjNS33RzA-c"
      },
      "source": [
        "Найденные выше 95-й и 99-й перцентили средних чеков равны 26785 и 53904 рублям. А 95-й и 99-й перцентили количества заказов на одного пользователя равны 2 и 4 заказа на пользователя. Примем за аномальных пользователей тех, кто совершил от 2 заказов (то есть 3 и более) или совершил заказ дороже 54 000 рублей. Так мы уберём 1% пользователей с наибольшим числом заказов и 1% пользователей с дорогими заказами. Сделаем срезы пользователей с числом заказов больше 2 — usersWithManyOrders и пользователей, совершивших заказы дороже 54 000 — usersWithExpensiveOrders. Объединим их в таблице abnormalUsers. Узнаем, сколько всего аномальных пользователей методом shape().\r\n",
        "\r\n"
      ]
    },
    {
      "cell_type": "code",
      "metadata": {
        "colab": {
          "base_uri": "https://localhost:8080/"
        },
        "id": "E1XXfy53zGAV",
        "outputId": "0f5b9bf6-814b-4a86-b102-d57cec408f94"
      },
      "source": [
        "usersWithManyOrders = pd.concat([ordersByUsersA[ordersByUsersA['orders'] > 2]['visitor_id'], ordersByUsersB[ordersByUsersB['orders'] > 2]['visitor_id']], axis = 0)\r\n",
        "usersWithExpensiveOrders = orders[orders['revenue'] > 54000]['visitor_id']\r\n",
        "abnormalUsers = pd.concat([usersWithManyOrders, usersWithExpensiveOrders], axis = 0).drop_duplicates().sort_values()\r\n",
        "print(abnormalUsers.head(5))\r\n",
        "print(abnormalUsers.shape) "
      ],
      "execution_count": null,
      "outputs": [
        {
          "output_type": "stream",
          "text": [
            "1099    148427295\n",
            "33      249864742\n",
            "58      611059232\n",
            "949     887908475\n",
            "744     888512513\n",
            "Name: visitor_id, dtype: int64\n",
            "(16,)\n"
          ],
          "name": "stdout"
        }
      ]
    },
    {
      "cell_type": "markdown",
      "metadata": {
        "id": "09gbsFtKzJOs"
      },
      "source": [
        "19 аномальных пользователей. Узнаем, как их действия повлияли на результаты теста. Посчитаем статистическую значимость различий в конверсии между группами теста по очищенным данным. Сначала подготовим выборки количества заказов по пользователям по группам теста:"
      ]
    },
    {
      "cell_type": "code",
      "metadata": {
        "id": "sAI45vXezMpE"
      },
      "source": [
        "sampleAFiltered = pd.concat([ordersByUsersA[np.logical_not(ordersByUsersA['visitor_id'].isin(abnormalUsers))]['orders'],pd.Series(0, index=np.arange(data['visitorsPerDateA'].sum() - len(ordersByUsersA['orders'])),name='orders')],axis=0)\r\n",
        "\r\n",
        "sampleBFiltered = pd.concat([ordersByUsersB[np.logical_not(ordersByUsersB['visitor_id'].isin(abnormalUsers))]['orders'],pd.Series(0, index=np.arange(data['visitorsPerDateB'].sum() - len(ordersByUsersB['orders'])),name='orders')],axis=0) "
      ],
      "execution_count": null,
      "outputs": []
    },
    {
      "cell_type": "markdown",
      "metadata": {
        "id": "BTVlfuFrzRz1"
      },
      "source": [
        "Сформулируем нулевую гипотезу:\r\n",
        "\r\n",
        "Н0 - Различий в данных между группами А и В нет.\r\n",
        "Соотсетсвенно альтернативная гипотеза гласит, что различия в конверсии между группами есть.\r\n",
        "Применим статистический критерий Манна-Уитни к полученным выборкам:"
      ]
    },
    {
      "cell_type": "code",
      "metadata": {
        "colab": {
          "base_uri": "https://localhost:8080/"
        },
        "id": "ogvXvRZIzWGd",
        "outputId": "9bb813d5-56ea-4870-82f3-02e576aa1e40"
      },
      "source": [
        "print(\"{0:.3f}\".format(stats.mannwhitneyu(sampleAFiltered, sampleBFiltered)[1]))"
      ],
      "execution_count": null,
      "outputs": [
        {
          "output_type": "stream",
          "text": [
            "0.004\n"
          ],
          "name": "stdout"
        }
      ]
    },
    {
      "cell_type": "markdown",
      "metadata": {
        "id": "psahXjhpzZYV"
      },
      "source": [
        "Получивийеся p-value меньше уровня статистической значимости, следовательно отвергаем нулевую гипотезу. Различия между группами есть!"
      ]
    },
    {
      "cell_type": "code",
      "metadata": {
        "colab": {
          "base_uri": "https://localhost:8080/"
        },
        "id": "9nNAztKmzmsR",
        "outputId": "394ae700-e7d5-4a35-869f-e486306bc9eb"
      },
      "source": [
        "print(\"{0:.3f}\".format(sampleBFiltered.mean()/sampleAFiltered.mean()-1))"
      ],
      "execution_count": null,
      "outputs": [
        {
          "output_type": "stream",
          "text": [
            "0.189\n"
          ],
          "name": "stdout"
        }
      ]
    },
    {
      "cell_type": "markdown",
      "metadata": {
        "id": "VEvFE-E0zjMl"
      },
      "source": [
        "Средняя конверсия группы В на 18% выше группы А."
      ]
    },
    {
      "cell_type": "markdown",
      "metadata": {
        "id": "AW4868fMzsdx"
      },
      "source": [
        "### 13. Посчитайте статистическую значимость различий в среднем чеке заказа между группами по «очищенным» данным. Сделайте выводы и предположения.\r\n",
        "<a id=\"item_13\"></a>"
      ]
    },
    {
      "cell_type": "markdown",
      "metadata": {
        "id": "jTde_Lrizwrh"
      },
      "source": [
        "Сформулируем нулевую гипотезу:\r\n",
        "\r\n",
        "Н0 - Различий в среднем чеке группы А и В по \"очищенным\" данным нет.\r\n",
        "Альтернативная гипотеза - различия в среднем чеке между группами есть."
      ]
    },
    {
      "cell_type": "code",
      "metadata": {
        "colab": {
          "base_uri": "https://localhost:8080/"
        },
        "id": "8y9lOET2z-xI",
        "outputId": "f352eee5-3128-4dad-aecc-ecb1a5bf75b3"
      },
      "source": [
        "print(\"{0:.3f}\".format(stats.mannwhitneyu(\r\n",
        "    orders[np.logical_and(\r\n",
        "        orders['group']=='A',\r\n",
        "        np.logical_not(orders['visitor_id'].isin(abnormalUsers)))]['revenue'],\r\n",
        "    orders[np.logical_and(\r\n",
        "        orders['group']=='B',\r\n",
        "        np.logical_not(orders['visitor_id'].isin(abnormalUsers)))]['revenue'])[1]))\r\n",
        "\r\n",
        "print(\"{0:.3f}\".format(\r\n",
        "    orders[np.logical_and(orders['group']=='B',np.logical_not(orders['visitor_id'].isin(abnormalUsers)))]['revenue'].mean()/\r\n",
        "    orders[np.logical_and(\r\n",
        "        orders['group']=='A',\r\n",
        "        np.logical_not(orders['visitor_id'].isin(abnormalUsers)))]['revenue'].mean() - 1)) "
      ],
      "execution_count": null,
      "outputs": [
        {
          "output_type": "stream",
          "text": [
            "0.394\n",
            "-0.032\n"
          ],
          "name": "stdout"
        }
      ]
    },
    {
      "cell_type": "markdown",
      "metadata": {
        "id": "7V0DEM8I0Ccz"
      },
      "source": [
        "Различий в среднем чеке между группами А и В по \"очищенным\" данным нет. P-value больше 0.05. Следовательно не можем отвергнуть нулевую гипотезу. Относительное различие между группами небольшое (3%)."
      ]
    },
    {
      "cell_type": "markdown",
      "metadata": {
        "id": "7JT3XQTb0IiT"
      },
      "source": [
        "### 14. Примите решение по результатам теста и объясните его. \r\n",
        "<a id=\"item_14\"></a>\r\n",
        "Варианты решений: \r\n",
        "- 1. Остановить тест, зафиксировать победу одной из групп. \r\n",
        "- 2. Остановить тест, зафиксировать отсутствие различий между группами. \r\n",
        "- 3. Продолжить тест."
      ]
    },
    {
      "cell_type": "markdown",
      "metadata": {
        "id": "23EMhFz90Tiw"
      },
      "source": [
        "В данном проекте мы проанализировали полученные результаты проведенного A/B-теста. В нашем распоряжении были данные двух групп по заказам и посещениям. Для того, чтобы определить результаты какой группы лучше и стоит ли вносить изменения, мы проверили статистические гипотезы. \r\n",
        "- Первым шагом мы провели приоритизацию гипотез с помощью двух фреймворков ICE и RICE. Сравнив приоритизицию гипотез во фреймворках ICE и RICE, можем сделать следующие выводы:\r\n",
        "- гипотезы по созданию новых каналов привлечения и форм подписки в обоих случаях входят в тройку лидеров. Создание форм подписки  с третьего места в ICE поднялся на первое в RICE в сязи с максимальным охватом пользователей (reach = 10). Интересно, что гипотеза проведения акции на день рождения с первого места опустилась на 5 в RICE. Несмотря на высокие impact и confidence, из-за того, что эта акция непостоянна и для клиента актуальна только раз в году, охват у нее минимальный (reach = 1). Таким образом, отличие в приоритизации гипотез в ICE от RICE зависит от охвата пользователей.\r\n",
        "- Перед проверкой статистических гипотез, мы проанализировали данные и построили графики кумулятивных метрик. Кумулятивная выручка обеих групп стабильно возрастает, но в группе В в один из дней (19 августа) наблюдался резкий рост, что вероятнее всего связано с крупными заказами. \r\n",
        "- График кумулятивного среднего чека так же демонстрирует резкое увеличение в группе В в этот день, что подтверждает именно дорогие заказы, а не увеличение количества заказов. Во второй половине графика наблюдается плавное снижение среднего чека в группе В.\r\n",
        "- Проанализировав график кумулятивной конверсии, заметно, что конверсия в группе В выше, но к концу графика начинает снижаться.\r\n",
        "- Сформировали нулевую гипотезу Н0 (группы А и В не отличаются или эти различия незначительны) и альтернативную гипотезу (значения групп А и В имеют значительные различия).\r\n",
        "- в результате получили данные p-value по сырым и очищенным (от больших выбросов) данным.\r\n",
        "- в случае с конверсией заказов p-value c 0.006 уменьшился до 0.004. Оба значения меньше заданного уровня статистической значимости (0.05), следовательно различия между данными группы А и В есть. Разница между сегментами так же несильно изменилась (с 16% увеличилась до 18%)\r\n",
        "- по среднему чеку получили следующие данные: p-value уменьшился незначительно с 0.415 по сырым данным до 0.394 по очищенным данным. Значение p-value больше 0.05, значит мы не можем отвергнуть нулевую гипотезу, различий между группами нет. Разница между группами очень резко упала. При анализе сырых данных группа В была выше группы А на 28%, но при очистке данных от выбросов разницы между группами почти не наблюдается (3%). Что подтверждает, что несколько крупных заказов, о которых мы говорили выше (особенно на 200 тысяч и 1.2 миллиона, относящиеся к группе В) сильно исказили выводы.\r\n",
        " ### Итог:\r\n",
        "- Как мне кажется, тест стоит останавливать и признать победу группы В. Несмотря на то, что по графикам кумулятивных метрик, как в конверсии, так и в среднем чеке в последние дни теста наблюдалось снижение значений, вероятно связано это было с предшествующим резким ростом из-за крупных заказов, что скорее всего способствовало искажению данных. Но впоследствие очистив данные от больших выбросов и проведя статистические тесты, получили значения, показывающие преимущество группы В. Во-первых, конверсия группы В на 15% выше группы А и их разница имеет статистическую значимость. Во-вторых, средний чек в группах не различается, что указывает на то, что покупки в обеих группах равноценны, но вот самих покупок в группе В было больше. Поэтому делаем вывод, что изменения, которые мы хотим внести положительным образом повлияют на бизнес."
      ]
    },
    {
      "cell_type": "code",
      "metadata": {
        "id": "Z0h8lBE-0XZz"
      },
      "source": [
        ""
      ],
      "execution_count": null,
      "outputs": []
    }
  ]
}